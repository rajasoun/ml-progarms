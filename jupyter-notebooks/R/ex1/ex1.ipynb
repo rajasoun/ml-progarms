{
 "cells": [
  {
   "cell_type": "markdown",
   "metadata": {},
   "source": [
    "# Function Definition"
   ]
  },
  {
   "cell_type": "code",
   "execution_count": null,
   "metadata": {
    "ExecuteTime": {
     "start_time": "2018-08-06T10:40:45.527Z"
    },
    "code_folding": []
   },
   "outputs": [],
   "source": [
    "### cleanUp\n",
    "cleanUp <- function(){}\n",
    "    rm(list = ls())\n",
    "    cat(rep(\"\\n\", 50))\n",
    "}"
   ]
  },
  {
   "cell_type": "code",
   "execution_count": null,
   "metadata": {
    "ExecuteTime": {
     "start_time": "2018-08-06T10:40:02.607Z"
    },
    "code_folding": []
   },
   "outputs": [],
   "source": [
    "### featureNormalize\n",
    "featureNormalize <- function(X) {\n",
    "  #FEATURENORMALIZE Normalizes the features in X\n",
    "  #   FEATURENORMALIZE(X) returns a normalized version of X where\n",
    "  #   the mean value of each feature is 0 and the standard deviation\n",
    "  #   is 1. This is often a good preprocessing step to do when\n",
    "  #   working with learning algorithms.\n",
    "  \n",
    "  # You need to set these values correctly\n",
    "  X_norm <- X\n",
    "  mu <- rep(0,dim(X)[2])\n",
    "  sigma <- rep(0,dim(X)[2])\n",
    "  \n",
    "  # ---------------------- YOUR CODE HERE ----------------------\n",
    "  # Instructions: First, for each feature dimension, compute the mean\n",
    "  #               of the feature and subtract it from the dataset,\n",
    "  #               storing the mean value in mu. Next, compute the\n",
    "  #               standard deviation of each feature and divide\n",
    "  #               each feature by it's standard deviation, storing\n",
    "  #               the standard deviation in sigma.\n",
    "  #\n",
    "  #               Note that X is a matrix where each column is a\n",
    "  #               feature and each row is an example. You need\n",
    "  #               to perform the normalization separately for\n",
    "  #               each feature.\n",
    "  #\n",
    "  # Hint: You might find the 'mean' and 'sd' functions useful.\n",
    "  #\n",
    "  \n",
    "  # mu\n",
    "  for (p in 1:dim(X)[2]) {\n",
    "    mu[p] <- mean(X[,p])\n",
    "  }\n",
    "  \n",
    "  # sigma\n",
    "  for (p in 1:dim(X)[2]) {\n",
    "    sigma[p] <- sd(X[,p])\n",
    "  }\n",
    "  \n",
    "  # X_norm\n",
    "  for (p in 1:dim(X)[2]) {\n",
    "    if (sigma[p] != 0)\n",
    "      for (i in 1:dim(X)[1])\n",
    "        X_norm[i, p] <- (X[i, p] - mu[p]) / sigma[p]\n",
    "      else\n",
    "        # sigma(p) == 0 <=> forall i, j,  X(i, p) == X(j, p) == mu(p)\n",
    "        # In this case,  normalized values are all zero.\n",
    "        # (mean is 0,  standard deviation is sigma(=0))\n",
    "        X_norm[, p] <- t(rep(0,dim(X)[1]))\n",
    "  }\n",
    "  \n",
    "  list(X_norm = X_norm, mu = mu, sigma = sigma)\n",
    "  # ------------------------------------------------------------\n",
    "  \n",
    "}"
   ]
  },
  {
   "cell_type": "code",
   "execution_count": null,
   "metadata": {
    "ExecuteTime": {
     "start_time": "2018-08-06T10:40:03.214Z"
    },
    "code_folding": []
   },
   "outputs": [],
   "source": [
    "### computeCostMulti <- function(X, y, theta) {\n",
    "  #COMPUTECOSTMULTI Compute cost for linear regression with multiple variables\n",
    "  #   J <- COMPUTECOSTMULTI(X, y, theta) computes the cost of using theta as the\n",
    "  #   parameter for linear regression to fit the data points in X and y\n",
    "  \n",
    "  # Initialize some useful values\n",
    "  m <- length(y) # number of training examples\n",
    "  \n",
    "  # You need to return the following variables correctly\n",
    "  J <- 0\n",
    "  \n",
    "  # ---------------------- YOUR CODE HERE ----------------------\n",
    "  # Instructions: Compute the cost of a particular choice of theta\n",
    "  #               You should set J to the cost.\n",
    "  \n",
    "  dif <- X %*% theta - y\n",
    "  J <- (t(dif) %*% dif) / (2 * m)\n",
    "  J\n",
    "  \n",
    "  # -------------------------------------------------------------------------\n",
    "        \n",
    "}\n",
    "\n"
   ]
  },
  {
   "cell_type": "code",
   "execution_count": null,
   "metadata": {
    "ExecuteTime": {
     "start_time": "2018-08-06T10:40:03.773Z"
    }
   },
   "outputs": [],
   "source": [
    "### gradientDescentMulti <- function(X, y, theta, alpha, num_iters) {\n",
    "  #GRADIENTDESCENTMULTI Performs gradient descent to learn theta\n",
    "  #   theta <- GRADIENTDESCENTMULTI(x, y, theta, alpha, num_iters) updates theta by\n",
    "  #   taking num_iters gradient steps with learning rate alpha\n",
    "  \n",
    "  # Initialize some useful values\n",
    "  m <- length(y) # number of training examples\n",
    "  J_history <- rep(0,num_iters)\n",
    "  \n",
    "  for (iter in 1:num_iters) {\n",
    "    # ---------------------- YOUR CODE HERE ----------------------\n",
    "    # Instructions: Perform a single gradient step on the parameter vector\n",
    "    #               theta.\n",
    "    #\n",
    "    # Hint: While debugging, it can be useful to print out the values\n",
    "    #       of the cost function (computeCostMulti) and gradient here.\n",
    "    #\n",
    "    \n",
    "    # create a copy of theta for simultaneous update.\n",
    "    theta_prev <- theta\n",
    "    \n",
    "    # number of features.\n",
    "    p <- dim(X)[2]\n",
    "    \n",
    "    for (j in 1:p) {\n",
    "      # calculate dJ/d(theta_j)\n",
    "      deriv <- (t(X %*% theta_prev - y) %*% X[,j]) / m\n",
    "      \n",
    "      # # update theta_j\n",
    "      theta[j] <- theta_prev[j] - (alpha * deriv)\n",
    "    }\n",
    "    \n",
    "    # ------------------------------------------------------------\n",
    "    \n",
    "    # Save the cost J in every iteration\n",
    "    J_history[iter] <- computeCostMulti(X, y, theta)\n",
    "    \n",
    "  }\n",
    "  list(theta = theta, J_history = J_history)\n",
    "}\n",
    "\n"
   ]
  },
  {
   "cell_type": "code",
   "execution_count": null,
   "metadata": {
    "ExecuteTime": {
     "start_time": "2018-08-06T10:40:04.795Z"
    }
   },
   "outputs": [],
   "source": [
    "### normalEqn <- function(X, y) {\n",
    "  #NORMALEQN Computes the closed-form solution to linear regression\n",
    "  #   NORMALEQN(X,y) computes the closed-form solution to linear\n",
    "  #   regression using the normal equations.\n",
    "  source(\"pinv.R\")\n",
    "  theta <- rep(0,length(y))\n",
    "  \n",
    "  # ---------------------- YOUR CODE HERE ----------------------\n",
    "  # Instructions: Complete the code to compute the closed form solution\n",
    "  #               to linear regression and put the result in theta.\n",
    "  #\n",
    "  theta <- pinv(t(X) %*% X) %*% t(X) %*% y\n",
    "  theta\n",
    "  # ------------------------------------------------------------\n",
    "  \n",
    "}\n",
    "\n"
   ]
  },
  {
   "cell_type": "code",
   "execution_count": null,
   "metadata": {
    "ExecuteTime": {
     "start_time": "2018-08-06T10:40:05.559Z"
    }
   },
   "outputs": [],
   "source": [
    "### Inverse\n",
    "pinv <-\n",
    "  function (X, tol = max(dim(X)) * max(X) * .Machine$double.eps)\n",
    "  {\n",
    "    if (length(dim(X)) > 2L || !(is.numeric(X) || is.complex(X)))\n",
    "      stop(\"'X' must be a numeric or complex matrix\")\n",
    "    if (!is.matrix(X))\n",
    "      X <- as.matrix(X)\n",
    "    Xsvd <- svd(X)\n",
    "    if (is.complex(X))\n",
    "      Xsvd$u <- Conj(Xsvd$u)\n",
    "    Positive <- any(Xsvd$d > max(tol * Xsvd$d[1L], 0))\n",
    "    if (Positive)\n",
    "      Xsvd$v %*% (1 / Xsvd$d * t(Xsvd$u))\n",
    "    else\n",
    "      array(0, dim(X)[2L:1L])\n",
    "  }"
   ]
  },
  {
   "cell_type": "markdown",
   "metadata": {
    "heading_collapsed": true
   },
   "source": [
    "# Linear Regression"
   ]
  },
  {
   "cell_type": "code",
   "execution_count": null,
   "metadata": {
    "ExecuteTime": {
     "start_time": "2018-08-06T10:42:28.709Z"
    },
    "hidden": true
   },
   "outputs": [],
   "source": [
    "cleanUp\n",
    "\n",
    "training_data = '../../data/house_price_training_data.txt'\n",
    "prediction_data = '../../data/house_price_predict.txt'\n",
    "\n",
    "\n",
    "## ---------------- Part 1: Feature Normalization ----------------\n",
    "cat('Loading data ...\\n')\n",
    "## Load Data\n",
    "data <-\n",
    "  read.table(training_data, sep = ',')\n",
    "ncols = ncol(data)\n",
    "X <- data[, 1:ncols-1]\n",
    "y <- data[, ncols]\n",
    "m <- length(y)\n",
    "\n",
    "\n",
    "# Print out some data points\n",
    "cat('First 10 examples from the dataset: \\n')\n",
    "temp <- cbind(\"X = [\",X[1:10,], \"], y =\", y[1:10])\n",
    "names(temp) <- NULL\n",
    "print(temp)"
   ]
  },
  {
   "cell_type": "markdown",
   "metadata": {
    "hidden": true
   },
   "source": [
    "## Scale features and set them to zero mean - Normalize Features"
   ]
  },
  {
   "cell_type": "code",
   "execution_count": null,
   "metadata": {
    "ExecuteTime": {
     "start_time": "2018-08-06T10:42:29.804Z"
    },
    "hidden": true
   },
   "outputs": [],
   "source": [
    "# Scale features and set them to zero mean\n",
    "fN <- featureNormalize(X)\n",
    "X <- fN$X_norm\n",
    "mu <- fN$mu\n",
    "sigma <- fN$sigma\n",
    "\n",
    "# Add intercept term to X\n",
    "X <- cbind(rep(1,m),X)\n",
    "X <- as.matrix(X)"
   ]
  },
  {
   "cell_type": "markdown",
   "metadata": {
    "hidden": true
   },
   "source": [
    "## Gradient Descent"
   ]
  },
  {
   "cell_type": "code",
   "execution_count": null,
   "metadata": {
    "ExecuteTime": {
     "start_time": "2018-08-06T10:42:32.129Z"
    },
    "hidden": true
   },
   "outputs": [],
   "source": [
    "# Choose some alpha value\n",
    "alpha <- 1 # modified from 0.01 \n",
    "num_iters <- 50 #modified from 100 \n",
    "\n",
    "# Init Theta and Run Gradient Descent\n",
    "theta <- rep(0,ncols)\n",
    "# Here we can test different learning parameter alpha\n",
    "gDM <- gradientDescentMulti(X, y, theta, alpha , num_iters)\n",
    "theta <- gDM$theta\n",
    "J_history <- gDM$J_history\n",
    "rm(gDM)"
   ]
  },
  {
   "cell_type": "markdown",
   "metadata": {
    "hidden": true
   },
   "source": [
    "## Plot the convergence graph - Gradient Descent"
   ]
  },
  {
   "cell_type": "code",
   "execution_count": null,
   "metadata": {
    "ExecuteTime": {
     "start_time": "2018-08-06T10:42:34.887Z"
    },
    "hidden": true
   },
   "outputs": [],
   "source": [
    "# Plot the convergence graph\n",
    "plot(1:length(J_history), J_history, type=\"l\", col=\"blue\", lwd=2, cex=.1,\n",
    "     xlab=\"Number of Iterations\", ylab=\"Cost J\")\n",
    "\n",
    "# Display gradient descent's result\n",
    "cat('Theta computed from gradient descent: \\n')\n",
    "print(theta)"
   ]
  },
  {
   "cell_type": "markdown",
   "metadata": {
    "hidden": true
   },
   "source": [
    "## Predict price of a 1650 sq-ft, 3 br house - Gradient Descent"
   ]
  },
  {
   "cell_type": "code",
   "execution_count": null,
   "metadata": {
    "ExecuteTime": {
     "start_time": "2018-08-06T10:42:37.597Z"
    },
    "hidden": true
   },
   "outputs": [],
   "source": [
    "# Estimate the price of a 1650 sq-ft, 3 br house\n",
    "# Recall that the first column of X is all-ones. Thus, it does\n",
    "# not need to be normalized.\n",
    "\n",
    "prediction_data <- read.table(prediction_data, sep = ',')\n",
    "price <- data.matrix(prediction_data) %*% theta\n",
    "cat(sprintf('Predicted price of a 1650 sq-ft, 3 br house (using gradient descent):\\n $%f\\n', price))\n",
    "\n",
    "#price <- cbind(1, (1650-mu[1])/sigma[1], (3-mu[2])/sigma[2]) %*% theta\n",
    "#price"
   ]
  },
  {
   "cell_type": "markdown",
   "metadata": {
    "hidden": true
   },
   "source": [
    "## Solving with normal equations"
   ]
  },
  {
   "cell_type": "code",
   "execution_count": null,
   "metadata": {
    "ExecuteTime": {
     "start_time": "2018-08-06T10:42:39.501Z"
    },
    "hidden": true,
    "scrolled": true
   },
   "outputs": [],
   "source": [
    "cat('Solving with normal equations...\\n')\n",
    "## Load Data\n",
    "data <- read.table(training_data,sep =',')\n",
    "ncols = ncol(data)\n",
    "X <- data[, 1:ncols-1]\n",
    "y <- data[, ncols]\n",
    "m <- length(y)\n",
    "\n",
    "# Add intercept term to X\n",
    "X <- cbind(rep(1,m),X)\n",
    "X <- as.matrix(X)\n",
    "# Calculate the parameters from the normal equation\n",
    "theta <- normalEqn(X, y)\n",
    "\n",
    "# Display normal equation's result\n",
    "cat('Theta computed from the normal equations: \\n')\n",
    "print(theta)"
   ]
  },
  {
   "cell_type": "markdown",
   "metadata": {
    "hidden": true
   },
   "source": [
    "## Predict price of a 1650 sq-ft, 3 br house - Normal Equation"
   ]
  },
  {
   "cell_type": "code",
   "execution_count": null,
   "metadata": {
    "ExecuteTime": {
     "start_time": "2018-08-06T10:42:41.261Z"
    },
    "hidden": true
   },
   "outputs": [],
   "source": [
    "price <- data.matrix(prediction_data) %*% theta\n",
    "cat(sprintf('Predicted price of a 1650 sq-ft, 3 br house (using normal equations):\\n $%f\\n', price))"
   ]
  },
  {
   "cell_type": "code",
   "execution_count": null,
   "metadata": {
    "hidden": true
   },
   "outputs": [],
   "source": []
  }
 ],
 "metadata": {
  "kernelspec": {
   "display_name": "R",
   "language": "R",
   "name": "ir"
  },
  "language_info": {
   "codemirror_mode": "r",
   "file_extension": ".r",
   "mimetype": "text/x-r-source",
   "name": "R",
   "pygments_lexer": "r",
   "version": "3.5.1"
  }
 },
 "nbformat": 4,
 "nbformat_minor": 2
}
