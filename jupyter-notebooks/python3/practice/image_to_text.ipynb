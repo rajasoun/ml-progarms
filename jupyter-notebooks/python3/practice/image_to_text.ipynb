{
 "cells": [
  {
   "cell_type": "markdown",
   "metadata": {},
   "source": [
    "# Image To Text Using \n",
    "* https://github.com/tesseract-ocr/tesseract\n",
    "* https://github.com/madmaze/pytesseract\n"
   ]
  },
  {
   "cell_type": "code",
   "execution_count": 19,
   "metadata": {
    "ExecuteTime": {
     "end_time": "2018-08-08T08:45:18.116729Z",
     "start_time": "2018-08-08T08:45:18.113518Z"
    }
   },
   "outputs": [],
   "source": [
    "import io\n",
    "import requests    \n",
    "import pytesseract\n"
   ]
  },
  {
   "cell_type": "code",
   "execution_count": 21,
   "metadata": {
    "ExecuteTime": {
     "end_time": "2018-08-08T08:45:58.956214Z",
     "start_time": "2018-08-08T08:45:56.178276Z"
    }
   },
   "outputs": [
    {
     "name": "stdout",
     "output_type": "stream",
     "text": [
      "https://raw.githubusercontent.com/foodoh/scraped_menu_items/master/light_cleaned_images/100-ft-boutique-bar-restaurant-indiranagar-listing/100-ft-boutique-bar-restaurant-indiranagar-listing_1_cleaned.jpg\n"
     ]
    }
   ],
   "source": [
    "#https://raw.githubusercontent.com/foodoh/scraped_menu_items/master/light_cleaned_images/100-ft-boutique-bar-restaurant-indiranagar-listing/100-ft-boutique-bar-restaurant-indiranagar-listing_1_cleaned.jpg\n",
    "url = input() "
   ]
  },
  {
   "cell_type": "code",
   "execution_count": 22,
   "metadata": {
    "ExecuteTime": {
     "end_time": "2018-08-08T08:46:04.487337Z",
     "start_time": "2018-08-08T08:46:04.482378Z"
    }
   },
   "outputs": [
    {
     "data": {
      "text/html": [
       "<img src=\"https://raw.githubusercontent.com/foodoh/scraped_menu_items/master/light_cleaned_images/100-ft-boutique-bar-restaurant-indiranagar-listing/100-ft-boutique-bar-restaurant-indiranagar-listing_1_cleaned.jpg\"/>"
      ],
      "text/plain": [
       "<IPython.core.display.Image object>"
      ]
     },
     "execution_count": 22,
     "metadata": {},
     "output_type": "execute_result"
    }
   ],
   "source": [
    "from IPython.display import display, Image, SVG, Math, YouTubeVideo\n",
    "Image(url=url)"
   ]
  },
  {
   "cell_type": "code",
   "execution_count": 23,
   "metadata": {
    "ExecuteTime": {
     "end_time": "2018-08-08T08:46:08.870416Z",
     "start_time": "2018-08-08T08:46:05.996894Z"
    }
   },
   "outputs": [
    {
     "name": "stdout",
     "output_type": "stream",
     "text": [
      "Paneer Shlmla Wala 210\n",
      "Paneer L117 210\n",
      "Videshi Sabzi Deshi Tadka 210\n",
      "A100 Mirth Kc Salan 170\n",
      "Paneer Kurchan 210\n",
      "Paneer Tikka Lababdar 210\n",
      "DAL\n",
      "Dal Melhi Lasconi 17o\n",
      "Dal Makhani 190\n",
      "Dal Palak 170\n",
      "Dal Tadka 170\n",
      "ROTI KA PARIWAR\n",
      "Tandoori Run 30\n",
      "Kulcha 35\n",
      "Paramxa 50\n",
      "Buner Nan 50\n",
      "Lasuuni Nam 70\n",
      "CHAWAL KI DAWAT\n",
      "Easmali Chawal 90\n",
      "Curd Rice 90\n",
      "Jeera Chawz] 130\n",
      "Vegetable Pulau 170\n",
      "Alan Aur chale ki biryani 200\n",
      "Kashmiri Pulan 200\n",
      "Subzl Dum Biryani 200\n",
      "Subzi Tava Biryani 210\n",
      "Paneer Aur Muner Ki Biryanl 210\n",
      "Kaju Mutlcr Pulao 210\n",
      "RAITA\n",
      "Boundi Raita 70\n",
      "Fresh Vegetable Rana 70\n",
      "SALAD\n",
      "Green Salad 50\n",
      "Russian Salad IUO\n",
      "Kachumber Salad 70\n",
      "\n",
      "‘4\n"
     ]
    }
   ],
   "source": [
    "try:\n",
    "    import Image\n",
    "except ImportError:\n",
    "    from PIL import Image\n",
    "response = requests.get(url)\n",
    "img = Image.open(io.BytesIO(response.content))\n",
    "text = pytesseract.image_to_string(img)\n",
    "print(text)"
   ]
  },
  {
   "cell_type": "code",
   "execution_count": null,
   "metadata": {},
   "outputs": [],
   "source": []
  }
 ],
 "metadata": {
  "kernelspec": {
   "display_name": "Python 3",
   "language": "python",
   "name": "python3"
  },
  "language_info": {
   "codemirror_mode": {
    "name": "ipython",
    "version": 3
   },
   "file_extension": ".py",
   "mimetype": "text/x-python",
   "name": "python",
   "nbconvert_exporter": "python",
   "pygments_lexer": "ipython3",
   "version": "3.6.6"
  }
 },
 "nbformat": 4,
 "nbformat_minor": 2
}
