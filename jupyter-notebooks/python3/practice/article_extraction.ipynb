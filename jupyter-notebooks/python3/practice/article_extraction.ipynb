{
 "cells": [
  {
   "cell_type": "markdown",
   "metadata": {},
   "source": [
    "# Article Extraction & Summarization"
   ]
  },
  {
   "cell_type": "markdown",
   "metadata": {},
   "source": [
    "## Using Newspaper API"
   ]
  },
  {
   "cell_type": "code",
   "execution_count": 1,
   "metadata": {
    "ExecuteTime": {
     "end_time": "2018-08-08T07:21:17.580417Z",
     "start_time": "2018-08-08T07:21:16.806894Z"
    }
   },
   "outputs": [],
   "source": [
    "import sys\n",
    "from newspaper import Article"
   ]
  },
  {
   "cell_type": "code",
   "execution_count": 2,
   "metadata": {
    "ExecuteTime": {
     "end_time": "2018-08-08T07:21:29.303369Z",
     "start_time": "2018-08-08T07:21:29.298038Z"
    }
   },
   "outputs": [],
   "source": [
    "def extract_article(url):\n",
    " \n",
    "    article = Article(url)\n",
    " \n",
    "    #1 . Download the article\n",
    "    article.download()\n",
    " \n",
    "    #2. Parse the article\n",
    "    article.parse()\n",
    " \n",
    "    #3. Fetch Author Name(s)\n",
    "    print(article.authors)\n",
    " \n",
    "    #4. Fetch Publication Date\n",
    "    print('Article Publication Date:')\n",
    "    print(article.publish_date)\n",
    "    \n",
    "    #5. The URL of the Major Image\n",
    "    print('Major Image in the article:')\n",
    "    print(article.top_image)\n",
    " \n",
    "    #6. Natural Language Processing on Article to fetch Keywords\n",
    "    article.nlp()\n",
    "    print ('Keywords in the article')\n",
    "    print(article.keywords)\n",
    " \n",
    "    #7. Generate Summary of the article\n",
    "    print('Article Summary')\n",
    "    print(article.summary)\n",
    "    \n",
    "    print('Full Text')\n",
    "    print(article.text)"
   ]
  },
  {
   "cell_type": "code",
   "execution_count": 6,
   "metadata": {
    "ExecuteTime": {
     "end_time": "2018-08-08T07:25:56.452597Z",
     "start_time": "2018-08-08T07:25:43.429314Z"
    }
   },
   "outputs": [
    {
     "name": "stdout",
     "output_type": "stream",
     "text": [
      "https://www.google.com\n",
      "[]\n",
      "Article Publication Date:\n",
      "None\n",
      "Major Image in the article:\n",
      "https://www.google.com/logos/doodles/2018/dilip-sardesais-78th-birthday-5572016676536320-2xa.gif\n",
      "Keywords in the article\n",
      "['google']\n",
      "Article Summary\n",
      "\n",
      "Full Text\n",
      "\n"
     ]
    }
   ],
   "source": [
    "url = input() #https://www.omkarpathak.in/2017/12/29/python-newspaper-api/\n",
    "extract_article(url)"
   ]
  }
 ],
 "metadata": {
  "kernelspec": {
   "display_name": "Python 3",
   "language": "python",
   "name": "python3"
  },
  "language_info": {
   "codemirror_mode": {
    "name": "ipython",
    "version": 3
   },
   "file_extension": ".py",
   "mimetype": "text/x-python",
   "name": "python",
   "nbconvert_exporter": "python",
   "pygments_lexer": "ipython3",
   "version": "3.6.6"
  }
 },
 "nbformat": 4,
 "nbformat_minor": 2
}
