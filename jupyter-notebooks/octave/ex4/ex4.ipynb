{
 "cells": [
  {
   "cell_type": "markdown",
   "metadata": {},
   "source": [
    "# Machine Learning Online Class - Exercise 4 Neural Network Learning"
   ]
  },
  {
   "cell_type": "markdown",
   "metadata": {
    "heading_collapsed": true
   },
   "source": [
    "## Functions"
   ]
  },
  {
   "cell_type": "code",
   "execution_count": 27,
   "metadata": {
    "ExecuteTime": {
     "end_time": "2018-08-20T07:06:02.800485Z",
     "start_time": "2018-08-20T07:06:02.715132Z"
    },
    "hidden": true
   },
   "outputs": [],
   "source": [
    "function checkNNGradients(lambda)\n",
    "%CHECKNNGRADIENTS Creates a small neural network to check the\n",
    "%backpropagation gradients\n",
    "%   CHECKNNGRADIENTS(lambda) Creates a small neural network to check the\n",
    "%   backpropagation gradients, it will output the analytical gradients\n",
    "%   produced by your backprop code and the numerical gradients (computed\n",
    "%   using computeNumericalGradient). These two gradient computations should\n",
    "%   result in very similar values.\n",
    "%\n",
    "\n",
    "if ~exist('lambda', 'var') || isempty(lambda)\n",
    "    lambda = 0;\n",
    "end\n",
    "\n",
    "input_layer_size = 3;\n",
    "hidden_layer_size = 5;\n",
    "num_labels = 3;\n",
    "m = 5;\n",
    "\n",
    "% We generate some 'random' test data\n",
    "Theta1 = debugInitializeWeights(hidden_layer_size, input_layer_size);\n",
    "Theta2 = debugInitializeWeights(num_labels, hidden_layer_size);\n",
    "% Reusing debugInitializeWeights to generate X\n",
    "X  = debugInitializeWeights(m, input_layer_size - 1);\n",
    "y  = 1 + mod(1:m, num_labels)';\n",
    "\n",
    "% Unroll parameters\n",
    "nn_params = [Theta1(:) ; Theta2(:)];\n",
    "\n",
    "% Short hand for cost function\n",
    "costFunc = @(p) nnCostFunction(p, input_layer_size, hidden_layer_size, ...\n",
    "                               num_labels, X, y, lambda);\n",
    "\n",
    "[cost, grad] = costFunc(nn_params);\n",
    "numgrad = computeNumericalGradient(costFunc, nn_params);\n",
    "\n",
    "% Visually examine the two gradient computations.  The two columns\n",
    "% you get should be very similar. \n",
    "disp([numgrad grad]);\n",
    "fprintf(['The above two columns you get should be very similar.\\n' ...\n",
    "         '(Left-Your Numerical Gradient, Right-Analytical Gradient)\\n\\n']);\n",
    "\n",
    "% Evaluate the norm of the difference between two solutions.  \n",
    "% If you have a correct implementation, and assuming you used EPSILON = 0.0001 \n",
    "% in computeNumericalGradient.m, then diff below should be less than 1e-9\n",
    "diff = norm(numgrad-grad)/norm(numgrad+grad);\n",
    "\n",
    "fprintf(['If your backpropagation implementation is correct, then \\n' ...\n",
    "         'the relative difference will be small (less than 1e-9). \\n' ...\n",
    "         '\\nRelative Difference: %g\\n'], diff);\n",
    "\n",
    "end"
   ]
  },
  {
   "cell_type": "code",
   "execution_count": 28,
   "metadata": {
    "ExecuteTime": {
     "end_time": "2018-08-20T07:06:13.075036Z",
     "start_time": "2018-08-20T07:06:13.021347Z"
    },
    "hidden": true
   },
   "outputs": [],
   "source": [
    "function numgrad = computeNumericalGradient(J, theta)\n",
    "%COMPUTENUMERICALGRADIENT Computes the gradient using \"finite differences\"\n",
    "%and gives us a numerical estimate of the gradient.\n",
    "%   numgrad = COMPUTENUMERICALGRADIENT(J, theta) computes the numerical\n",
    "%   gradient of the function J around theta. Calling y = J(theta) should\n",
    "%   return the function value at theta.\n",
    "\n",
    "% Notes: The following code implements numerical gradient checking, and \n",
    "%        returns the numerical gradient.It sets numgrad(i) to (a numerical \n",
    "%        approximation of) the partial derivative of J with respect to the \n",
    "%        i-th input argument, evaluated at theta. (i.e., numgrad(i) should \n",
    "%        be the (approximately) the partial derivative of J with respect \n",
    "%        to theta(i).)\n",
    "%                \n",
    "\n",
    "numgrad = zeros(size(theta));\n",
    "perturb = zeros(size(theta));\n",
    "e = 1e-4;\n",
    "for p = 1:numel(theta)\n",
    "    % Set perturbation vector\n",
    "    perturb(p) = e;\n",
    "    loss1 = J(theta - perturb);\n",
    "    loss2 = J(theta + perturb);\n",
    "    % Compute Numerical Gradient\n",
    "    numgrad(p) = (loss2 - loss1) / (2*e);\n",
    "    perturb(p) = 0;\n",
    "end\n",
    "\n",
    "end\n"
   ]
  },
  {
   "cell_type": "code",
   "execution_count": 29,
   "metadata": {
    "ExecuteTime": {
     "end_time": "2018-08-20T07:06:14.172343Z",
     "start_time": "2018-08-20T07:06:14.133211Z"
    },
    "hidden": true
   },
   "outputs": [],
   "source": [
    "function W = debugInitializeWeights(fan_out, fan_in)\n",
    "%DEBUGINITIALIZEWEIGHTS Initialize the weights of a layer with fan_in\n",
    "%incoming connections and fan_out outgoing connections using a fixed\n",
    "%strategy, this will help you later in debugging\n",
    "%   W = DEBUGINITIALIZEWEIGHTS(fan_in, fan_out) initializes the weights \n",
    "%   of a layer with fan_in incoming connections and fan_out outgoing \n",
    "%   connections using a fix set of values\n",
    "%\n",
    "%   Note that W should be set to a matrix of size(1 + fan_in, fan_out) as\n",
    "%   the first row of W handles the \"bias\" terms\n",
    "%\n",
    "\n",
    "% Set W to zeros\n",
    "W = zeros(fan_out, 1 + fan_in);\n",
    "\n",
    "% Initialize W using \"sin\", this ensures that W is always of the same\n",
    "% values and will be useful for debugging\n",
    "W = reshape(sin(1:numel(W)), size(W)) / 10;\n",
    "\n",
    "% =========================================================================\n",
    "\n",
    "end\n"
   ]
  },
  {
   "cell_type": "code",
   "execution_count": 30,
   "metadata": {
    "ExecuteTime": {
     "end_time": "2018-08-20T07:06:17.071196Z",
     "start_time": "2018-08-20T07:06:16.976877Z"
    },
    "hidden": true
   },
   "outputs": [],
   "source": [
    "function [h, display_array] = displayData(X, example_width)\n",
    "%DISPLAYDATA Display 2D data in a nice grid\n",
    "%   [h, display_array] = DISPLAYDATA(X, example_width) displays 2D data\n",
    "%   stored in X in a nice grid. It returns the figure handle h and the \n",
    "%   displayed array if requested.\n",
    "\n",
    "% Set example_width automatically if not passed in\n",
    "if ~exist('example_width', 'var') || isempty(example_width) \n",
    "\texample_width = round(sqrt(size(X, 2)));\n",
    "end\n",
    "\n",
    "% Gray Image\n",
    "colormap(gray);\n",
    "\n",
    "% Compute rows, cols\n",
    "[m n] = size(X);\n",
    "example_height = (n / example_width);\n",
    "\n",
    "% Compute number of items to display\n",
    "display_rows = floor(sqrt(m));\n",
    "display_cols = ceil(m / display_rows);\n",
    "\n",
    "% Between images padding\n",
    "pad = 1;\n",
    "\n",
    "% Setup blank display\n",
    "display_array = - ones(pad + display_rows * (example_height + pad), ...\n",
    "                       pad + display_cols * (example_width + pad));\n",
    "\n",
    "% Copy each example into a patch on the display array\n",
    "curr_ex = 1;\n",
    "for j = 1:display_rows\n",
    "    for i = 1:display_cols\n",
    "        if curr_ex > m, \n",
    "            break; \n",
    "        end\n",
    "        % Copy the patch\n",
    "\n",
    "        % Get the max value of the patch\n",
    "        max_val = max(abs(X(curr_ex, :)));\n",
    "        display_array(pad + (j - 1) * (example_height + pad) + (1:example_height), ...\n",
    "                      pad + (i - 1) * (example_width + pad) + (1:example_width)) = ...\n",
    "                        reshape(X(curr_ex, :), example_height, example_width) / max_val;\n",
    "        curr_ex = curr_ex + 1;\n",
    "    end\n",
    "    if curr_ex > m, \n",
    "        break; \n",
    "    end\n",
    "end\n",
    "\n",
    "% Display Image\n",
    "h = imagesc(display_array, [-1 1]);\n",
    "\n",
    "% Do not show axis\n",
    "axis image off\n",
    "\n",
    "drawnow;\n",
    "\n",
    "end"
   ]
  },
  {
   "cell_type": "code",
   "execution_count": 34,
   "metadata": {
    "ExecuteTime": {
     "end_time": "2018-08-20T07:07:37.912563Z",
     "start_time": "2018-08-20T07:07:37.586636Z"
    },
    "code_folding": [
     82,
     93,
     146
    ],
    "hidden": true
   },
   "outputs": [],
   "source": [
    "function [X, fX, i] = fmincg(f, X, options, P1, P2, P3, P4, P5)\n",
    "% Minimize a continuous differentialble multivariate function. Starting point\n",
    "% is given by \"X\" (D by 1), and the function named in the string \"f\", must\n",
    "% return a function value and a vector of partial derivatives. The Polack-\n",
    "% Ribiere flavour of conjugate gradients is used to compute search directions,\n",
    "% and a line search using quadratic and cubic polynomial approximations and the\n",
    "% Wolfe-Powell stopping criteria is used together with the slope ratio method\n",
    "% for guessing initial step sizes. Additionally a bunch of checks are made to\n",
    "% make sure that exploration is taking place and that extrapolation will not\n",
    "% be unboundedly large. The \"length\" gives the length of the run: if it is\n",
    "% positive, it gives the maximum number of line searches, if negative its\n",
    "% absolute gives the maximum allowed number of function evaluations. You can\n",
    "% (optionally) give \"length\" a second component, which will indicate the\n",
    "% reduction in function value to be expected in the first line-search (defaults\n",
    "% to 1.0). The function returns when either its length is up, or if no further\n",
    "% progress can be made (ie, we are at a minimum, or so close that due to\n",
    "% numerical problems, we cannot get any closer). If the function terminates\n",
    "% within a few iterations, it could be an indication that the function value\n",
    "% and derivatives are not consistent (ie, there may be a bug in the\n",
    "% implementation of your \"f\" function). The function returns the found\n",
    "% solution \"X\", a vector of function values \"fX\" indicating the progress made\n",
    "% and \"i\" the number of iterations (line searches or function evaluations,\n",
    "% depending on the sign of \"length\") used.\n",
    "%\n",
    "% Usage: [X, fX, i] = fmincg(f, X, options, P1, P2, P3, P4, P5)\n",
    "%\n",
    "% See also: checkgrad \n",
    "%\n",
    "% Copyright (C) 2001 and 2002 by Carl Edward Rasmussen. Date 2002-02-13\n",
    "%\n",
    "%\n",
    "% (C) Copyright 1999, 2000 & 2001, Carl Edward Rasmussen\n",
    "% \n",
    "% Permission is granted for anyone to copy, use, or modify these\n",
    "% programs and accompanying documents for purposes of research or\n",
    "% education, provided this copyright notice is retained, and note is\n",
    "% made of any changes that have been made.\n",
    "% \n",
    "% These programs and documents are distributed without any warranty,\n",
    "% express or implied.  As the programs were written for research\n",
    "% purposes only, they have not been tested to the degree that would be\n",
    "% advisable in any important application.  All use of these programs is\n",
    "% entirely at the user's own risk.\n",
    "%\n",
    "% [ml-class] Changes Made:\n",
    "% 1) Function name and argument specifications\n",
    "% 2) Output display\n",
    "%\n",
    "\n",
    "% Read options\n",
    "if exist('options', 'var') && ~isempty(options) && isfield(options, 'MaxIter')\n",
    "    length = options.MaxIter;\n",
    "else\n",
    "    length = 100;\n",
    "end\n",
    "\n",
    "\n",
    "RHO = 0.01;                            % a bunch of constants for line searches\n",
    "SIG = 0.5;       % RHO and SIG are the constants in the Wolfe-Powell conditions\n",
    "INT = 0.1;    % don't reevaluate within 0.1 of the limit of the current bracket\n",
    "EXT = 3.0;                    % extrapolate maximum 3 times the current bracket\n",
    "MAX = 20;                         % max 20 function evaluations per line search\n",
    "RATIO = 100;                                      % maximum allowed slope ratio\n",
    "\n",
    "argstr = ['feval(f, X'];                      % compose string used to call function\n",
    "for i = 1:(nargin - 3)\n",
    "  argstr = [argstr, ',P', int2str(i)];\n",
    "end\n",
    "argstr = [argstr, ')'];\n",
    "\n",
    "if max(size(length)) == 2, red=length(2); length=length(1); else red=1; end\n",
    "S=['Iteration '];\n",
    "\n",
    "i = 0;                                            % zero the run length counter\n",
    "ls_failed = 0;                             % no previous line search has failed\n",
    "fX = [];\n",
    "[f1 df1] = eval(argstr);                      % get function value and gradient\n",
    "i = i + (length<0);                                            % count epochs?!\n",
    "s = -df1;                                        % search direction is steepest\n",
    "d1 = -s'*s;                                                 % this is the slope\n",
    "z1 = red/(1-d1);                                  % initial step is red/(|s|+1)\n",
    "\n",
    "while i < abs(length)                                      % while not finished\n",
    "  i = i + (length>0);                                      % count iterations?!\n",
    "\n",
    "  X0 = X; f0 = f1; df0 = df1;                   % make a copy of current values\n",
    "  X = X + z1*s;                                             % begin line search\n",
    "  [f2 df2] = eval(argstr);\n",
    "  i = i + (length<0);                                          % count epochs?!\n",
    "  d2 = df2'*s;\n",
    "  f3 = f1; d3 = d1; z3 = -z1;             % initialize point 3 equal to point 1\n",
    "  if length>0, M = MAX; else M = min(MAX, -length-i); end\n",
    "  success = 0; limit = -1;                     % initialize quanteties\n",
    "  while 1\n",
    "    while ((f2 > f1+z1*RHO*d1) || (d2 > -SIG*d1)) && (M > 0) \n",
    "      limit = z1;                                         % tighten the bracket\n",
    "      if f2 > f1\n",
    "        z2 = z3 - (0.5*d3*z3*z3)/(d3*z3+f2-f3);                 % quadratic fit\n",
    "      else\n",
    "        A = 6*(f2-f3)/z3+3*(d2+d3);                                 % cubic fit\n",
    "        B = 3*(f3-f2)-z3*(d3+2*d2);\n",
    "        z2 = (sqrt(B*B-A*d2*z3*z3)-B)/A;       % numerical error possible - ok!\n",
    "      end\n",
    "      if isnan(z2) || isinf(z2)\n",
    "        z2 = z3/2;                  % if we had a numerical problem then bisect\n",
    "      end\n",
    "      z2 = max(min(z2, INT*z3),(1-INT)*z3);  % don't accept too close to limits\n",
    "      z1 = z1 + z2;                                           % update the step\n",
    "      X = X + z2*s;\n",
    "      [f2 df2] = eval(argstr);\n",
    "      M = M - 1; i = i + (length<0);                           % count epochs?!\n",
    "      d2 = df2'*s;\n",
    "      z3 = z3-z2;                    % z3 is now relative to the location of z2\n",
    "    end\n",
    "    if f2 > f1+z1*RHO*d1 || d2 > -SIG*d1\n",
    "      break;                                                % this is a failure\n",
    "    elseif d2 > SIG*d1\n",
    "      success = 1; break;                                             % success\n",
    "    elseif M == 0\n",
    "      break;                                                          % failure\n",
    "    end\n",
    "    A = 6*(f2-f3)/z3+3*(d2+d3);                      % make cubic extrapolation\n",
    "    B = 3*(f3-f2)-z3*(d3+2*d2);\n",
    "    z2 = -d2*z3*z3/(B+sqrt(B*B-A*d2*z3*z3));        % num. error possible - ok!\n",
    "    if ~isreal(z2) || isnan(z2) || isinf(z2) || z2 < 0 % num prob or wrong sign?\n",
    "      if limit < -0.5                               % if we have no upper limit\n",
    "        z2 = z1 * (EXT-1);                 % the extrapolate the maximum amount\n",
    "      else\n",
    "        z2 = (limit-z1)/2;                                   % otherwise bisect\n",
    "      end\n",
    "    elseif (limit > -0.5) && (z2+z1 > limit)         % extraplation beyond max?\n",
    "      z2 = (limit-z1)/2;                                               % bisect\n",
    "    elseif (limit < -0.5) && (z2+z1 > z1*EXT)       % extrapolation beyond limit\n",
    "      z2 = z1*(EXT-1.0);                           % set to extrapolation limit\n",
    "    elseif z2 < -z3*INT\n",
    "      z2 = -z3*INT;\n",
    "    elseif (limit > -0.5) && (z2 < (limit-z1)*(1.0-INT))  % too close to limit?\n",
    "      z2 = (limit-z1)*(1.0-INT);\n",
    "    end\n",
    "    f3 = f2; d3 = d2; z3 = -z2;                  % set point 3 equal to point 2\n",
    "    z1 = z1 + z2; X = X + z2*s;                      % update current estimates\n",
    "    [f2 df2] = eval(argstr);\n",
    "    M = M - 1; i = i + (length<0);                             % count epochs?!\n",
    "    d2 = df2'*s;\n",
    "  end                                                      % end of line search\n",
    "\n",
    "  if success                                         % if line search succeeded\n",
    "    f1 = f2; fX = [fX' f1]';\n",
    "    fprintf('%s %4i | Cost: %4.6e\\r', S, i, f1);\n",
    "    s = (df2'*df2-df1'*df2)/(df1'*df1)*s - df2;      % Polack-Ribiere direction\n",
    "    tmp = df1; df1 = df2; df2 = tmp;                         % swap derivatives\n",
    "    d2 = df1'*s;\n",
    "    if d2 > 0                                      % new slope must be negative\n",
    "      s = -df1;                              % otherwise use steepest direction\n",
    "      d2 = -s'*s;    \n",
    "    end\n",
    "    z1 = z1 * min(RATIO, d1/(d2-realmin));          % slope ratio but max RATIO\n",
    "    d1 = d2;\n",
    "    ls_failed = 0;                              % this line search did not fail\n",
    "  else\n",
    "    X = X0; f1 = f0; df1 = df0;  % restore point from before failed line search\n",
    "    if ls_failed || i > abs(length)          % line search failed twice in a row\n",
    "      break;                             % or we ran out of time, so we give up\n",
    "    end\n",
    "    tmp = df1; df1 = df2; df2 = tmp;                         % swap derivatives\n",
    "    s = -df1;                                                    % try steepest\n",
    "    d1 = -s'*s;\n",
    "    z1 = 1/(1-d1);                     \n",
    "    ls_failed = 1;                                    % this line search failed\n",
    "  end\n",
    "  if exist('OCTAVE_VERSION')\n",
    "    fflush(stdout);\n",
    "  end\n",
    "end\n",
    "fprintf('\\n');\n",
    "end"
   ]
  },
  {
   "cell_type": "code",
   "execution_count": 35,
   "metadata": {
    "ExecuteTime": {
     "end_time": "2018-08-20T07:07:44.712571Z",
     "start_time": "2018-08-20T07:07:44.521789Z"
    },
    "hidden": true
   },
   "outputs": [],
   "source": [
    "function [J grad] = nnCostFunction(nn_params, ...\n",
    "                                   input_layer_size, ...\n",
    "                                   hidden_layer_size, ...\n",
    "                                   num_labels, ...\n",
    "                                   X, y, lambda)\n",
    "%NNCOSTFUNCTION Implements the neural network cost function for a two layer\n",
    "%neural network which performs classification\n",
    "%   [J grad] = NNCOSTFUNCTON(nn_params, hidden_layer_size, num_labels, ...\n",
    "%   X, y, lambda) computes the cost and gradient of the neural network. The\n",
    "%   parameters for the neural network are \"unrolled\" into the vector\n",
    "%   nn_params and need to be converted back into the weight matrices. \n",
    "% \n",
    "%   The returned parameter grad should be a \"unrolled\" vector of the\n",
    "%   partial derivatives of the neural network.\n",
    "%\n",
    "\n",
    "% Reshape nn_params back into the parameters Theta1 and Theta2, the weight matrices\n",
    "% for our 2 layer neural network\n",
    "Theta1 = reshape(nn_params(1:hidden_layer_size * (input_layer_size + 1)), ...\n",
    "                 hidden_layer_size, (input_layer_size + 1));\n",
    "\n",
    "Theta2 = reshape(nn_params((1 + (hidden_layer_size * (input_layer_size + 1))):end), ...\n",
    "                 num_labels, (hidden_layer_size + 1));\n",
    "\n",
    "% Setup some useful variables\n",
    "m = size(X, 1);\n",
    "         \n",
    "% You need to return the following variables correctly \n",
    "J = 0;\n",
    "Theta1_grad = zeros(size(Theta1));\n",
    "Theta2_grad = zeros(size(Theta2));\n",
    "\n",
    "% ====================== YOUR CODE HERE ======================\n",
    "% Instructions: You should complete the code by working through the\n",
    "%               following parts.\n",
    "%\n",
    "% Part 1: Feedforward the neural network and return the cost in the\n",
    "%         variable J. After implementing Part 1, you can verify that your\n",
    "%         cost function computation is correct by verifying the cost\n",
    "%         computed in ex4.m\n",
    "%\n",
    "% Part 2: Implement the backpropagation algorithm to compute the gradients\n",
    "%         Theta1_grad and Theta2_grad. You should return the partial derivatives of\n",
    "%         the cost function with respect to Theta1 and Theta2 in Theta1_grad and\n",
    "%         Theta2_grad, respectively. After implementing Part 2, you can check\n",
    "%         that your implementation is correct by running checkNNGradients\n",
    "%\n",
    "%         Note: The vector y passed into the function is a vector of labels\n",
    "%               containing values from 1..K. You need to map this vector into a \n",
    "%               binary vector of 1's and 0's to be used with the neural network\n",
    "%               cost function.\n",
    "%\n",
    "%         Hint: We recommend implementing backpropagation using a for-loop\n",
    "%               over the training examples if you are implementing it for the \n",
    "%               first time.\n",
    "%\n",
    "% Part 3: Implement regularization with the cost function and gradients.\n",
    "%\n",
    "%         Hint: You can implement this around the code for\n",
    "%               backpropagation. That is, you can compute the gradients for\n",
    "%               the regularization separately and then add them to Theta1_grad\n",
    "%               and Theta2_grad from Part 2.\n",
    "%\n",
    "\n",
    "\n",
    "% Convert y to matrix\n",
    "% XXX(SaveTheRbtz@): Curious how it can be vectorized (Should reread ex3 for\n",
    "% logical arrays)\n",
    "number_of_classes = length(unique(y));\n",
    "Y = zeros(number_of_classes, m);\n",
    "for i = 1:m\n",
    "    Y(y(i), i) = 1;\n",
    "endfor\n",
    "\n",
    "% Do forward propagation\n",
    "% Copy/Paste from ex3 predict.m\n",
    "% FIXME(SaveTheRbtz@): Move to separate function\n",
    "A1 = [ones(1, m); X'];\n",
    "Z2=Theta1*A1;\n",
    "A2 = [ones(1, m); sigmoid(Z2)];\n",
    "Z3=Theta2*A2;\n",
    "A3 = sigmoid(Z3);\n",
    "\n",
    "% A3 here is our h0\n",
    "h0 = A3;\n",
    "\n",
    "% Compute cost function\n",
    "% XXX(SaveTheRbtz@): Slightly modified version of ex2 costFunction\n",
    "J = (1/m)*sum(sum(-Y.*log(h0) - (1-Y).*log(1-h0)));\n",
    "\n",
    "% Add some regularization\n",
    "% XXX(SaveTheRbtz@): Also borrowed from ex2 costFunctionReg\n",
    "penalize = sum(sum(Theta1(:, 2:end) .^ 2)) + sum(sum(Theta2(:, 2:end) .^ 2));\n",
    "J = J + (lambda/(2*m)) * penalize;\n",
    "\n",
    "% Implement backpropagation\n",
    "delta_3 = A3 - Y;\n",
    "delta_2 = (Theta2'*delta_3)(2:end, :) .* sigmoidGradient(Z2);\n",
    "\n",
    "% Calculate gradients\n",
    "Theta1_unreg_grad = (delta_2 * A1')/m;\n",
    "Theta2_unreg_grad = (delta_3 * A2')/m;\n",
    "\n",
    "% Regularize\n",
    "Theta1_grad = Theta1_unreg_grad + (lambda/m) * Theta1;\n",
    "Theta2_grad = Theta2_unreg_grad + (lambda/m) * Theta2;\n",
    "\n",
    "Theta1_grad(:, 1) = Theta1_unreg_grad(:, 1);\n",
    "Theta2_grad(:, 1) = Theta2_unreg_grad(:, 1);\n",
    "\n",
    "\n",
    "\n",
    "\n",
    "\n",
    "% -------------------------------------------------------------\n",
    "\n",
    "% =========================================================================\n",
    "\n",
    "% Unroll gradients\n",
    "grad = [Theta1_grad(:) ; Theta2_grad(:)];\n",
    "\n",
    "\n",
    "end\n"
   ]
  },
  {
   "cell_type": "code",
   "execution_count": 36,
   "metadata": {
    "ExecuteTime": {
     "end_time": "2018-08-20T07:07:45.593780Z",
     "start_time": "2018-08-20T07:07:45.561013Z"
    },
    "hidden": true
   },
   "outputs": [],
   "source": [
    "function p = predict(Theta1, Theta2, X)\n",
    "%PREDICT Predict the label of an input given a trained neural network\n",
    "%   p = PREDICT(Theta1, Theta2, X) outputs the predicted label of X given the\n",
    "%   trained weights of a neural network (Theta1, Theta2)\n",
    "\n",
    "% Useful values\n",
    "m = size(X, 1);\n",
    "num_labels = size(Theta2, 1);\n",
    "\n",
    "% You need to return the following variables correctly \n",
    "p = zeros(size(X, 1), 1);\n",
    "\n",
    "h1 = sigmoid([ones(m, 1) X] * Theta1');\n",
    "h2 = sigmoid([ones(m, 1) h1] * Theta2');\n",
    "[dummy, p] = max(h2, [], 2);\n",
    "\n",
    "% =========================================================================\n",
    "\n",
    "\n",
    "end\n"
   ]
  },
  {
   "cell_type": "code",
   "execution_count": 37,
   "metadata": {
    "ExecuteTime": {
     "end_time": "2018-08-20T07:07:46.485871Z",
     "start_time": "2018-08-20T07:07:46.436991Z"
    },
    "hidden": true
   },
   "outputs": [],
   "source": [
    "function W = randInitializeWeights(L_in, L_out)\n",
    "%RANDINITIALIZEWEIGHTS Randomly initialize the weights of a layer with L_in\n",
    "%incoming connections and L_out outgoing connections\n",
    "%   W = RANDINITIALIZEWEIGHTS(L_in, L_out) randomly initializes the weights \n",
    "%   of a layer with L_in incoming connections and L_out outgoing \n",
    "%   connections. \n",
    "%\n",
    "%   Note that W should be set to a matrix of size(L_out, 1 + L_in) as\n",
    "%   the first column of W handles the \"bias\" terms\n",
    "%\n",
    "\n",
    "% You need to return the following variables correctly \n",
    "W = zeros(L_out, 1 + L_in);\n",
    "\n",
    "% ====================== YOUR CODE HERE ======================\n",
    "% Instructions: Initialize W randomly so that we break the symmetry while\n",
    "%               training the neural network.\n",
    "%\n",
    "% Note: The first column of W corresponds to the parameters for the bias unit\n",
    "%\n",
    "\n",
    "% Randomly initialize the weights to small values\n",
    "epsilon_init = 0.12;\n",
    "W = rand(L_out, 1 + L_in) * 2 * epsilon_init - epsilon_init;\n",
    "\n",
    "\n",
    "% =========================================================================\n",
    "\n",
    "end\n"
   ]
  },
  {
   "cell_type": "code",
   "execution_count": 38,
   "metadata": {
    "ExecuteTime": {
     "end_time": "2018-08-20T07:07:47.344968Z",
     "start_time": "2018-08-20T07:07:47.330036Z"
    },
    "hidden": true
   },
   "outputs": [],
   "source": [
    "function g = sigmoid(z)\n",
    "%SIGMOID Compute sigmoid functoon\n",
    "%   J = SIGMOID(z) computes the sigmoid of z.\n",
    "\n",
    "g = 1.0 ./ (1.0 + exp(-z));\n",
    "end"
   ]
  },
  {
   "cell_type": "code",
   "execution_count": 39,
   "metadata": {
    "ExecuteTime": {
     "end_time": "2018-08-20T07:07:48.267669Z",
     "start_time": "2018-08-20T07:07:48.230008Z"
    },
    "hidden": true
   },
   "outputs": [],
   "source": [
    "function g = sigmoidGradient(z)\n",
    "%SIGMOIDGRADIENT returns the gradient of the sigmoid function\n",
    "%evaluated at z\n",
    "%   g = SIGMOIDGRADIENT(z) computes the gradient of the sigmoid function\n",
    "%   evaluated at z. This should work regardless if z is a matrix or a\n",
    "%   vector. In particular, if z is a vector or matrix, you should return\n",
    "%   the gradient for each element.\n",
    "\n",
    "g = zeros(size(z));\n",
    "\n",
    "% ====================== YOUR CODE HERE ======================\n",
    "% Instructions: Compute the gradient of the sigmoid function evaluated at\n",
    "%               each value of z (z can be a matrix, vector or scalar).\n",
    "\n",
    "\n",
    "\n",
    "g = sigmoid(z) .* (1 - sigmoid(z));\n",
    "\n",
    "\n",
    "\n",
    "\n",
    "\n",
    "\n",
    "\n",
    "\n",
    "\n",
    "\n",
    "% =============================================================\n",
    "\n",
    "\n",
    "\n",
    "\n",
    "end"
   ]
  },
  {
   "cell_type": "markdown",
   "metadata": {
    "heading_collapsed": true
   },
   "source": [
    "## Initialization"
   ]
  },
  {
   "cell_type": "code",
   "execution_count": 40,
   "metadata": {
    "ExecuteTime": {
     "end_time": "2018-08-20T07:07:49.792308Z",
     "start_time": "2018-08-20T07:07:49.771616Z"
    },
    "hidden": true
   },
   "outputs": [
    {
     "name": "stdout",
     "output_type": "stream",
     "text": [
      "\u001b[H\u001b[2J\n",
      "\u001b[H\u001b[2J\n"
     ]
    }
   ],
   "source": [
    "clear ; close all; clc\n",
    "\n",
    "%% Setup the parameters you will use for this exercise\n",
    "input_layer_size  = 400;  % 20x20 Input Images of Digits\n",
    "hidden_layer_size = 25;   % 25 hidden units\n",
    "num_labels = 10;          % 10 labels, from 1 to 10   \n",
    "                          % (note that we have mapped \"0\" to label 10)"
   ]
  },
  {
   "cell_type": "markdown",
   "metadata": {
    "heading_collapsed": true
   },
   "source": [
    "## Part 1: Loading and Visualizing Data"
   ]
  },
  {
   "cell_type": "code",
   "execution_count": 41,
   "metadata": {
    "ExecuteTime": {
     "end_time": "2018-08-20T07:07:51.751954Z",
     "start_time": "2018-08-20T07:07:51.538968Z"
    },
    "hidden": true
   },
   "outputs": [
    {
     "name": "stdout",
     "output_type": "stream",
     "text": [
      "Loading and Visualizing Data ...\n"
     ]
    },
    {
     "data": {
      "image/png": "[encoded data removed]",
      "text/plain": [
       "<IPython.core.display.Image object>"
      ]
     },
     "metadata": {},
     "output_type": "display_data"
    }
   ],
   "source": [
    "% Load Training Data\n",
    "fprintf('Loading and Visualizing Data ...\\n')\n",
    "load('../../data/digits_neural_networks.mat');\n",
    "m = size(X, 1);\n",
    "\n",
    "% Randomly select 100 data points to display\n",
    "sel = randperm(size(X, 1));\n",
    "sel = sel(1:100);\n",
    "\n",
    "displayData(X(sel, :));"
   ]
  },
  {
   "cell_type": "markdown",
   "metadata": {
    "heading_collapsed": true
   },
   "source": [
    "## Part 2 : Loading Parameters"
   ]
  },
  {
   "cell_type": "code",
   "execution_count": 42,
   "metadata": {
    "ExecuteTime": {
     "end_time": "2018-08-20T07:07:53.016436Z",
     "start_time": "2018-08-20T07:07:52.992877Z"
    },
    "hidden": true
   },
   "outputs": [
    {
     "name": "stdout",
     "output_type": "stream",
     "text": [
      "\n",
      "Loading Saved Neural Network Parameters ...\n"
     ]
    }
   ],
   "source": [
    "% In this part of the exercise, we load some pre-initialized \n",
    "% neural network parameters.\n",
    "\n",
    "fprintf('\\nLoading Saved Neural Network Parameters ...\\n')\n",
    "\n",
    "% Load the weights into variables Theta1 and Theta2\n",
    "load('../../data/digits_neural_networks_weights.mat');\n",
    "\n",
    "% Unroll parameters \n",
    "nn_params = [Theta1(:) ; Theta2(:)];"
   ]
  },
  {
   "cell_type": "markdown",
   "metadata": {
    "heading_collapsed": true
   },
   "source": [
    "## Part 3 : Compute Cost (Feedforward)"
   ]
  },
  {
   "cell_type": "code",
   "execution_count": 43,
   "metadata": {
    "ExecuteTime": {
     "end_time": "2018-08-20T07:07:54.502499Z",
     "start_time": "2018-08-20T07:07:54.306871Z"
    },
    "hidden": true
   },
   "outputs": [
    {
     "name": "stdout",
     "output_type": "stream",
     "text": [
      "\n",
      "Feedforward Using Neural Network ...\n",
      "Cost at parameters (loaded from digits_neural_networks_weights): 0.287629 \n",
      "(this value should be about 0.287629)\n"
     ]
    }
   ],
   "source": [
    "%% ================ Part 3: Compute Cost (Feedforward) ================\n",
    "%  To the neural network, you should first start by implementing the\n",
    "%  feedforward part of the neural network that returns the cost only. You\n",
    "%  should complete the code in nnCostFunction.m to return cost. After\n",
    "%  implementing the feedforward to compute the cost, you can verify that\n",
    "%  your implementation is correct by verifying that you get the same cost\n",
    "%  as us for the fixed debugging parameters.\n",
    "%\n",
    "%  We suggest implementing the feedforward cost *without* regularization\n",
    "%  first so that it will be easier for you to debug. Later, in part 4, you\n",
    "%  will get to implement the regularized cost.\n",
    "%\n",
    "fprintf('\\nFeedforward Using Neural Network ...\\n')\n",
    "\n",
    "% Weight regularization parameter (we set this to 0 here).\n",
    "lambda = 0;\n",
    "\n",
    "J = nnCostFunction(nn_params, input_layer_size, hidden_layer_size, ...\n",
    "                   num_labels, X, y, lambda);\n",
    "\n",
    "fprintf(['Cost at parameters (loaded from digits_neural_networks_weights): %f '...\n",
    "         '\\n(this value should be about 0.287629)\\n'], J);"
   ]
  },
  {
   "cell_type": "markdown",
   "metadata": {
    "heading_collapsed": true
   },
   "source": [
    "## Part 4 : Implement Regularization"
   ]
  },
  {
   "cell_type": "code",
   "execution_count": 44,
   "metadata": {
    "ExecuteTime": {
     "end_time": "2018-08-20T07:07:56.050216Z",
     "start_time": "2018-08-20T07:07:55.887281Z"
    },
    "hidden": true
   },
   "outputs": [
    {
     "name": "stdout",
     "output_type": "stream",
     "text": [
      "\n",
      "Checking Cost Function (w/ Regularization) ... \n",
      "Cost at parameters (loaded from digits_neural_networks_weights): 0.383770 \n",
      "(this value should be about 0.383770)\n"
     ]
    }
   ],
   "source": [
    "%% =============== Part 4: Implement Regularization ===============\n",
    "%  Once your cost function implementation is correct, you should now\n",
    "%  continue to implement the regularization with the cost.\n",
    "%\n",
    "\n",
    "fprintf('\\nChecking Cost Function (w/ Regularization) ... \\n')\n",
    "\n",
    "% Weight regularization parameter (we set this to 1 here).\n",
    "lambda = 1;\n",
    "\n",
    "J = nnCostFunction(nn_params, input_layer_size, hidden_layer_size, ...\n",
    "                   num_labels, X, y, lambda);\n",
    "\n",
    "fprintf(['Cost at parameters (loaded from digits_neural_networks_weights): %f '...\n",
    "         '\\n(this value should be about 0.383770)\\n'], J);"
   ]
  },
  {
   "cell_type": "markdown",
   "metadata": {
    "heading_collapsed": true
   },
   "source": [
    "## Part 5 : Sigmoid Gradient  "
   ]
  },
  {
   "cell_type": "code",
   "execution_count": 45,
   "metadata": {
    "ExecuteTime": {
     "end_time": "2018-08-20T07:07:57.500621Z",
     "start_time": "2018-08-20T07:07:57.470367Z"
    },
    "hidden": true
   },
   "outputs": [
    {
     "name": "stdout",
     "output_type": "stream",
     "text": [
      "\n",
      "Evaluating sigmoid gradient...\n",
      "Sigmoid gradient evaluated at [-1 -0.5 0 0.5 1]:\n",
      "  \n",
      "0.196612 0.235004 0.250000 0.235004 0.196612 \n",
      "\n",
      "\n",
      "  0.196612 0.235004 0.250000 0.235004 0.196612 \n"
     ]
    }
   ],
   "source": [
    "%% ================ Part 5: Sigmoid Gradient  ================\n",
    "%  Before you start implementing the neural network, you will first\n",
    "%  implement the gradient for the sigmoid function. You should complete the\n",
    "%  code in the sigmoidGradient.m file.\n",
    "%\n",
    "\n",
    "fprintf('\\nEvaluating sigmoid gradient...\\n')\n",
    "\n",
    "g = sigmoidGradient([-1 -0.5 0 0.5 1]);\n",
    "fprintf('Sigmoid gradient evaluated at [-1 -0.5 0 0.5 1]:\\n  ');\n",
    "fprintf('%f ', g);\n",
    "fprintf('\\n\\n');"
   ]
  },
  {
   "cell_type": "markdown",
   "metadata": {
    "heading_collapsed": true
   },
   "source": [
    "## Part 6: Initializing Pameters"
   ]
  },
  {
   "cell_type": "code",
   "execution_count": 46,
   "metadata": {
    "ExecuteTime": {
     "end_time": "2018-08-20T07:07:58.940992Z",
     "start_time": "2018-08-20T07:07:58.913340Z"
    },
    "hidden": true
   },
   "outputs": [
    {
     "name": "stdout",
     "output_type": "stream",
     "text": [
      "\n",
      "Initializing Neural Network Parameters ...\n"
     ]
    }
   ],
   "source": [
    "%% ================ Part 6: Initializing Pameters ================\n",
    "%  In this part of the exercise, you will be starting to implment a two\n",
    "%  layer neural network that classifies digits. You will start by\n",
    "%  implementing a function to initialize the weights of the neural network\n",
    "%  (randInitializeWeights.m)\n",
    "\n",
    "fprintf('\\nInitializing Neural Network Parameters ...\\n')\n",
    "\n",
    "initial_Theta1 = randInitializeWeights(input_layer_size, hidden_layer_size);\n",
    "initial_Theta2 = randInitializeWeights(hidden_layer_size, num_labels);\n",
    "\n",
    "% Unroll parameters\n",
    "initial_nn_params = [initial_Theta1(:) ; initial_Theta2(:)];"
   ]
  },
  {
   "cell_type": "markdown",
   "metadata": {
    "heading_collapsed": true
   },
   "source": [
    "## Part 7: Implement Backpropagation "
   ]
  },
  {
   "cell_type": "code",
   "execution_count": 47,
   "metadata": {
    "ExecuteTime": {
     "end_time": "2018-08-20T07:08:00.551046Z",
     "start_time": "2018-08-20T07:08:00.439061Z"
    },
    "hidden": true
   },
   "outputs": [
    {
     "name": "stdout",
     "output_type": "stream",
     "text": [
      "\n",
      "Checking Backpropagation... \n",
      "  -9.2783e-03  -9.2783e-03\n",
      "   8.8991e-03   8.8991e-03\n",
      "  -8.3601e-03  -8.3601e-03\n",
      "   7.6281e-03   7.6281e-03\n",
      "  -6.7480e-03  -6.7480e-03\n",
      "  -3.0498e-06  -3.0498e-06\n",
      "   1.4287e-05   1.4287e-05\n",
      "  -2.5938e-05  -2.5938e-05\n",
      "   3.6988e-05   3.6988e-05\n",
      "  -4.6876e-05  -4.6876e-05\n",
      "  -1.7506e-04  -1.7506e-04\n",
      "   2.3315e-04   2.3315e-04\n",
      "  -2.8747e-04  -2.8747e-04\n",
      "   3.3532e-04   3.3532e-04\n",
      "  -3.7622e-04  -3.7622e-04\n",
      "  -9.6266e-05  -9.6266e-05\n",
      "   1.1798e-04   1.1798e-04\n",
      "  -1.3715e-04  -1.3715e-04\n",
      "   1.5325e-04   1.5325e-04\n",
      "  -1.6656e-04  -1.6656e-04\n",
      "   3.1454e-01   3.1454e-01\n",
      "   1.1106e-01   1.1106e-01\n",
      "   9.7401e-02   9.7401e-02\n",
      "   1.6409e-01   1.6409e-01\n",
      "   5.7574e-02   5.7574e-02\n",
      "   5.0458e-02   5.0458e-02\n",
      "   1.6457e-01   1.6457e-01\n",
      "   5.7787e-02   5.7787e-02\n",
      "   5.0753e-02   5.0753e-02\n",
      "   1.5834e-01   1.5834e-01\n",
      "   5.5924e-02   5.5924e-02\n",
      "   4.9162e-02   4.9162e-02\n",
      "   1.5113e-01   1.5113e-01\n",
      "   5.3697e-02   5.3697e-02\n",
      "   4.7146e-02   4.7146e-02\n",
      "   1.4957e-01   1.4957e-01\n",
      "   5.3154e-02   5.3154e-02\n",
      "   4.6560e-02   4.6560e-02\n",
      "The above two columns you get should be very similar.\n",
      "(Left-Your Numerical Gradient, Right-Analytical Gradient)\n",
      "\n",
      "If your backpropagation implementation is correct, then \n",
      "the relative difference will be small (less than 1e-9). \n",
      "\n",
      "Relative Difference: 2.27415e-11\n"
     ]
    }
   ],
   "source": [
    "%% =============== Part 7: Implement Backpropagation ===============\n",
    "%  Once your cost matches up with ours, you should proceed to implement the\n",
    "%  backpropagation algorithm for the neural network. You should add to the\n",
    "%  code you've written in nnCostFunction.m to return the partial\n",
    "%  derivatives of the parameters.\n",
    "%\n",
    "fprintf('\\nChecking Backpropagation... \\n');\n",
    "\n",
    "%  Check gradients by running checkNNGradients\n",
    "checkNNGradients;"
   ]
  },
  {
   "cell_type": "markdown",
   "metadata": {
    "heading_collapsed": true
   },
   "source": [
    "## Part 8: Implement Regularization"
   ]
  },
  {
   "cell_type": "code",
   "execution_count": 48,
   "metadata": {
    "ExecuteTime": {
     "end_time": "2018-08-20T07:08:02.192407Z",
     "start_time": "2018-08-20T07:08:01.923176Z"
    },
    "hidden": true
   },
   "outputs": [
    {
     "name": "stdout",
     "output_type": "stream",
     "text": [
      "\n",
      "Checking Backpropagation (w/ Regularization) ... \n",
      "  -9.2783e-03  -9.2783e-03\n",
      "   8.8991e-03   8.8991e-03\n",
      "  -8.3601e-03  -8.3601e-03\n",
      "   7.6281e-03   7.6281e-03\n",
      "  -6.7480e-03  -6.7480e-03\n",
      "  -1.6768e-02  -1.6768e-02\n",
      "   3.9433e-02   3.9433e-02\n",
      "   5.9336e-02   5.9336e-02\n",
      "   2.4764e-02   2.4764e-02\n",
      "  -3.2688e-02  -3.2688e-02\n",
      "  -6.0174e-02  -6.0174e-02\n",
      "  -3.1961e-02  -3.1961e-02\n",
      "   2.4923e-02   2.4923e-02\n",
      "   5.9772e-02   5.9772e-02\n",
      "   3.8641e-02   3.8641e-02\n",
      "  -1.7370e-02  -1.7370e-02\n",
      "  -5.7566e-02  -5.7566e-02\n",
      "  -4.5196e-02  -4.5196e-02\n",
      "   9.1459e-03   9.1459e-03\n",
      "   5.4610e-02   5.4610e-02\n",
      "   3.1454e-01   3.1454e-01\n",
      "   1.1106e-01   1.1106e-01\n",
      "   9.7401e-02   9.7401e-02\n",
      "   1.1868e-01   1.1868e-01\n",
      "   3.8193e-05   3.8193e-05\n",
      "   3.3693e-02   3.3693e-02\n",
      "   2.0399e-01   2.0399e-01\n",
      "   1.1715e-01   1.1715e-01\n",
      "   7.5480e-02   7.5480e-02\n",
      "   1.2570e-01   1.2570e-01\n",
      "  -4.0759e-03  -4.0759e-03\n",
      "   1.6968e-02   1.6968e-02\n",
      "   1.7634e-01   1.7634e-01\n",
      "   1.1313e-01   1.1313e-01\n",
      "   8.6163e-02   8.6163e-02\n",
      "   1.3229e-01   1.3229e-01\n",
      "  -4.5296e-03  -4.5296e-03\n",
      "   1.5005e-03   1.5005e-03\n",
      "The above two columns you get should be very similar.\n",
      "(Left-Your Numerical Gradient, Right-Analytical Gradient)\n",
      "\n",
      "If your backpropagation implementation is correct, then \n",
      "the relative difference will be small (less than 1e-9). \n",
      "\n",
      "Relative Difference: 2.21503e-11\n",
      "\n",
      "\n",
      "Cost at (fixed) debugging parameters (w/ lambda = 3.000000): 0.576051 \n",
      "(for lambda = 3, this value should be about 0.576051)\n",
      "\n"
     ]
    }
   ],
   "source": [
    "%% =============== Part 8: Implement Regularization ===============\n",
    "%  Once your backpropagation implementation is correct, you should now\n",
    "%  continue to implement the regularization with the cost and gradient.\n",
    "%\n",
    "\n",
    "fprintf('\\nChecking Backpropagation (w/ Regularization) ... \\n')\n",
    "\n",
    "%  Check gradients by running checkNNGradients\n",
    "lambda = 3;\n",
    "checkNNGradients(lambda);\n",
    "\n",
    "% Also output the costFunction debugging values\n",
    "debug_J  = nnCostFunction(nn_params, input_layer_size, ...\n",
    "                          hidden_layer_size, num_labels, X, y, lambda);\n",
    "\n",
    "fprintf(['\\n\\nCost at (fixed) debugging parameters (w/ lambda = %f): %f ' ...\n",
    "         '\\n(for lambda = 3, this value should be about 0.576051)\\n\\n'], lambda, debug_J);"
   ]
  },
  {
   "cell_type": "markdown",
   "metadata": {
    "heading_collapsed": true
   },
   "source": [
    "## Part 8: Training NN"
   ]
  },
  {
   "cell_type": "code",
   "execution_count": 49,
   "metadata": {
    "ExecuteTime": {
     "end_time": "2018-08-20T07:08:15.138289Z",
     "start_time": "2018-08-20T07:08:04.543117Z"
    },
    "hidden": true
   },
   "outputs": [
    {
     "name": "stdout",
     "output_type": "stream",
     "text": [
      "\n",
      "Training Neural Network... \n",
      "Iteration    50 | Cost: 4.572720e-01\n"
     ]
    }
   ],
   "source": [
    "%% =================== Part 8: Training NN ===================\n",
    "%  You have now implemented all the code necessary to train a neural \n",
    "%  network. To train your neural network, we will now use \"fmincg\", which\n",
    "%  is a function which works similarly to \"fminunc\". Recall that these\n",
    "%  advanced optimizers are able to train our cost functions efficiently as\n",
    "%  long as we provide them with the gradient computations.\n",
    "%\n",
    "fprintf('\\nTraining Neural Network... \\n')\n",
    "\n",
    "%  After you have completed the assignment, change the MaxIter to a larger\n",
    "%  value to see how more training helps.\n",
    "options = optimset('MaxIter', 50);\n",
    "\n",
    "%  You should also try different values of lambda\n",
    "lambda = 1;\n",
    "\n",
    "% Create \"short hand\" for the cost function to be minimized\n",
    "costFunction = @(p) nnCostFunction(p, ...\n",
    "                                   input_layer_size, ...\n",
    "                                   hidden_layer_size, ...\n",
    "                                   num_labels, X, y, lambda);\n",
    "\n",
    "% Now, costFunction is a function that takes in only one argument (the\n",
    "% neural network parameters)\n",
    "[nn_params, cost] = fmincg(costFunction, initial_nn_params, options);\n",
    "\n",
    "% Obtain Theta1 and Theta2 back from nn_params\n",
    "Theta1 = reshape(nn_params(1:hidden_layer_size * (input_layer_size + 1)), ...\n",
    "                 hidden_layer_size, (input_layer_size + 1));\n",
    "\n",
    "Theta2 = reshape(nn_params((1 + (hidden_layer_size * (input_layer_size + 1))):end), ...\n",
    "                 num_labels, (hidden_layer_size + 1));"
   ]
  },
  {
   "cell_type": "markdown",
   "metadata": {
    "heading_collapsed": true
   },
   "source": [
    "## Part 9 : Visualize Weights"
   ]
  },
  {
   "cell_type": "code",
   "execution_count": 50,
   "metadata": {
    "ExecuteTime": {
     "end_time": "2018-08-20T07:08:34.381883Z",
     "start_time": "2018-08-20T07:08:34.283506Z"
    },
    "hidden": true
   },
   "outputs": [
    {
     "name": "stdout",
     "output_type": "stream",
     "text": [
      "\n",
      "Visualizing Neural Network... \n"
     ]
    },
    {
     "data": {
      "image/png": "[encoded data removed]",
      "text/plain": [
       "<IPython.core.display.Image object>"
      ]
     },
     "metadata": {},
     "output_type": "display_data"
    }
   ],
   "source": [
    "%% ================= Part 9: Visualize Weights =================\n",
    "%  You can now \"visualize\" what the neural network is learning by \n",
    "%  displaying the hidden units to see what features they are capturing in \n",
    "%  the data.\n",
    "\n",
    "fprintf('\\nVisualizing Neural Network... \\n')\n",
    "\n",
    "displayData(Theta1(:, 2:end));"
   ]
  },
  {
   "cell_type": "markdown",
   "metadata": {
    "heading_collapsed": true
   },
   "source": [
    "## Part 10: Implement Predict"
   ]
  },
  {
   "cell_type": "code",
   "execution_count": 51,
   "metadata": {
    "ExecuteTime": {
     "end_time": "2018-08-20T07:08:58.049920Z",
     "start_time": "2018-08-20T07:08:58.003167Z"
    },
    "hidden": true
   },
   "outputs": [
    {
     "name": "stdout",
     "output_type": "stream",
     "text": [
      "\n",
      "Training Set Accuracy: 95.820000\n"
     ]
    }
   ],
   "source": [
    "%% ================= Part 10: Implement Predict =================\n",
    "%  After training the neural network, we would like to use it to predict\n",
    "%  the labels. You will now implement the \"predict\" function to use the\n",
    "%  neural network to predict the labels of the training set. This lets\n",
    "%  you compute the training set accuracy.\n",
    "\n",
    "pred = predict(Theta1, Theta2, X);\n",
    "\n",
    "fprintf('\\nTraining Set Accuracy: %f\\n', mean(double(pred == y)) * 100);"
   ]
  },
  {
   "cell_type": "code",
   "execution_count": null,
   "metadata": {
    "hidden": true
   },
   "outputs": [],
   "source": []
  }
 ],
 "metadata": {
  "kernelspec": {
   "display_name": "Octave",
   "language": "octave",
   "name": "octave"
  },
  "language_info": {
   "file_extension": ".m",
   "help_links": [
    {
     "text": "GNU Octave",
     "url": "https://www.gnu.org/software/octave/support.html"
    },
    {
     "text": "Octave Kernel",
     "url": "https://github.com/Calysto/octave_kernel"
    },
    {
     "text": "MetaKernel Magics",
     "url": "https://github.com/calysto/metakernel/blob/master/metakernel/magics/README.md"
    }
   ],
   "mimetype": "text/x-octave",
   "name": "octave",
   "version": "3.8.0"
  }
 },
 "nbformat": 4,
 "nbformat_minor": 2
}
