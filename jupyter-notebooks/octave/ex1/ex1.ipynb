{
 "cells": [
  {
   "cell_type": "markdown",
   "metadata": {},
   "source": [
    "# Basic Setup"
   ]
  },
  {
   "cell_type": "code",
   "execution_count": 2,
   "metadata": {
    "ExecuteTime": {
     "end_time": "2018-08-06T10:13:36.061289Z",
     "start_time": "2018-08-06T10:13:36.031922Z"
    }
   },
   "outputs": [],
   "source": [
    "function C = cleanUp()\n",
    "%CleanUp function in octave\n",
    "%   C = cleanUp() To CleanUp Octave Workspace\n",
    "\n",
    "    clear ; \n",
    "    close all; \n",
    "    clc\n",
    "\n",
    "end"
   ]
  },
  {
   "cell_type": "code",
   "execution_count": 5,
   "metadata": {
    "ExecuteTime": {
     "end_time": "2018-08-06T10:14:25.976890Z",
     "start_time": "2018-08-06T10:14:25.949835Z"
    }
   },
   "outputs": [],
   "source": [
    "function [X, y, m] = load_training_data(file)\n",
    "%load_data Loads CSV Data  \n",
    "%   load_data(filename) Loads CSV Data from the file\n",
    "    \n",
    "    %% Load Data\n",
    "    training_data = load(file);\n",
    "    ncols = size(training_data,2);\n",
    "    X = training_data(:, 1:ncols-1);\n",
    "    y = training_data(:, ncols);\n",
    "    m = length(y);\n",
    "\n",
    "end"
   ]
  },
  {
   "cell_type": "code",
   "execution_count": 7,
   "metadata": {
    "ExecuteTime": {
     "end_time": "2018-08-06T10:16:47.919923Z",
     "start_time": "2018-08-06T10:16:47.864185Z"
    }
   },
   "outputs": [],
   "source": [
    "function [X_norm, mu, sigma] = featureNormalize(X)\n",
    "%FEATURENORMALIZE Normalizes the features in X \n",
    "%   FEATURENORMALIZE(X) returns a normalized version of X where\n",
    "%   the mean value of each feature is 0 and the standard deviation\n",
    "%   is 1. This is often a good preprocessing step to do when\n",
    "%   working with learning algorithms.\n",
    "\n",
    "% You need to set these values correctly\n",
    "X_norm = X;\n",
    "mu = zeros(1, size(X, 2));\n",
    "sigma = zeros(1, size(X, 2));\n",
    "\n",
    "% ====================== Feature Normalization ======================\n",
    "% Instructions: First, for each feature dimension, compute the mean\n",
    "%               of the feature and subtract it from the dataset,\n",
    "%               storing the mean value in mu. Next, compute the \n",
    "%               standard deviation of each feature and divide\n",
    "%               each feature by it's standard deviation, storing\n",
    "%               the standard deviation in sigma.\n",
    "%       \n",
    "\n",
    "\n",
    "mu = mean(X);\n",
    "sigma = std(X);\n",
    "\n",
    "X_norm = bsxfun(@minus, X, mu);\n",
    "X_norm = bsxfun(@rdivide, X_norm, sigma);\n",
    "\n",
    "\n",
    "% ============================================================\n",
    "\n",
    "end"
   ]
  },
  {
   "cell_type": "code",
   "execution_count": 11,
   "metadata": {
    "ExecuteTime": {
     "end_time": "2018-08-06T10:18:49.943626Z",
     "start_time": "2018-08-06T10:18:49.894748Z"
    }
   },
   "outputs": [],
   "source": [
    "function J = computeCost(X, y, theta)\n",
    "%COMPUTECOST Compute cost for linear regression with multiple variables\n",
    "%   J = COMPUTECOST(X, y, theta) computes the cost of using theta as the\n",
    "%   parameter for linear regression to fit the data points in X and y\n",
    "\n",
    "% Initialize some useful values\n",
    "m = length(y); % number of training examples\n",
    "\n",
    "% You need to return the following variables correctly \n",
    "J = 0;\n",
    "\n",
    "% ====================== Compute Cost ======================\n",
    "% \tOriginal Formala : http://bit.ly/2KVLslg\n",
    "\n",
    "% Each observation is stored  as a row in  X Matrix\n",
    "% To take into account the intercept term theta_zero,\n",
    "% we add an additional 1st column to X and set it to all ones. \n",
    "% This allows us to treat theta_zero as simply another `feature'.\n",
    "\n",
    "% Using Matrix Multiplication\n",
    "% Cost Function can thus be depicted in Matrix Multiplication as below\n",
    "% X' means  Transpose of Matrix X\n",
    "\n",
    "J = (1/(2*m)) * (X * theta - y)' * (X * theta - y);\n",
    "\n",
    "% =============================================================\n",
    "\n",
    "end"
   ]
  },
  {
   "cell_type": "code",
   "execution_count": 12,
   "metadata": {
    "ExecuteTime": {
     "end_time": "2018-08-06T10:18:50.955879Z",
     "start_time": "2018-08-06T10:18:50.892935Z"
    }
   },
   "outputs": [],
   "source": [
    "function [theta, J_history] = gradientDescent(X, y, theta, alpha, num_iters)\n",
    "%GRADIENTDESCENT Performs gradient descent to learn theta\n",
    "%   theta = GRADIENTDESCENT(x, y, theta, alpha, num_iters) updates theta by\n",
    "%   taking num_iters gradient steps with learning rate alpha\n",
    "\n",
    "% Initialize some useful values\n",
    "m = length(y); % number of training examples\n",
    "J_history = zeros(num_iters, 1);\n",
    "\n",
    "for iter = 1:num_iters\n",
    "\n",
    "    % ====================== Gradient Descent ======================\n",
    "    % Instructions: Perform a single gradient step on the parameter vector\n",
    "    %               theta. \n",
    "    %\n",
    "    %   Original Formala : http://bit.ly/2LlH7Ee\n",
    "    %            \n",
    "    % Each observation is stored  as a row in  X Matrix\n",
    "    % To take into account the intercept term theta_zero,\n",
    "    % we add an additional 1st column to X and set it to all ones. \n",
    "    % This allows us to treat theta_zero as simply another `feature'.\n",
    "\n",
    "    % Using Matrix Multiplication\n",
    "    % Gradient Descent can thus be depicted in Matrix Multiplication as below\n",
    "    % X' means  Transpose of Matrix X\n",
    "\n",
    "    theta = theta - (alpha/m) * (X' * (X * theta - y));\n",
    "\n",
    "    % ============================================================\n",
    "\n",
    "    % Save the cost J in every iteration    \n",
    "    J_history(iter) = computeCost(X, y, theta);\n",
    "\n",
    "end\n",
    "\n",
    "end"
   ]
  },
  {
   "cell_type": "code",
   "execution_count": 20,
   "metadata": {
    "ExecuteTime": {
     "end_time": "2018-08-06T10:23:23.457433Z",
     "start_time": "2018-08-06T10:23:23.427855Z"
    }
   },
   "outputs": [],
   "source": [
    "function [theta] = normalEqn(X, y)\n",
    "%NORMALEQN Computes the closed-form solution to linear regression \n",
    "%   NORMALEQN(X,y) computes the closed-form solution to linear \n",
    "%   regression using the normal equations.\n",
    "\n",
    "theta = zeros(size(X, 2), 1);\n",
    "\n",
    "% ====================== Normal Equation ======================\n",
    "% compute the closed form solution to linear regression and put the result\n",
    "% in theta.\n",
    "\n",
    "theta = pinv(X' * X) * (X' * y);\n",
    "\n",
    "% ============================================================\n",
    "\n",
    "end\n",
    "\n"
   ]
  },
  {
   "cell_type": "code",
   "execution_count": 13,
   "metadata": {
    "ExecuteTime": {
     "end_time": "2018-08-06T10:18:52.429330Z",
     "start_time": "2018-08-06T10:18:52.399800Z"
    }
   },
   "outputs": [
    {
     "name": "stdout",
     "output_type": "stream",
     "text": [
      "\u001b[H\u001b[2J\n",
      "Loading data ...\n",
      "First 10 examples from the dataset: \n",
      " x = [2104 3], y = 399900 \n",
      " x = [1600 3], y = 329900 \n",
      " x = [2400 3], y = 369000 \n",
      " x = [1416 2], y = 232000 \n",
      " x = [3000 4], y = 539900 \n",
      " x = [1985 4], y = 299900 \n",
      " x = [1534 3], y = 314900 \n",
      " x = [1427 3], y = 198999 \n",
      " x = [1380 3], y = 212000 \n",
      " x = [1494 3], y = 242500 \n",
      "\u001b[H\u001b[2J\n"
     ]
    }
   ],
   "source": [
    "cleanUp\n",
    "\n",
    "training_data_set = '../data/house_price_training_data.txt';\n",
    "prediction_data_set = '../data/house_price_predict.txt';\n",
    "\n",
    "fprintf('Loading data ...\\n');\n",
    "[X y m] = load_training_data(training_data_set);\n",
    "\n",
    "% Print out some data points\n",
    "fprintf('First 10 examples from the dataset: \\n');\n",
    "fprintf(' x = [%.0f %.0f], y = %.0f \\n', [X(1:10,:) y(1:10,:)]');"
   ]
  },
  {
   "cell_type": "markdown",
   "metadata": {},
   "source": [
    "# Scale features and set them to zero mean - Normalize Features"
   ]
  },
  {
   "cell_type": "code",
   "execution_count": 14,
   "metadata": {
    "ExecuteTime": {
     "end_time": "2018-08-06T10:18:56.097330Z",
     "start_time": "2018-08-06T10:18:56.084070Z"
    }
   },
   "outputs": [],
   "source": [
    "[X mu sigma] = featureNormalize(X);\n",
    "\n",
    "% Add intercept term to X\n",
    "X = [ones(m, 1) X];"
   ]
  },
  {
   "cell_type": "markdown",
   "metadata": {},
   "source": [
    "# Gradient Descent"
   ]
  },
  {
   "cell_type": "code",
   "execution_count": 15,
   "metadata": {
    "ExecuteTime": {
     "end_time": "2018-08-06T10:18:58.356335Z",
     "start_time": "2018-08-06T10:18:58.331556Z"
    }
   },
   "outputs": [],
   "source": [
    "% Choose some alpha value\n",
    "alpha = 1;\n",
    "num_iters = 50;\n",
    "\n",
    "% Init Theta and Run Gradient Descent \n",
    "ncols=size(X,2);\n",
    "theta = zeros(ncols, 1); \n",
    "[theta, J_history] = gradientDescent(X, y, theta, alpha, num_iters);"
   ]
  },
  {
   "cell_type": "markdown",
   "metadata": {},
   "source": [
    "# Plot the convergence graph - Gradient Descent"
   ]
  },
  {
   "cell_type": "code",
   "execution_count": 16,
   "metadata": {
    "ExecuteTime": {
     "end_time": "2018-08-06T10:19:27.200099Z",
     "start_time": "2018-08-06T10:19:26.759855Z"
    }
   },
   "outputs": [
    {
     "name": "stdout",
     "output_type": "stream",
     "text": [
      "Theta computed from gradient descent: \n",
      " 340412.659574 \n",
      " 110631.050279 \n",
      " -6649.474271 \n",
      "\n"
     ]
    },
    {
     "data": {
      "image/svg+xml": [
       "<svg height=\"420px\" viewBox=\"0 0 560 420\" width=\"560px\" xmlns=\"http://www.w3.org/2000/svg\" xmlns:xlink=\"http://www.w3.org/1999/xlink\">\n",
       "\n",
       "<title>Gnuplot</title>\n",
       "<desc>Produced by GNUPLOT 4.6 patchlevel 4 </desc>\n",
       "\n",
       "<g id=\"gnuplot_canvas\">\n",
       "\n",
       "<rect fill=\"none\" height=\"420\" width=\"560\" x=\"0\" y=\"0\"/>\n",
       "<defs>\n",
       "\n",
       "\t<circle id=\"gpDot\" r=\"0.5\" stroke-width=\"0.5\"/>\n",
       "\t<path d=\"M-1,0 h2 M0,-1 v2\" id=\"gpPt0\" stroke=\"currentColor\" stroke-width=\"0.333\"/>\n",
       "\t<path d=\"M-1,-1 L1,1 M1,-1 L-1,1\" id=\"gpPt1\" stroke=\"currentColor\" stroke-width=\"0.333\"/>\n",
       "\t<path d=\"M-1,0 L1,0 M0,-1 L0,1 M-1,-1 L1,1 M-1,1 L1,-1\" id=\"gpPt2\" stroke=\"currentColor\" stroke-width=\"0.333\"/>\n",
       "\t<rect height=\"2\" id=\"gpPt3\" stroke=\"currentColor\" stroke-width=\"0.333\" width=\"2\" x=\"-1\" y=\"-1\"/>\n",
       "\t<rect fill=\"currentColor\" height=\"2\" id=\"gpPt4\" stroke=\"currentColor\" stroke-width=\"0.333\" width=\"2\" x=\"-1\" y=\"-1\"/>\n",
       "\t<circle cx=\"0\" cy=\"0\" id=\"gpPt5\" r=\"1\" stroke=\"currentColor\" stroke-width=\"0.333\"/>\n",
       "\t<use fill=\"currentColor\" id=\"gpPt6\" stroke=\"none\" xlink:href=\"#gpPt5\"/>\n",
       "\t<path d=\"M0,-1.33 L-1.33,0.67 L1.33,0.67 z\" id=\"gpPt7\" stroke=\"currentColor\" stroke-width=\"0.333\"/>\n",
       "\t<use fill=\"currentColor\" id=\"gpPt8\" stroke=\"none\" xlink:href=\"#gpPt7\"/>\n",
       "\t<use id=\"gpPt9\" stroke=\"currentColor\" transform=\"rotate(180)\" xlink:href=\"#gpPt7\"/>\n",
       "\t<use fill=\"currentColor\" id=\"gpPt10\" stroke=\"none\" xlink:href=\"#gpPt9\"/>\n",
       "\t<use id=\"gpPt11\" stroke=\"currentColor\" transform=\"rotate(45)\" xlink:href=\"#gpPt3\"/>\n",
       "\t<use fill=\"currentColor\" id=\"gpPt12\" stroke=\"none\" xlink:href=\"#gpPt11\"/>\n",
       "</defs>\n",
       "<g style=\"fill:none; color:white; stroke:currentColor; stroke-width:1.00; stroke-linecap:butt; stroke-linejoin:miter\">\n",
       "</g>\n",
       "<g style=\"fill:none; color:black; stroke:currentColor; stroke-width:1.00; stroke-linecap:butt; stroke-linejoin:miter\">\n",
       "\t<g style=\"stroke:none; shape-rendering:crispEdges\">\n",
       "\t\t<polygon fill=\"rgb(255, 255, 255)\" points=\"65.2,381.6 543.0,381.6 543.0,11.4 65.2,11.4 \"/>\n",
       "\t</g>\n",
       "\t<path d=\"M65.2,381.6 L65.2,11.4 L543.0,11.4 L543.0,381.6 L65.2,381.6  h0.01\" stroke=\"black\"/></g>\n",
       "<g style=\"fill:none; color:black; stroke:black; stroke-width:0.50; stroke-linecap:butt; stroke-linejoin:miter\">\n",
       "\t<path d=\"M65.2,381.6 L73.6,381.6 M543.1,381.6 L534.7,381.6  h0.01\" stroke=\"black\"/>\t<g style=\"stroke:none; fill:rgb(0,0,0); font-family:{}; font-size:10.00pt; text-anchor:end\" transform=\"translate(59.6,385.3)\">\n",
       "\t\t<text><tspan>2e+09</tspan></text>\n",
       "\t</g>\n",
       "\t<path d=\"M65.2,289.0 L73.6,289.0 M543.1,289.0 L534.7,289.0  h0.01\" stroke=\"black\"/>\t<g style=\"stroke:none; fill:rgb(0,0,0); font-family:{}; font-size:10.00pt; text-anchor:end\" transform=\"translate(59.6,292.7)\">\n",
       "\t\t<text><tspan>2.5e+09</tspan></text>\n",
       "\t</g>\n",
       "\t<path d=\"M65.2,196.4 L73.6,196.4 M543.1,196.4 L534.7,196.4  h0.01\" stroke=\"black\"/>\t<g style=\"stroke:none; fill:rgb(0,0,0); font-family:{}; font-size:10.00pt; text-anchor:end\" transform=\"translate(59.6,200.1)\">\n",
       "\t\t<text><tspan>3e+09</tspan></text>\n",
       "\t</g>\n",
       "\t<path d=\"M65.2,103.9 L73.6,103.9 M543.1,103.9 L534.7,103.9  h0.01\" stroke=\"black\"/>\t<g style=\"stroke:none; fill:rgb(0,0,0); font-family:{}; font-size:10.00pt; text-anchor:end\" transform=\"translate(59.6,107.6)\">\n",
       "\t\t<text><tspan>3.5e+09</tspan></text>\n",
       "\t</g>\n",
       "\t<path d=\"M65.2,11.3 L73.6,11.3 M543.1,11.3 L534.7,11.3  h0.01\" stroke=\"black\"/>\t<g style=\"stroke:none; fill:rgb(0,0,0); font-family:{}; font-size:10.00pt; text-anchor:end\" transform=\"translate(59.6,15.0)\">\n",
       "\t\t<text><tspan>4e+09</tspan></text>\n",
       "\t</g>\n",
       "\t<path d=\"M65.2,381.6 L65.2,373.2 M65.2,11.3 L65.2,19.7  h0.01\" stroke=\"black\"/>\t<g style=\"stroke:none; fill:rgb(0,0,0); font-family:{}; font-size:10.00pt; text-anchor:middle\" transform=\"translate(65.2,397.3)\">\n",
       "\t\t<text><tspan>0</tspan></text>\n",
       "\t</g>\n",
       "\t<path d=\"M160.8,381.6 L160.8,373.2 M160.8,11.3 L160.8,19.7  h0.01\" stroke=\"black\"/>\t<g style=\"stroke:none; fill:rgb(0,0,0); font-family:{}; font-size:10.00pt; text-anchor:middle\" transform=\"translate(160.8,397.3)\">\n",
       "\t\t<text><tspan>10</tspan></text>\n",
       "\t</g>\n",
       "\t<path d=\"M256.4,381.6 L256.4,373.2 M256.4,11.3 L256.4,19.7  h0.01\" stroke=\"black\"/>\t<g style=\"stroke:none; fill:rgb(0,0,0); font-family:{}; font-size:10.00pt; text-anchor:middle\" transform=\"translate(256.4,397.3)\">\n",
       "\t\t<text><tspan>20</tspan></text>\n",
       "\t</g>\n",
       "\t<path d=\"M351.9,381.6 L351.9,373.2 M351.9,11.3 L351.9,19.7  h0.01\" stroke=\"black\"/>\t<g style=\"stroke:none; fill:rgb(0,0,0); font-family:{}; font-size:10.00pt; text-anchor:middle\" transform=\"translate(351.9,397.3)\">\n",
       "\t\t<text><tspan>30</tspan></text>\n",
       "\t</g>\n",
       "\t<path d=\"M447.5,381.6 L447.5,373.2 M447.5,11.3 L447.5,19.7  h0.01\" stroke=\"black\"/>\t<g style=\"stroke:none; fill:rgb(0,0,0); font-family:{}; font-size:10.00pt; text-anchor:middle\" transform=\"translate(447.5,397.3)\">\n",
       "\t\t<text><tspan>40</tspan></text>\n",
       "\t</g>\n",
       "\t<path d=\"M543.1,381.6 L543.1,373.2 M543.1,11.3 L543.1,19.7  h0.01\" stroke=\"black\"/>\t<g style=\"stroke:none; fill:rgb(0,0,0); font-family:{}; font-size:10.00pt; text-anchor:middle\" transform=\"translate(543.1,397.3)\">\n",
       "\t\t<text><tspan>50</tspan></text>\n",
       "\t</g>\n",
       "\t<path d=\"M65.2,11.3 L65.2,381.6 L543.1,381.6 L543.1,11.3 L65.2,11.3 Z  h0.01\" stroke=\"black\"/>\t<g style=\"stroke:none; fill:rgb(0,0,0); font-family:{}; font-size:10.00pt; text-anchor:middle\" transform=\"translate(12.5,196.5) rotate(-90)\">\n",
       "\t\t<text><tspan>Cost J</tspan></text>\n",
       "\t</g>\n",
       "\t<g style=\"stroke:none; fill:rgb(0,0,0); font-family:{}; font-size:10.00pt; text-anchor:middle\" transform=\"translate(304.1,415.3)\">\n",
       "\t\t<text><tspan>Number of iterations</tspan></text>\n",
       "\t</g>\n",
       "</g>\n",
       "\t<g id=\"gnuplot_plot_1a\"><title>gnuplot_plot_1a</title>\n",
       "<g style=\"fill:none; color:white; stroke:black; stroke-width:2.00; stroke-linecap:butt; stroke-linejoin:miter\">\n",
       "</g>\n",
       "<g style=\"fill:none; color:red; stroke:currentColor; stroke-width:2.00; stroke-linecap:butt; stroke-linejoin:miter\">\n",
       "\t<path d=\"M74.8,72.7 L84.3,285.9 L93.9,347.9 L103.4,366.0 L113.0,371.3 L122.5,372.9 L132.1,373.4 L141.7,373.5    L151.2,373.6 L160.8,373.6 L170.3,373.6 L179.9,373.6 L189.5,373.6 L199.0,373.6 L208.6,373.6 L218.1,373.6    L227.7,373.6 L237.2,373.6 L246.8,373.6 L256.4,373.6 L265.9,373.6 L275.5,373.6 L285.0,373.6 L294.6,373.6    L304.2,373.6 L313.7,373.6 L323.3,373.6 L332.8,373.6 L342.4,373.6 L351.9,373.6 L361.5,373.6 L371.1,373.6    L380.6,373.6 L390.2,373.6 L399.7,373.6 L409.3,373.6 L418.8,373.6 L428.4,373.6 L438.0,373.6 L447.5,373.6    L457.1,373.6 L466.6,373.6 L476.2,373.6 L485.8,373.6 L495.3,373.6 L504.9,373.6 L514.4,373.6 L524.0,373.6    L533.5,373.6 L543.1,373.6  h0.01\" stroke=\"rgb(  0,   0, 255)\"/></g>\n",
       "\t</g>\n",
       "<g style=\"fill:none; color:white; stroke:rgb(  0,   0, 255); stroke-width:0.50; stroke-linecap:butt; stroke-linejoin:miter\">\n",
       "</g>\n",
       "<g style=\"fill:none; color:black; stroke:currentColor; stroke-width:0.50; stroke-linecap:butt; stroke-linejoin:miter\">\n",
       "</g>\n",
       "</g>\n",
       "</svg>"
      ],
      "text/plain": [
       "<IPython.core.display.SVG object>"
      ]
     },
     "metadata": {},
     "output_type": "display_data"
    }
   ],
   "source": [
    "figure;\n",
    "plot(1:numel(J_history), J_history, '-b', 'LineWidth', 2);\n",
    "xlabel('Number of iterations');\n",
    "ylabel('Cost J');\n",
    "\n",
    "% Display gradient descent's result\n",
    "fprintf('Theta computed from gradient descent: \\n');\n",
    "fprintf(' %f \\n', theta);\n",
    "fprintf('\\n');"
   ]
  },
  {
   "cell_type": "markdown",
   "metadata": {},
   "source": [
    "# Predict price of a 1650 sq-ft, 3 br house - Gradient Descent"
   ]
  },
  {
   "cell_type": "code",
   "execution_count": 18,
   "metadata": {
    "ExecuteTime": {
     "end_time": "2018-08-06T10:20:55.766081Z",
     "start_time": "2018-08-06T10:20:55.749298Z"
    }
   },
   "outputs": [
    {
     "name": "stdout",
     "output_type": "stream",
     "text": [
      "Predicted price of a 1650 sq-ft, 3 br house (using gradient descent):\n",
      " $182861697.196800\n"
     ]
    }
   ],
   "source": [
    "price = 0; \n",
    "prediction_data = load(prediction_data_set);\n",
    "price = prediction_data * theta;\n",
    "printf(['Predicted price of a 1650 sq-ft, 3 br house ' ...\n",
    "         '(using gradient descent):\\n $%f\\n'], price);"
   ]
  },
  {
   "cell_type": "markdown",
   "metadata": {},
   "source": [
    "#  Predict price of a 1650 sq-ft, 3 br house - With Normal Equation"
   ]
  },
  {
   "cell_type": "code",
   "execution_count": 22,
   "metadata": {
    "ExecuteTime": {
     "end_time": "2018-08-06T10:24:24.697222Z",
     "start_time": "2018-08-06T10:24:24.654971Z"
    }
   },
   "outputs": [
    {
     "name": "stdout",
     "output_type": "stream",
     "text": [
      "Theta computed from the normal equations: \n",
      " 89597.909542 \n",
      " 139.210674 \n",
      " -8738.019112 \n",
      "\n",
      "Predicted price of a 1650 sq-ft, 3 br house (using normal equations):\n",
      " $293081.464335\n"
     ]
    }
   ],
   "source": [
    "%% Load Data\n",
    "[X y m] = load_training_data(training_data_set);\n",
    "\n",
    "% Add intercept term to X\n",
    "X = [ones(m, 1) X];\n",
    "\n",
    "% Calculate the parameters from the normal equation\n",
    "theta = normalEqn(X, y);\n",
    "\n",
    "% Display normal equation's result\n",
    "fprintf('Theta computed from the normal equations: \\n');\n",
    "fprintf(' %f \\n', theta);\n",
    "fprintf('\\n');\n",
    "\n",
    "price = 0; \n",
    "prediction_data = load(prediction_data_set);\n",
    "price = prediction_data * theta;\n",
    "fprintf(['Predicted price of a 1650 sq-ft, 3 br house ' ...\n",
    "         '(using normal equations):\\n $%f\\n'], price);"
   ]
  },
  {
   "cell_type": "code",
   "execution_count": null,
   "metadata": {},
   "outputs": [],
   "source": []
  }
 ],
 "metadata": {
  "kernelspec": {
   "display_name": "Octave",
   "language": "octave",
   "name": "octave"
  },
  "language_info": {
   "file_extension": ".m",
   "help_links": [
    {
     "text": "GNU Octave",
     "url": "https://www.gnu.org/software/octave/support.html"
    },
    {
     "text": "Octave Kernel",
     "url": "https://github.com/Calysto/octave_kernel"
    },
    {
     "text": "MetaKernel Magics",
     "url": "https://github.com/calysto/metakernel/blob/master/metakernel/magics/README.md"
    }
   ],
   "mimetype": "text/x-octave",
   "name": "octave",
   "version": "3.8.0"
  }
 },
 "nbformat": 4,
 "nbformat_minor": 2
}
