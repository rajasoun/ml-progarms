{
 "cells": [
  {
   "cell_type": "markdown",
   "metadata": {},
   "source": [
    "# Machine Learning Online Class - Exercise 3 | Part 2: Neural Networks"
   ]
  },
  {
   "cell_type": "markdown",
   "metadata": {},
   "source": [
    "## Functions"
   ]
  },
  {
   "cell_type": "code",
   "execution_count": 1,
   "metadata": {
    "ExecuteTime": {
     "end_time": "2018-08-08T06:28:00.385917Z",
     "start_time": "2018-08-08T06:28:00.352909Z"
    }
   },
   "outputs": [],
   "source": [
    "function g = sigmoid(z)\n",
    "%SIGMOID Compute sigmoid function\n",
    "%   g = SIGMOID(z) computes the sigmoid of z.\n",
    "\n",
    "% You need to return the following variables correctly \n",
    "g = zeros(size(z));\n",
    "\n",
    "% ====================== YOUR CODE HERE ======================\n",
    "% Instructions: Compute the sigmoid of each value of z (z can be a matrix,\n",
    "%               vector or scalar).\n",
    "\n",
    "g = 1 ./ (1 + e .^ -z);\n",
    "\n",
    "\n",
    "% =============================================================\n",
    "\n",
    "end"
   ]
  },
  {
   "cell_type": "code",
   "execution_count": 2,
   "metadata": {
    "ExecuteTime": {
     "end_time": "2018-08-08T06:28:01.358791Z",
     "start_time": "2018-08-08T06:28:01.258358Z"
    }
   },
   "outputs": [],
   "source": [
    "function [h, display_array] = displayData(X, example_width)\n",
    "%DISPLAYDATA Display 2D data in a nice grid\n",
    "%   [h, display_array] = DISPLAYDATA(X, example_width) displays 2D data\n",
    "%   stored in X in a nice grid. It returns the figure handle h and the \n",
    "%   displayed array if requested.\n",
    "\n",
    "% Set example_width automatically if not passed in\n",
    "if ~exist('example_width', 'var') || isempty(example_width) \n",
    "    example_width = round(sqrt(size(X, 2)));\n",
    "end\n",
    "\n",
    "% Gray Image\n",
    "colormap(gray);\n",
    "\n",
    "% Compute rows, cols\n",
    "[m n] = size(X);\n",
    "example_height = (n / example_width);\n",
    "\n",
    "% Compute number of items to display\n",
    "display_rows = floor(sqrt(m));\n",
    "display_cols = ceil(m / display_rows);\n",
    "\n",
    "% Between images padding\n",
    "pad = 1;\n",
    "\n",
    "% Setup blank display\n",
    "display_array = - ones(pad + display_rows * (example_height + pad), ...\n",
    "                       pad + display_cols * (example_width + pad));\n",
    "\n",
    "% Copy each example into a patch on the display array\n",
    "curr_ex = 1;\n",
    "for j = 1:display_rows\n",
    "    for i = 1:display_cols\n",
    "        if curr_ex > m, \n",
    "            break; \n",
    "        end\n",
    "        % Copy the patch\n",
    "        % Get the max value of the patch\n",
    "        max_val = max(abs(X(curr_ex, :)));\n",
    "        display_array(pad + (j - 1) * (example_height + pad) + (1:example_height), ...\n",
    "                      pad + (i - 1) * (example_width + pad) + (1:example_width)) = ...\n",
    "                        reshape(X(curr_ex, :), example_height, example_width) / max_val;\n",
    "        curr_ex = curr_ex + 1;\n",
    "    end\n",
    "    if curr_ex > m, \n",
    "        break; \n",
    "    end\n",
    "end\n",
    "\n",
    "% Display Image\n",
    "h = imagesc(display_array, [-1 1]);\n",
    "\n",
    "% Do not show axis\n",
    "axis image off\n",
    "\n",
    "drawnow;\n",
    "\n",
    "end"
   ]
  },
  {
   "cell_type": "code",
   "execution_count": 3,
   "metadata": {
    "ExecuteTime": {
     "end_time": "2018-08-08T06:28:02.353739Z",
     "start_time": "2018-08-08T06:28:02.298368Z"
    }
   },
   "outputs": [],
   "source": [
    "function p = predict(Theta1, Theta2, X)\n",
    "%PREDICT Predict the label of an input given a trained neural network\n",
    "%   p = PREDICT(Theta1, Theta2, X) outputs the predicted label of X given the\n",
    "%   trained weights of a neural network (Theta1, Theta2)\n",
    "\n",
    "% Useful values\n",
    "m = size(X, 1);\n",
    "num_labels = size(Theta2, 1);\n",
    "\n",
    "% You need to return the following variables correctly \n",
    "p = zeros(size(X, 1), 1);\n",
    "\n",
    "% ====================== YOUR CODE HERE ======================\n",
    "% Instructions: Complete the following code to make predictions using\n",
    "%               your learned neural network. You should set p to a \n",
    "%               vector containing labels between 1 to num_labels.\n",
    "%\n",
    "% Hint: The max function might come in useful. In particular, the max\n",
    "%       function can also return the index of the max element, for more\n",
    "%       information see 'help max'. If your examples are in rows, then, you\n",
    "%       can use max(A, [], 2) to obtain the max for each row.\n",
    "%\n",
    "\n",
    "\n",
    "\n",
    "A1 = [ones(1, m); X'];\n",
    "A2 = [ones(1, m); sigmoid(Theta1*A1)];\n",
    "A3 = sigmoid(Theta2*A2);\n",
    "[value, p] = max(A3', [], 2);\n",
    "\n",
    "% =========================================================================\n",
    "\n",
    "end"
   ]
  },
  {
   "cell_type": "markdown",
   "metadata": {},
   "source": [
    "## Initialization"
   ]
  },
  {
   "cell_type": "code",
   "execution_count": 4,
   "metadata": {
    "ExecuteTime": {
     "end_time": "2018-08-08T06:28:03.818754Z",
     "start_time": "2018-08-08T06:28:03.807310Z"
    }
   },
   "outputs": [
    {
     "name": "stdout",
     "output_type": "stream",
     "text": [
      "\u001b[H\u001b[2J\n",
      "\u001b[H\u001b[2J\n"
     ]
    }
   ],
   "source": [
    "clear ; close all; clc"
   ]
  },
  {
   "cell_type": "markdown",
   "metadata": {},
   "source": [
    "## Load Data\n",
    "### The first two columns contains the exam scores and the third column and ontains the label."
   ]
  },
  {
   "cell_type": "code",
   "execution_count": 5,
   "metadata": {
    "ExecuteTime": {
     "end_time": "2018-08-08T06:28:09.461098Z",
     "start_time": "2018-08-08T06:28:09.105777Z"
    }
   },
   "outputs": [
    {
     "name": "stdout",
     "output_type": "stream",
     "text": [
      "Loading and Visualizing Data ...\n"
     ]
    },
    {
     "data": {
      "image/png": "[encoded data removed]",
      "text/plain": [
       "<IPython.core.display.Image object>"
      ]
     },
     "metadata": {},
     "output_type": "display_data"
    }
   ],
   "source": [
    "\n",
    "%% Setup the parameters you will use for this exercise\n",
    "input_layer_size  = 400;  % 20x20 Input Images of Digits\n",
    "hidden_layer_size = 25;   % 25 hidden units\n",
    "num_labels = 10;          % 10 labels, from 1 to 10   \n",
    "                          % (note that we have mapped \"0\" to label 10)\n",
    "\n",
    "%% =========== Part 1: Loading and Visualizing Data =============\n",
    "%  We start the exercise by first loading and visualizing the dataset. \n",
    "%  You will be working with a dataset that contains handwritten digits.\n",
    "%\n",
    "\n",
    "% Load Training Data\n",
    "fprintf('Loading and Visualizing Data ...\\n')\n",
    "\n",
    "load('../../data/handwritten_digits.mat');\n",
    "m = size(X, 1);\n",
    "\n",
    "% Randomly select 100 data points to display\n",
    "sel = randperm(size(X, 1));\n",
    "sel = sel(1:100);\n",
    "\n",
    "displayData(X(sel, :));"
   ]
  },
  {
   "cell_type": "markdown",
   "metadata": {},
   "source": [
    "## Load Saved Neural Network Parameters\n",
    "Test case for lrCostFunction\n"
   ]
  },
  {
   "cell_type": "code",
   "execution_count": 6,
   "metadata": {
    "ExecuteTime": {
     "end_time": "2018-08-08T06:28:11.789532Z",
     "start_time": "2018-08-08T06:28:11.772309Z"
    }
   },
   "outputs": [
    {
     "name": "stdout",
     "output_type": "stream",
     "text": [
      "\n",
      "Loading Saved Neural Network Parameters ...\n",
      "\n",
      "Loaded ...\n"
     ]
    }
   ],
   "source": [
    "fprintf('\\nLoading Saved Neural Network Parameters ...\\n')\n",
    "\n",
    "% Load the weights into variables Theta1 and Theta2\n",
    "load('../../data/handwritten_digits_neural_networks.mat');\n",
    "fprintf('\\nLoaded ...\\n')"
   ]
  },
  {
   "cell_type": "markdown",
   "metadata": {},
   "source": [
    "## Predict Handwritten Digit"
   ]
  },
  {
   "cell_type": "code",
   "execution_count": 7,
   "metadata": {
    "ExecuteTime": {
     "end_time": "2018-08-08T06:28:14.674795Z",
     "start_time": "2018-08-08T06:28:14.595205Z"
    }
   },
   "outputs": [
    {
     "name": "stdout",
     "output_type": "stream",
     "text": [
      "\n",
      "Training Set Accuracy: 97.520000\n"
     ]
    }
   ],
   "source": [
    "pred = predict(Theta1, Theta2, X);\n",
    "\n",
    "fprintf('\\nTraining Set Accuracy: %f\\n', mean(double(pred == y)) * 100);"
   ]
  },
  {
   "cell_type": "markdown",
   "metadata": {},
   "source": [
    "### Predict Over Loop"
   ]
  },
  {
   "cell_type": "code",
   "execution_count": 10,
   "metadata": {
    "ExecuteTime": {
     "end_time": "2018-08-08T06:29:01.445645Z",
     "start_time": "2018-08-08T06:28:49.971950Z"
    }
   },
   "outputs": [
    {
     "name": "stdout",
     "output_type": "stream",
     "text": [
      "\n",
      "Displaying Example Image\n",
      "ans = -1.3019\n",
      "\n",
      "Neural Network Prediction: 10 (digit 0)\n",
      "Paused - press enter to continue, q to exit:\n",
      "\n",
      "Displaying Example Image\n",
      "ans = -1.3896\n",
      "\n",
      "Neural Network Prediction: 4 (digit 4)\n",
      "Paused - press enter to continue, q to exit:q\n"
     ]
    },
    {
     "data": {
      "image/svg+xml": [
       "<svg height=\"420px\" viewBox=\"0 0 560 420\" width=\"560px\" xmlns=\"http://www.w3.org/2000/svg\" xmlns:xlink=\"http://www.w3.org/1999/xlink\">\n",
       "\n",
       "<title>Gnuplot</title>\n",
       "<desc>Produced by GNUPLOT 4.6 patchlevel 4 </desc>\n",
       "\n",
       "<g id=\"gnuplot_canvas\">\n",
       "\n",
       "<rect fill=\"none\" height=\"420\" width=\"560\" x=\"0\" y=\"0\"/>\n",
       "<defs>\n",
       "\n",
       "\t<circle id=\"gpDot\" r=\"0.5\" stroke-width=\"0.5\"/>\n",
       "\t<path d=\"M-1,0 h2 M0,-1 v2\" id=\"gpPt0\" stroke=\"currentColor\" stroke-width=\"0.333\"/>\n",
       "\t<path d=\"M-1,-1 L1,1 M1,-1 L-1,1\" id=\"gpPt1\" stroke=\"currentColor\" stroke-width=\"0.333\"/>\n",
       "\t<path d=\"M-1,0 L1,0 M0,-1 L0,1 M-1,-1 L1,1 M-1,1 L1,-1\" id=\"gpPt2\" stroke=\"currentColor\" stroke-width=\"0.333\"/>\n",
       "\t<rect height=\"2\" id=\"gpPt3\" stroke=\"currentColor\" stroke-width=\"0.333\" width=\"2\" x=\"-1\" y=\"-1\"/>\n",
       "\t<rect fill=\"currentColor\" height=\"2\" id=\"gpPt4\" stroke=\"currentColor\" stroke-width=\"0.333\" width=\"2\" x=\"-1\" y=\"-1\"/>\n",
       "\t<circle cx=\"0\" cy=\"0\" id=\"gpPt5\" r=\"1\" stroke=\"currentColor\" stroke-width=\"0.333\"/>\n",
       "\t<use fill=\"currentColor\" id=\"gpPt6\" stroke=\"none\" xlink:href=\"#gpPt5\"/>\n",
       "\t<path d=\"M0,-1.33 L-1.33,0.67 L1.33,0.67 z\" id=\"gpPt7\" stroke=\"currentColor\" stroke-width=\"0.333\"/>\n",
       "\t<use fill=\"currentColor\" id=\"gpPt8\" stroke=\"none\" xlink:href=\"#gpPt7\"/>\n",
       "\t<use id=\"gpPt9\" stroke=\"currentColor\" transform=\"rotate(180)\" xlink:href=\"#gpPt7\"/>\n",
       "\t<use fill=\"currentColor\" id=\"gpPt10\" stroke=\"none\" xlink:href=\"#gpPt9\"/>\n",
       "\t<use id=\"gpPt11\" stroke=\"currentColor\" transform=\"rotate(45)\" xlink:href=\"#gpPt3\"/>\n",
       "\t<use fill=\"currentColor\" id=\"gpPt12\" stroke=\"none\" xlink:href=\"#gpPt11\"/>\n",
       "</defs>\n",
       "<g style=\"fill:none; color:white; stroke:currentColor; stroke-width:1.00; stroke-linecap:butt; stroke-linejoin:miter\">\n",
       "</g>\n",
       "<g style=\"fill:none; color:black; stroke:currentColor; stroke-width:1.00; stroke-linecap:butt; stroke-linejoin:miter\">\n",
       "</g>\n",
       "\t<g id=\"gnuplot_plot_1a\"><title>gnuplot_plot_1a</title>\n",
       "<g style=\"fill:none; color:red; stroke:currentColor; stroke-width:1.00; stroke-linecap:butt; stroke-linejoin:miter\">\n",
       "<image height=\"358.4\" preserveAspectRatio=\"none\" width=\"358.4\" x=\"110.5\" xlink:href=\"gp_image_01.png\" y=\"23.5\"/>;\n",
       "</g>\n",
       "\t</g>\n",
       "<g style=\"fill:none; color:black; stroke:currentColor; stroke-width:1.00; stroke-linecap:butt; stroke-linejoin:miter\">\n",
       "</g>\n",
       "</g>\n",
       "</svg>"
      ],
      "text/plain": [
       "<IPython.core.display.SVG object>"
      ]
     },
     "metadata": {},
     "output_type": "display_data"
    }
   ],
   "source": [
    "%  To give you an idea of the network's output, you can also run\n",
    "%  through the examples one at the a time to see what it is predicting.\n",
    "\n",
    "%  Randomly permute examples\n",
    "rp = randperm(m);\n",
    "\n",
    "for i = 1:m\n",
    "    % Display \n",
    "    fprintf('\\nDisplaying Example Image\\n');\n",
    "    displayData(X(rp(i), :));\n",
    "\n",
    "    pred = predict(Theta1, Theta2, X(rp(i),:));\n",
    "    fprintf('\\nNeural Network Prediction: %d (digit %d)\\n', pred, mod(pred, 10));\n",
    "    \n",
    "    % Pause with quit option\n",
    "    s = input('Paused - press enter to continue, q to exit:','s');\n",
    "    if s == 'q'\n",
    "      break\n",
    "    end\n",
    "end"
   ]
  },
  {
   "cell_type": "code",
   "execution_count": null,
   "metadata": {},
   "outputs": [],
   "source": []
  }
 ],
 "metadata": {
  "kernelspec": {
   "display_name": "Octave",
   "language": "octave",
   "name": "octave"
  },
  "language_info": {
   "file_extension": ".m",
   "help_links": [
    {
     "text": "GNU Octave",
     "url": "https://www.gnu.org/software/octave/support.html"
    },
    {
     "text": "Octave Kernel",
     "url": "https://github.com/Calysto/octave_kernel"
    },
    {
     "text": "MetaKernel Magics",
     "url": "https://github.com/calysto/metakernel/blob/master/metakernel/magics/README.md"
    }
   ],
   "mimetype": "text/x-octave",
   "name": "octave",
   "version": "3.8.0"
  }
 },
 "nbformat": 4,
 "nbformat_minor": 2
}
