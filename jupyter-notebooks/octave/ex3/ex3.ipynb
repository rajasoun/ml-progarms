{
 "cells": [
  {
   "cell_type": "markdown",
   "metadata": {},
   "source": [
    "# Machine Learning Online Class - Exercise 3 |  Part 1: One-vs-all"
   ]
  },
  {
   "cell_type": "markdown",
   "metadata": {},
   "source": [
    "## Functions"
   ]
  },
  {
   "cell_type": "code",
   "execution_count": 11,
   "metadata": {
    "ExecuteTime": {
     "end_time": "2018-08-08T06:12:13.758126Z",
     "start_time": "2018-08-08T06:12:13.729894Z"
    }
   },
   "outputs": [],
   "source": [
    "function g = sigmoid(z)\n",
    "%SIGMOID Compute sigmoid function\n",
    "%   g = SIGMOID(z) computes the sigmoid of z.\n",
    "\n",
    "% You need to return the following variables correctly \n",
    "g = zeros(size(z));\n",
    "\n",
    "% ====================== YOUR CODE HERE ======================\n",
    "% Instructions: Compute the sigmoid of each value of z (z can be a matrix,\n",
    "%               vector or scalar).\n",
    "\n",
    "\n",
    "g = 1 ./ (1 + e .^ -z);\n",
    "\n",
    "\n",
    "% =============================================================\n",
    "\n",
    "end"
   ]
  },
  {
   "cell_type": "code",
   "execution_count": 9,
   "metadata": {
    "ExecuteTime": {
     "end_time": "2018-08-08T06:11:42.889386Z",
     "start_time": "2018-08-08T06:11:42.837589Z"
    }
   },
   "outputs": [],
   "source": [
    "function [J, grad] = costFunction(theta, X, y)\n",
    "%COSTFUNCTION Compute cost and gradient for logistic regression\n",
    "%   J = COSTFUNCTION(theta, X, y) computes the cost of using theta as the\n",
    "%   parameter for logistic regression and the gradient of the cost\n",
    "%   w.r.t. to the parameters.\n",
    "\n",
    "% Initialize some useful values\n",
    "m = length(y); % number of training examples\n",
    "\n",
    "% You need to return the following variables correctly \n",
    "J = 0;\n",
    "grad = zeros(size(theta));\n",
    "\n",
    "% ====================== YOUR CODE HERE ======================\n",
    "% Instructions: Compute the cost of a particular choice of theta.\n",
    "%               You should set J to the cost.\n",
    "%               Compute the partial derivatives and set grad to the partial\n",
    "%               derivatives of the cost w.r.t. each parameter in theta\n",
    "%\n",
    "% Note: grad should have the same dimensions as theta\n",
    "%\n",
    "\n",
    "h0 = sigmoid(X*theta);\n",
    "\n",
    "J = (1/m)*sum(-y.*log(h0) - (1-y).*log(1-h0));\n",
    "grad = (1/m)*(X'*(h0-y));\n",
    "\n",
    "\n",
    "\n",
    "\n",
    "\n",
    "\n",
    "% =============================================================\n",
    "\n",
    "end"
   ]
  },
  {
   "cell_type": "code",
   "execution_count": 1,
   "metadata": {
    "ExecuteTime": {
     "end_time": "2018-08-08T06:08:45.479231Z",
     "start_time": "2018-08-08T06:08:45.428011Z"
    }
   },
   "outputs": [],
   "source": [
    "function [J, grad] = costFunctionReg(theta, X, y, lambda)\n",
    "%COSTFUNCTIONREG Compute cost and gradient for logistic regression with regularization\n",
    "%   J = COSTFUNCTIONREG(theta, X, y, lambda) computes the cost of using\n",
    "%   theta as the parameter for regularized logistic regression and the\n",
    "%   gradient of the cost w.r.t. to the parameters. \n",
    "\n",
    "% Initialize some useful values\n",
    "m = length(y); % number of training examples\n",
    "\n",
    "% You need to return the following variables correctly \n",
    "J = 0;\n",
    "grad = zeros(size(theta));\n",
    "\n",
    "% ====================== YOUR CODE HERE ======================\n",
    "% Instructions: Compute the cost of a particular choice of theta.\n",
    "%               You should set J to the cost.\n",
    "%               Compute the partial derivatives and set grad to the partial\n",
    "%               derivatives of the cost w.r.t. each parameter in theta\n",
    "\n",
    "\n",
    "[J, grad] = costFunction(theta, X, y);\n",
    "penalize = sum(theta(2:end) .^ 2);\n",
    "J = J + lambda/(2*m) * penalize;\n",
    "grad(2:end) = grad(2:end) + (lambda/m)*theta(2:end);\n",
    "% =============================================================\n",
    "\n",
    "end"
   ]
  },
  {
   "cell_type": "code",
   "execution_count": 2,
   "metadata": {
    "ExecuteTime": {
     "end_time": "2018-08-08T06:08:58.017248Z",
     "start_time": "2018-08-08T06:08:57.920345Z"
    }
   },
   "outputs": [],
   "source": [
    "function [h, display_array] = displayData(X, example_width)\n",
    "%DISPLAYDATA Display 2D data in a nice grid\n",
    "%   [h, display_array] = DISPLAYDATA(X, example_width) displays 2D data\n",
    "%   stored in X in a nice grid. It returns the figure handle h and the \n",
    "%   displayed array if requested.\n",
    "\n",
    "% Set example_width automatically if not passed in\n",
    "if ~exist('example_width', 'var') || isempty(example_width) \n",
    "\texample_width = round(sqrt(size(X, 2)));\n",
    "end\n",
    "\n",
    "% Gray Image\n",
    "colormap(gray);\n",
    "\n",
    "% Compute rows, cols\n",
    "[m n] = size(X);\n",
    "example_height = (n / example_width);\n",
    "\n",
    "% Compute number of items to display\n",
    "display_rows = floor(sqrt(m));\n",
    "display_cols = ceil(m / display_rows);\n",
    "\n",
    "% Between images padding\n",
    "pad = 1;\n",
    "\n",
    "% Setup blank display\n",
    "display_array = - ones(pad + display_rows * (example_height + pad), ...\n",
    "                       pad + display_cols * (example_width + pad));\n",
    "\n",
    "% Copy each example into a patch on the display array\n",
    "curr_ex = 1;\n",
    "for j = 1:display_rows\n",
    "    for i = 1:display_cols\n",
    "        if curr_ex > m, \n",
    "            break; \n",
    "        end\n",
    "        % Copy the patch\n",
    "        % Get the max value of the patch\n",
    "        max_val = max(abs(X(curr_ex, :)));\n",
    "        display_array(pad + (j - 1) * (example_height + pad) + (1:example_height), ...\n",
    "                      pad + (i - 1) * (example_width + pad) + (1:example_width)) = ...\n",
    "                        reshape(X(curr_ex, :), example_height, example_width) / max_val;\n",
    "        curr_ex = curr_ex + 1;\n",
    "    end\n",
    "    if curr_ex > m, \n",
    "        break; \n",
    "    end\n",
    "end\n",
    "\n",
    "% Display Image\n",
    "h = imagesc(display_array, [-1 1]);\n",
    "\n",
    "% Do not show axis\n",
    "axis image off\n",
    "\n",
    "drawnow;\n",
    "\n",
    "end"
   ]
  },
  {
   "cell_type": "code",
   "execution_count": 7,
   "metadata": {
    "ExecuteTime": {
     "end_time": "2018-08-08T06:11:07.681584Z",
     "start_time": "2018-08-08T06:11:07.596900Z"
    }
   },
   "outputs": [],
   "source": [
    "function [J, grad] = lrCostFunction(theta, X, y, lambda)\n",
    "%LRCOSTFUNCTION Compute cost and gradient for logistic regression with \n",
    "%regularization\n",
    "%   J = LRCOSTFUNCTION(theta, X, y, lambda) computes the cost of using\n",
    "%   theta as the parameter for regularized logistic regression and the\n",
    "%   gradient of the cost w.r.t. to the parameters. \n",
    "\n",
    "% Initialize some useful values\n",
    "m = length(y); % number of training examples\n",
    "\n",
    "% You need to return the following variables correctly \n",
    "J = 0;\n",
    "grad = zeros(size(theta));\n",
    "\n",
    "% ====================== YOUR CODE HERE ======================\n",
    "% Instructions: Compute the cost of a particular choice of theta.\n",
    "%               You should set J to the cost.\n",
    "%               Compute the partial derivatives and set grad to the partial\n",
    "%               derivatives of the cost w.r.t. each parameter in theta\n",
    "%\n",
    "% Hint: The computation of the cost function and gradients can be\n",
    "%       efficiently vectorized. For example, consider the computation\n",
    "%\n",
    "%           sigmoid(X * theta)\n",
    "%\n",
    "%       Each row of the resulting matrix will contain the value of the\n",
    "%       prediction for that example. You can make use of this to vectorize\n",
    "%       the cost function and gradient computations. \n",
    "%\n",
    "% Hint: When computing the gradient of the regularized cost function, \n",
    "%       there're many possible vectorized solutions, but one solution\n",
    "%       looks like:\n",
    "%           grad = (unregularized gradient for logistic regression)\n",
    "%           temp = theta; \n",
    "%           temp(1) = 0;   % because we don't add anything for j = 0  \n",
    "%           grad = grad + YOUR_CODE_HERE (using the temp variable)\n",
    "%\n",
    "\n",
    "\n",
    "[J, grad] = costFunctionReg(theta, X, y, lambda);\n",
    "\n",
    "\n",
    "\n",
    "% =============================================================\n",
    "\n",
    "grad = grad(:);\n",
    "\n",
    "end"
   ]
  },
  {
   "cell_type": "code",
   "execution_count": 19,
   "metadata": {
    "ExecuteTime": {
     "end_time": "2018-08-08T06:15:19.823182Z",
     "start_time": "2018-08-08T06:15:19.726399Z"
    }
   },
   "outputs": [],
   "source": [
    "function [all_theta] = oneVsAll(X, y, num_labels, lambda)\n",
    "%ONEVSALL trains multiple logistic regression classifiers and returns all\n",
    "%the classifiers in a matrix all_theta, where the i-th row of all_theta \n",
    "%corresponds to the classifier for label i\n",
    "%   [all_theta] = ONEVSALL(X, y, num_labels, lambda) trains num_labels\n",
    "%   logistic regression classifiers and returns each of these classifiers\n",
    "%   in a matrix all_theta, where the i-th row of all_theta corresponds \n",
    "%   to the classifier for label i\n",
    "\n",
    "% Some useful variables\n",
    "m = size(X, 1);\n",
    "n = size(X, 2);\n",
    "\n",
    "% You need to return the following variables correctly \n",
    "all_theta = zeros(num_labels, n + 1);\n",
    "\n",
    "% Add ones to the X data matrix\n",
    "X = [ones(m, 1) X];\n",
    "\n",
    "% ====================== YOUR CODE HERE ======================\n",
    "%\n",
    "% Hint: theta(:) will return a column vector.\n",
    "%\n",
    "% Hint: You can use y == c to obtain a vector of 1's and 0's that tell you\n",
    "%       whether the ground truth is true/false for this class.\n",
    "%\n",
    "%\n",
    "%       fmincg works similarly to fminunc, but is more efficient when we\n",
    "%       are dealing with large number of parameters.\n",
    "%\n",
    "% Example Code for fmincg:\n",
    "%\n",
    "%     % Set Initial theta\n",
    "%     initial_theta = zeros(n + 1, 1);\n",
    "%     \n",
    "%     % Set options for fminunc\n",
    "%     options = optimset('GradObj', 'on', 'MaxIter', 50);\n",
    "% \n",
    "%     % Run fmincg to obtain the optimal theta\n",
    "%     % This function will return theta and the cost \n",
    "%     [theta] = ...\n",
    "%         fmincg (@(t)(lrCostFunction(t, X, (y == c), lambda)), ...\n",
    "%                 initial_theta, options);\n",
    "%\n",
    "\n",
    "\n",
    "\n",
    "\n",
    "    for c = 1:num_labels\n",
    "        options = optimset('GradObj', 'on', 'MaxIter', 50);\n",
    "        all_theta(c, :) = fmincg (@(t)(lrCostFunction(t, X, (y == c), lambda)), zeros(n + 1, 1), options);\n",
    "    end\n",
    "end"
   ]
  },
  {
   "cell_type": "code",
   "execution_count": 22,
   "metadata": {
    "ExecuteTime": {
     "end_time": "2018-08-08T06:16:07.263841Z",
     "start_time": "2018-08-08T06:16:06.938700Z"
    }
   },
   "outputs": [],
   "source": [
    "function [X, fX, i] = fmincg(f, X, options, P1, P2, P3, P4, P5)\n",
    "% Minimize a continuous differentialble multivariate function. Starting point\n",
    "% is given by \"X\" (D by 1), and the function named in the string \"f\", must\n",
    "% return a function value and a vector of partial derivatives. The Polack-\n",
    "% Ribiere flavour of conjugate gradients is used to compute search directions,\n",
    "% and a line search using quadratic and cubic polynomial approximations and the\n",
    "% Wolfe-Powell stopping criteria is used together with the slope ratio method\n",
    "% for guessing initial step sizes. Additionally a bunch of checks are made to\n",
    "% make sure that exploration is taking place and that extrapolation will not\n",
    "% be unboundedly large. The \"length\" gives the length of the run: if it is\n",
    "% positive, it gives the maximum number of line searches, if negative its\n",
    "% absolute gives the maximum allowed number of function evaluations. You can\n",
    "% (optionally) give \"length\" a second component, which will indicate the\n",
    "% reduction in function value to be expected in the first line-search (defaults\n",
    "% to 1.0). The function returns when either its length is up, or if no further\n",
    "% progress can be made (ie, we are at a minimum, or so close that due to\n",
    "% numerical problems, we cannot get any closer). If the function terminates\n",
    "% within a few iterations, it could be an indication that the function value\n",
    "% and derivatives are not consistent (ie, there may be a bug in the\n",
    "% implementation of your \"f\" function). The function returns the found\n",
    "% solution \"X\", a vector of function values \"fX\" indicating the progress made\n",
    "% and \"i\" the number of iterations (line searches or function evaluations,\n",
    "% depending on the sign of \"length\") used.\n",
    "%\n",
    "% Usage: [X, fX, i] = fmincg(f, X, options, P1, P2, P3, P4, P5)\n",
    "%\n",
    "% See also: checkgrad \n",
    "%\n",
    "% Copyright (C) 2001 and 2002 by Carl Edward Rasmussen. Date 2002-02-13\n",
    "%\n",
    "%\n",
    "% (C) Copyright 1999, 2000 & 2001, Carl Edward Rasmussen\n",
    "% \n",
    "% Permission is granted for anyone to copy, use, or modify these\n",
    "% programs and accompanying documents for purposes of research or\n",
    "% education, provided this copyright notice is retained, and note is\n",
    "% made of any changes that have been made.\n",
    "% \n",
    "% These programs and documents are distributed without any warranty,\n",
    "% express or implied.  As the programs were written for research\n",
    "% purposes only, they have not been tested to the degree that would be\n",
    "% advisable in any important application.  All use of these programs is\n",
    "% entirely at the user's own risk.\n",
    "%\n",
    "% [ml-class] Changes Made:\n",
    "% 1) Function name and argument specifications\n",
    "% 2) Output display\n",
    "%\n",
    "\n",
    "% Read options\n",
    "if exist('options', 'var') && ~isempty(options) && isfield(options, 'MaxIter')\n",
    "    length = options.MaxIter;\n",
    "else\n",
    "    length = 100;\n",
    "end\n",
    "\n",
    "\n",
    "RHO = 0.01;                            % a bunch of constants for line searches\n",
    "SIG = 0.5;       % RHO and SIG are the constants in the Wolfe-Powell conditions\n",
    "INT = 0.1;    % don't reevaluate within 0.1 of the limit of the current bracket\n",
    "EXT = 3.0;                    % extrapolate maximum 3 times the current bracket\n",
    "MAX = 20;                         % max 20 function evaluations per line search\n",
    "RATIO = 100;                                      % maximum allowed slope ratio\n",
    "\n",
    "argstr = ['feval(f, X'];                      % compose string used to call function\n",
    "for i = 1:(nargin - 3)\n",
    "  argstr = [argstr, ',P', int2str(i)];\n",
    "end\n",
    "argstr = [argstr, ')'];\n",
    "\n",
    "if max(size(length)) == 2, red=length(2); length=length(1); else red=1; end\n",
    "S=['Iteration '];\n",
    "\n",
    "i = 0;                                            % zero the run length counter\n",
    "ls_failed = 0;                             % no previous line search has failed\n",
    "fX = [];\n",
    "[f1 df1] = eval(argstr);                      % get function value and gradient\n",
    "i = i + (length<0);                                            % count epochs?!\n",
    "s = -df1;                                        % search direction is steepest\n",
    "d1 = -s'*s;                                                 % this is the slope\n",
    "z1 = red/(1-d1);                                  % initial step is red/(|s|+1)\n",
    "\n",
    "while i < abs(length)                                      % while not finished\n",
    "  i = i + (length>0);                                      % count iterations?!\n",
    "\n",
    "  X0 = X; f0 = f1; df0 = df1;                   % make a copy of current values\n",
    "  X = X + z1*s;                                             % begin line search\n",
    "  [f2 df2] = eval(argstr);\n",
    "  i = i + (length<0);                                          % count epochs?!\n",
    "  d2 = df2'*s;\n",
    "  f3 = f1; d3 = d1; z3 = -z1;             % initialize point 3 equal to point 1\n",
    "  if length>0, M = MAX; else M = min(MAX, -length-i); end\n",
    "  success = 0; limit = -1;                     % initialize quanteties\n",
    "  while 1\n",
    "    while ((f2 > f1+z1*RHO*d1) || (d2 > -SIG*d1)) && (M > 0) \n",
    "      limit = z1;                                         % tighten the bracket\n",
    "      if f2 > f1\n",
    "        z2 = z3 - (0.5*d3*z3*z3)/(d3*z3+f2-f3);                 % quadratic fit\n",
    "      else\n",
    "        A = 6*(f2-f3)/z3+3*(d2+d3);                                 % cubic fit\n",
    "        B = 3*(f3-f2)-z3*(d3+2*d2);\n",
    "        z2 = (sqrt(B*B-A*d2*z3*z3)-B)/A;       % numerical error possible - ok!\n",
    "      end\n",
    "      if isnan(z2) || isinf(z2)\n",
    "        z2 = z3/2;                  % if we had a numerical problem then bisect\n",
    "      end\n",
    "      z2 = max(min(z2, INT*z3),(1-INT)*z3);  % don't accept too close to limits\n",
    "      z1 = z1 + z2;                                           % update the step\n",
    "      X = X + z2*s;\n",
    "      [f2 df2] = eval(argstr);\n",
    "      M = M - 1; i = i + (length<0);                           % count epochs?!\n",
    "      d2 = df2'*s;\n",
    "      z3 = z3-z2;                    % z3 is now relative to the location of z2\n",
    "    end\n",
    "    if f2 > f1+z1*RHO*d1 || d2 > -SIG*d1\n",
    "      break;                                                % this is a failure\n",
    "    elseif d2 > SIG*d1\n",
    "      success = 1; break;                                             % success\n",
    "    elseif M == 0\n",
    "      break;                                                          % failure\n",
    "    end\n",
    "    A = 6*(f2-f3)/z3+3*(d2+d3);                      % make cubic extrapolation\n",
    "    B = 3*(f3-f2)-z3*(d3+2*d2);\n",
    "    z2 = -d2*z3*z3/(B+sqrt(B*B-A*d2*z3*z3));        % num. error possible - ok!\n",
    "    if ~isreal(z2) || isnan(z2) || isinf(z2) || z2 < 0 % num prob or wrong sign?\n",
    "      if limit < -0.5                               % if we have no upper limit\n",
    "        z2 = z1 * (EXT-1);                 % the extrapolate the maximum amount\n",
    "      else\n",
    "        z2 = (limit-z1)/2;                                   % otherwise bisect\n",
    "      end\n",
    "    elseif (limit > -0.5) && (z2+z1 > limit)         % extraplation beyond max?\n",
    "      z2 = (limit-z1)/2;                                               % bisect\n",
    "    elseif (limit < -0.5) && (z2+z1 > z1*EXT)       % extrapolation beyond limit\n",
    "      z2 = z1*(EXT-1.0);                           % set to extrapolation limit\n",
    "    elseif z2 < -z3*INT\n",
    "      z2 = -z3*INT;\n",
    "    elseif (limit > -0.5) && (z2 < (limit-z1)*(1.0-INT))  % too close to limit?\n",
    "      z2 = (limit-z1)*(1.0-INT);\n",
    "    end\n",
    "    f3 = f2; d3 = d2; z3 = -z2;                  % set point 3 equal to point 2\n",
    "    z1 = z1 + z2; X = X + z2*s;                      % update current estimates\n",
    "    [f2 df2] = eval(argstr);\n",
    "    M = M - 1; i = i + (length<0);                             % count epochs?!\n",
    "    d2 = df2'*s;\n",
    "  end                                                      % end of line search\n",
    "\n",
    "  if success                                         % if line search succeeded\n",
    "    f1 = f2; fX = [fX' f1]';\n",
    "    fprintf('%s %4i | Cost: %4.6e\\r', S, i, f1);\n",
    "    s = (df2'*df2-df1'*df2)/(df1'*df1)*s - df2;      % Polack-Ribiere direction\n",
    "    tmp = df1; df1 = df2; df2 = tmp;                         % swap derivatives\n",
    "    d2 = df1'*s;\n",
    "    if d2 > 0                                      % new slope must be negative\n",
    "      s = -df1;                              % otherwise use steepest direction\n",
    "      d2 = -s'*s;    \n",
    "    end\n",
    "    z1 = z1 * min(RATIO, d1/(d2-realmin));          % slope ratio but max RATIO\n",
    "    d1 = d2;\n",
    "    ls_failed = 0;                              % this line search did not fail\n",
    "  else\n",
    "    X = X0; f1 = f0; df1 = df0;  % restore point from before failed line search\n",
    "    if ls_failed || i > abs(length)          % line search failed twice in a row\n",
    "      break;                             % or we ran out of time, so we give up\n",
    "    end\n",
    "    tmp = df1; df1 = df2; df2 = tmp;                         % swap derivatives\n",
    "    s = -df1;                                                    % try steepest\n",
    "    d1 = -s'*s;\n",
    "    z1 = 1/(1-d1);                     \n",
    "    ls_failed = 1;                                    % this line search failed\n",
    "  end\n",
    "  if exist('OCTAVE_VERSION')\n",
    "    fflush(stdout);\n",
    "  end\n",
    "end\n",
    "fprintf('\\n');\n",
    "end"
   ]
  },
  {
   "cell_type": "code",
   "execution_count": 25,
   "metadata": {
    "ExecuteTime": {
     "end_time": "2018-08-08T06:17:47.612646Z",
     "start_time": "2018-08-08T06:17:47.543107Z"
    }
   },
   "outputs": [],
   "source": [
    "function p = predictOneVsAll(all_theta, X)\n",
    "%PREDICT Predict the label for a trained one-vs-all classifier. The labels \n",
    "%are in the range 1..K, where K = size(all_theta, 1). \n",
    "%  p = PREDICTONEVSALL(all_theta, X) will return a vector of predictions\n",
    "%  for each example in the matrix X. Note that X contains the examples in\n",
    "%  rows. all_theta is a matrix where the i-th row is a trained logistic\n",
    "%  regression theta vector for the i-th class. You should set p to a vector\n",
    "%  of values from 1..K (e.g., p = [1; 3; 1; 2] predicts classes 1, 3, 1, 2\n",
    "%  for 4 examples) \n",
    "\n",
    "m = size(X, 1);\n",
    "num_labels = size(all_theta, 1);\n",
    "\n",
    "% You need to return the following variables correctly \n",
    "p = zeros(size(X, 1), 1);\n",
    "\n",
    "% Add ones to the X data matrix\n",
    "X = [ones(m, 1) X];\n",
    "\n",
    "% ====================== YOUR CODE HERE ======================\n",
    "% Instructions: Complete the following code to make predictions using\n",
    "%               your learned logistic regression parameters (one-vs-all).\n",
    "%               You should set p to a vector of predictions (from 1 to\n",
    "%               num_labels).\n",
    "%\n",
    "% Hint: This code can be done all vectorized using the max function.\n",
    "%       In particular, the max function can also return the index of the \n",
    "%       max element, for more information see 'help max'. If your examples \n",
    "%       are in rows, then, you can use max(A, [], 2) to obtain the max \n",
    "%       for each row.\n",
    "%       \n",
    "\n",
    "\n",
    "\n",
    "[value, p] = max((X*all_theta'), [], 2);\n",
    "\n",
    "\n",
    "\n",
    "% =========================================================================\n",
    "\n",
    "\n",
    "end"
   ]
  },
  {
   "cell_type": "markdown",
   "metadata": {},
   "source": [
    "## Initialization"
   ]
  },
  {
   "cell_type": "code",
   "execution_count": 3,
   "metadata": {
    "ExecuteTime": {
     "end_time": "2018-08-08T06:09:01.235369Z",
     "start_time": "2018-08-08T06:09:01.225268Z"
    }
   },
   "outputs": [
    {
     "name": "stdout",
     "output_type": "stream",
     "text": [
      "\u001b[H\u001b[2J\n",
      "\u001b[H\u001b[2J\n"
     ]
    }
   ],
   "source": [
    "clear ; close all; clc"
   ]
  },
  {
   "cell_type": "markdown",
   "metadata": {},
   "source": [
    "## Load Data\n",
    "### The first two columns contains the exam scores and the third column and ontains the label."
   ]
  },
  {
   "cell_type": "code",
   "execution_count": 4,
   "metadata": {
    "ExecuteTime": {
     "end_time": "2018-08-08T06:09:03.457291Z",
     "start_time": "2018-08-08T06:09:03.139815Z"
    }
   },
   "outputs": [
    {
     "name": "stdout",
     "output_type": "stream",
     "text": [
      "Loading and Visualizing Data ...\n"
     ]
    },
    {
     "data": {
      "image/png": "[encoded data removed]",
      "text/plain": [
       "<IPython.core.display.Image object>"
      ]
     },
     "metadata": {},
     "output_type": "display_data"
    }
   ],
   "source": [
    "\n",
    "\n",
    "%% Setup the parameters you will use for this part of the exercise\n",
    "input_layer_size  = 400;  % 20x20 Input Images of Digits\n",
    "num_labels = 10;          % 10 labels, from 1 to 10\n",
    "                          % (note that we have mapped \"0\" to label 10)\n",
    "\n",
    "%% =========== Part 1: Loading and Visualizing Data =============\n",
    "%  We start the exercise by first loading and visualizing the dataset.\n",
    "%  You will be working with a dataset that contains handwritten digits.\n",
    "%\n",
    "\n",
    "% Load Training Data\n",
    "fprintf('Loading and Visualizing Data ...\\n')\n",
    "\n",
    "load('../../data/handwritten_digits.mat');\n",
    "m = size(X, 1);\n",
    "\n",
    "% Randomly select 100 data points to display\n",
    "rand_indices = randperm(m);\n",
    "sel = X(rand_indices(1:100), :);\n",
    "\n",
    "displayData(sel);"
   ]
  },
  {
   "cell_type": "markdown",
   "metadata": {},
   "source": [
    "## Vectorize Logistic Regression\n",
    "Test case for lrCostFunction\n"
   ]
  },
  {
   "cell_type": "code",
   "execution_count": 12,
   "metadata": {
    "ExecuteTime": {
     "end_time": "2018-08-08T06:12:18.749805Z",
     "start_time": "2018-08-08T06:12:18.710371Z"
    }
   },
   "outputs": [
    {
     "name": "stdout",
     "output_type": "stream",
     "text": [
      "\n",
      "Testing lrCostFunction() with regularization\n",
      "\n",
      "Cost: 2.534819\n",
      "Expected cost: 2.534819\n",
      "Gradients:\n",
      " 0.146561 \n",
      " -0.548558 \n",
      " 0.724722 \n",
      " 1.398003 \n",
      "Expected gradients:\n",
      " 0.146561\n",
      " -0.548558\n",
      " 0.724722\n",
      " 1.398003\n",
      "Testing lrCostFunction() with regularization\n"
     ]
    }
   ],
   "source": [
    "fprintf('\\nTesting lrCostFunction() with regularization');\n",
    "\n",
    "theta_t = [-2; -1; 1; 2];\n",
    "X_t = [ones(5,1) reshape(1:15,5,3)/10];\n",
    "y_t = ([1;0;1;0;1] >= 0.5);\n",
    "lambda_t = 3;\n",
    "[J grad] = lrCostFunction(theta_t, X_t, y_t, lambda_t);\n",
    "\n",
    "fprintf('\\nCost: %f\\n', J);\n",
    "fprintf('Expected cost: 2.534819\\n');\n",
    "fprintf('Gradients:\\n');\n",
    "fprintf(' %f \\n', grad);\n",
    "fprintf('Expected gradients:\\n');\n",
    "fprintf(' 0.146561\\n -0.548558\\n 0.724722\\n 1.398003\\n');"
   ]
  },
  {
   "cell_type": "markdown",
   "metadata": {},
   "source": [
    "## One-vs-All Training"
   ]
  },
  {
   "cell_type": "code",
   "execution_count": 23,
   "metadata": {
    "ExecuteTime": {
     "end_time": "2018-08-08T06:16:29.144873Z",
     "start_time": "2018-08-08T06:16:18.732825Z"
    }
   },
   "outputs": [
    {
     "name": "stdout",
     "output_type": "stream",
     "text": [
      "\n",
      "Training One-vs-All Logistic Regression...\n",
      "Iteration    50 | Cost: 1.368970e-02\n",
      "Iteration    50 | Cost: 5.725216e-02\n",
      "Iteration    50 | Cost: 6.395865e-02\n",
      "Iteration    50 | Cost: 3.659649e-02\n",
      "Iteration    50 | Cost: 6.186841e-02\n",
      "Iteration    50 | Cost: 2.187810e-02\n",
      "Iteration    50 | Cost: 3.327560e-02\n",
      "Iteration    50 | Cost: 8.464154e-02\n",
      "Iteration    50 | Cost: 8.084051e-02\n",
      "Iteration    50 | Cost: 9.860758e-03\n"
     ]
    }
   ],
   "source": [
    "fprintf('\\nTraining One-vs-All Logistic Regression...\\n')\n",
    "\n",
    "lambda = 0.1;\n",
    "[all_theta] = oneVsAll(X, y, num_labels, lambda);"
   ]
  },
  {
   "cell_type": "markdown",
   "metadata": {},
   "source": [
    "### Predict for One-Vs-All"
   ]
  },
  {
   "cell_type": "code",
   "execution_count": 26,
   "metadata": {
    "ExecuteTime": {
     "end_time": "2018-08-08T06:17:52.071106Z",
     "start_time": "2018-08-08T06:17:52.041374Z"
    }
   },
   "outputs": [
    {
     "name": "stdout",
     "output_type": "stream",
     "text": [
      "\n",
      "Training Set Accuracy: 95.160000\n"
     ]
    }
   ],
   "source": [
    "pred = predictOneVsAll(all_theta, X);\n",
    "fprintf('\\nTraining Set Accuracy: %f\\n', mean(double(pred == y)) * 100);"
   ]
  },
  {
   "cell_type": "code",
   "execution_count": null,
   "metadata": {},
   "outputs": [],
   "source": []
  }
 ],
 "metadata": {
  "kernelspec": {
   "display_name": "Octave",
   "language": "octave",
   "name": "octave"
  },
  "language_info": {
   "file_extension": ".m",
   "help_links": [
    {
     "text": "GNU Octave",
     "url": "https://www.gnu.org/software/octave/support.html"
    },
    {
     "text": "Octave Kernel",
     "url": "https://github.com/Calysto/octave_kernel"
    },
    {
     "text": "MetaKernel Magics",
     "url": "https://github.com/calysto/metakernel/blob/master/metakernel/magics/README.md"
    }
   ],
   "mimetype": "text/x-octave",
   "name": "octave",
   "version": "3.8.0"
  }
 },
 "nbformat": 4,
 "nbformat_minor": 2
}
