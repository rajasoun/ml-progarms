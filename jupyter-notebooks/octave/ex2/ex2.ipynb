{
 "cells": [
  {
   "cell_type": "markdown",
   "metadata": {},
   "source": [
    "# Machine Learning Online Class - Exercise 2: Logistic Regression"
   ]
  },
  {
   "cell_type": "markdown",
   "metadata": {
    "heading_collapsed": true
   },
   "source": [
    "## Functions"
   ]
  },
  {
   "cell_type": "code",
   "execution_count": 1,
   "metadata": {
    "ExecuteTime": {
     "end_time": "2018-08-08T05:17:56.189433Z",
     "start_time": "2018-08-08T05:17:56.119002Z"
    },
    "hidden": true
   },
   "outputs": [],
   "source": [
    "function [J, grad] = costFunction(theta, X, y)\n",
    "%COSTFUNCTION Compute cost and gradient for logistic regression\n",
    "%   J = COSTFUNCTION(theta, X, y) computes the cost of using theta as the\n",
    "%   parameter for logistic regression and the gradient of the cost\n",
    "%   w.r.t. to the parameters.\n",
    "\n",
    "% Initialize some useful values\n",
    "m = length(y); % number of training examples\n",
    "\n",
    "% You need to return the following variables correctly \n",
    "J = 0;\n",
    "grad = zeros(size(theta));\n",
    "\n",
    "% ====================== YOUR CODE HERE ======================\n",
    "% Instructions: Compute the cost of a particular choice of theta.\n",
    "%               You should set J to the cost.\n",
    "%               Compute the partial derivatives and set grad to the partial\n",
    "%               derivatives of the cost w.r.t. each parameter in theta\n",
    "%\n",
    "% Note: grad should have the same dimensions as theta\n",
    "%\n",
    "\n",
    "h0 = sigmoid(X*theta);\n",
    "J = (1/m)*sum(-y.*log(h0) - (1-y).*log(1-h0));\n",
    "grad = (1/m)*(X'*(h0-y));\n",
    "% =============================================================\n",
    "\n",
    "end"
   ]
  },
  {
   "cell_type": "code",
   "execution_count": 2,
   "metadata": {
    "ExecuteTime": {
     "end_time": "2018-08-08T05:18:21.039438Z",
     "start_time": "2018-08-08T05:18:20.991017Z"
    },
    "hidden": true
   },
   "outputs": [],
   "source": [
    "function [J, grad] = costFunctionReg(theta, X, y, lambda)\n",
    "%COSTFUNCTIONREG Compute cost and gradient for logistic regression with regularization\n",
    "%   J = COSTFUNCTIONREG(theta, X, y, lambda) computes the cost of using\n",
    "%   theta as the parameter for regularized logistic regression and the\n",
    "%   gradient of the cost w.r.t. to the parameters. \n",
    "\n",
    "% Initialize some useful values\n",
    "m = length(y); % number of training examples\n",
    "\n",
    "% You need to return the following variables correctly \n",
    "J = 0;\n",
    "grad = zeros(size(theta));\n",
    "\n",
    "% ====================== YOUR CODE HERE ======================\n",
    "% Instructions: Compute the cost of a particular choice of theta.\n",
    "%               You should set J to the cost.\n",
    "%               Compute the partial derivatives and set grad to the partial\n",
    "%               derivatives of the cost w.r.t. each parameter in theta\n",
    "\n",
    "\n",
    "[J, grad] = costFunction(theta, X, y);\n",
    "penalize = sum(theta(2:end) .^ 2);\n",
    "J = J + lambda/(2*m) * penalize;\n",
    "grad(2:end) = grad(2:end) + (lambda/m)*theta(2:end);\n",
    "% =============================================================\n",
    "\n",
    "end"
   ]
  },
  {
   "cell_type": "code",
   "execution_count": 3,
   "metadata": {
    "ExecuteTime": {
     "end_time": "2018-08-08T05:18:44.749770Z",
     "start_time": "2018-08-08T05:18:44.707437Z"
    },
    "hidden": true
   },
   "outputs": [],
   "source": [
    "function out = mapFeature(X1, X2)\n",
    "% MAPFEATURE Feature mapping function to polynomial features\n",
    "%\n",
    "%   MAPFEATURE(X1, X2) maps the two input features\n",
    "%   to quadratic features used in the regularization exercise.\n",
    "%\n",
    "%   Returns a new feature array with more features, comprising of \n",
    "%   X1, X2, X1.^2, X2.^2, X1*X2, X1*X2.^2, etc..\n",
    "%\n",
    "%   Inputs X1, X2 must be the same size\n",
    "%\n",
    "\n",
    "degree = 6;\n",
    "out = ones(size(X1(:,1)));\n",
    "for i = 1:degree\n",
    "    for j = 0:i\n",
    "        out(:, end+1) = (X1.^(i-j)).*(X2.^j);\n",
    "    end\n",
    "end\n",
    "\n",
    "end"
   ]
  },
  {
   "cell_type": "code",
   "execution_count": 4,
   "metadata": {
    "ExecuteTime": {
     "end_time": "2018-08-08T05:19:09.729184Z",
     "start_time": "2018-08-08T05:19:09.688891Z"
    },
    "hidden": true
   },
   "outputs": [],
   "source": [
    "function plotData(X, y)\n",
    "%PLOTDATA Plots the data points X and y into a new figure \n",
    "%   PLOTDATA(x,y) plots the data points with + for the positive examples\n",
    "%   and o for the negative examples. X is assumed to be a Mx2 matrix.\n",
    "\n",
    "% Create New Figure\n",
    "figure; hold on;\n",
    "\n",
    "% ====================== YOUR CODE HERE ======================\n",
    "% Instructions: Plot the positive and negative examples on a\n",
    "%               2D plot, using the option 'k+' for the positive\n",
    "%               examples and 'ko' for the negative examples.\n",
    "%\n",
    "\n",
    "negative = find(y==0); positive = find(y==1);\n",
    "plot(X(positive, 1), X(positive, 2), 'k+')\n",
    "plot(X(negative, 1), X(negative, 2), 'ko')\n",
    "\n",
    "% =========================================================================\n",
    "hold off;\n",
    "end"
   ]
  },
  {
   "cell_type": "code",
   "execution_count": 5,
   "metadata": {
    "ExecuteTime": {
     "end_time": "2018-08-08T05:19:20.130828Z",
     "start_time": "2018-08-08T05:19:20.043107Z"
    },
    "hidden": true
   },
   "outputs": [],
   "source": [
    "function plotDecisionBoundary(theta, X, y)\n",
    "%PLOTDECISIONBOUNDARY Plots the data points X and y into a new figure with\n",
    "%the decision boundary defined by theta\n",
    "%   PLOTDECISIONBOUNDARY(theta, X,y) plots the data points with + for the \n",
    "%   positive examples and o for the negative examples. X is assumed to be \n",
    "%   a either \n",
    "%   1) Mx3 matrix, where the first column is an all-ones column for the \n",
    "%      intercept.\n",
    "%   2) MxN, N>3 matrix, where the first column is all-ones\n",
    "\n",
    "% Plot Data\n",
    "plotData(X(:,2:3), y);\n",
    "hold on\n",
    "\n",
    "if size(X, 2) <= 3\n",
    "    % Only need 2 points to define a line, so choose two endpoints\n",
    "    plot_x = [min(X(:,2))-2,  max(X(:,2))+2];\n",
    "\n",
    "    % Calculate the decision boundary line\n",
    "    plot_y = (-1./theta(3)).*(theta(2).*plot_x + theta(1));\n",
    "\n",
    "    % Plot, and adjust axes for better viewing\n",
    "    plot(plot_x, plot_y)\n",
    "    \n",
    "    % Legend, specific for the exercise\n",
    "    legend('Admitted', 'Not admitted', 'Decision Boundary')\n",
    "    axis([30, 100, 30, 100])\n",
    "else\n",
    "    % Here is the grid range\n",
    "    u = linspace(-1, 1.5, 50);\n",
    "    v = linspace(-1, 1.5, 50);\n",
    "\n",
    "    z = zeros(length(u), length(v));\n",
    "    % Evaluate z = theta*x over the grid\n",
    "    for i = 1:length(u)\n",
    "        for j = 1:length(v)\n",
    "            z(i,j) = mapFeature(u(i), v(j))*theta;\n",
    "        end\n",
    "    end\n",
    "    z = z'; % important to transpose z before calling contour\n",
    "\n",
    "    % Plot z = 0\n",
    "    % Notice you need to specify the range [0, 0]\n",
    "    contour(u, v, z, [0, 0], 'LineWidth', 2)\n",
    "end\n",
    "hold off\n",
    "\n",
    "end\n"
   ]
  },
  {
   "cell_type": "code",
   "execution_count": 6,
   "metadata": {
    "ExecuteTime": {
     "end_time": "2018-08-08T05:19:27.869685Z",
     "start_time": "2018-08-08T05:19:27.829331Z"
    },
    "hidden": true
   },
   "outputs": [],
   "source": [
    "function p = predict(theta, X)\n",
    "%PREDICT Predict whether the label is 0 or 1 using learned logistic \n",
    "%regression parameters theta\n",
    "%   p = PREDICT(theta, X) computes the predictions for X using a \n",
    "%   threshold at 0.5 (i.e., if sigmoid(theta'*x) >= 0.5, predict 1)\n",
    "\n",
    "m = size(X, 1); % Number of training examples\n",
    "\n",
    "% You need to return the following variables correctly\n",
    "p = zeros(m, 1);\n",
    "\n",
    "% ====================== YOUR CODE HERE ======================\n",
    "% Instructions: Complete the following code to make predictions using\n",
    "%               your learned logistic regression parameters. \n",
    "%               You should set p to a vector of 0's and 1's\n",
    "%\n",
    "\n",
    "\n",
    "\n",
    "p = round(sigmoid(X*theta));\n",
    "\n",
    "\n",
    "\n",
    "% =========================================================================\n",
    "\n",
    "\n",
    "end"
   ]
  },
  {
   "cell_type": "code",
   "execution_count": 7,
   "metadata": {
    "ExecuteTime": {
     "end_time": "2018-08-08T05:19:37.134079Z",
     "start_time": "2018-08-08T05:19:37.105716Z"
    },
    "hidden": true
   },
   "outputs": [],
   "source": [
    "function g = sigmoid(z)\n",
    "%SIGMOID Compute sigmoid function\n",
    "%   g = SIGMOID(z) computes the sigmoid of z.\n",
    "\n",
    "% You need to return the following variables correctly \n",
    "g = zeros(size(z));\n",
    "\n",
    "% ====================== YOUR CODE HERE ======================\n",
    "% Instructions: Compute the sigmoid of each value of z (z can be a matrix,\n",
    "%               vector or scalar).\n",
    "\n",
    "\n",
    "g = 1 ./ (1 + e .^ -z);\n",
    "\n",
    "\n",
    "% =============================================================\n",
    "\n",
    "end\n"
   ]
  },
  {
   "cell_type": "markdown",
   "metadata": {
    "heading_collapsed": true
   },
   "source": [
    "## Initialization"
   ]
  },
  {
   "cell_type": "code",
   "execution_count": 8,
   "metadata": {
    "ExecuteTime": {
     "end_time": "2018-08-08T05:20:49.004328Z",
     "start_time": "2018-08-08T05:20:48.993285Z"
    },
    "hidden": true
   },
   "outputs": [
    {
     "name": "stdout",
     "output_type": "stream",
     "text": [
      "\u001b[H\u001b[2J\n",
      "\u001b[H\u001b[2J\n"
     ]
    }
   ],
   "source": [
    "clear ; close all; clc"
   ]
  },
  {
   "cell_type": "markdown",
   "metadata": {
    "heading_collapsed": true
   },
   "source": [
    "## Load Data\n",
    "### The first two columns contains the exam scores and the third column and ontains the label."
   ]
  },
  {
   "cell_type": "code",
   "execution_count": 9,
   "metadata": {
    "ExecuteTime": {
     "end_time": "2018-08-08T05:22:19.564534Z",
     "start_time": "2018-08-08T05:22:19.550134Z"
    },
    "hidden": true
   },
   "outputs": [],
   "source": [
    "data = load('../../data/exam_scores_admission.txt');\n",
    "X = data(:, [1, 2]); y = data(:, 3);"
   ]
  },
  {
   "cell_type": "markdown",
   "metadata": {
    "heading_collapsed": true
   },
   "source": [
    "## Plotting\n",
    "###  First plotting the data to understand the the problem we are working with.\n"
   ]
  },
  {
   "cell_type": "code",
   "execution_count": 11,
   "metadata": {
    "ExecuteTime": {
     "end_time": "2018-08-08T05:24:00.966117Z",
     "start_time": "2018-08-08T05:24:00.684121Z"
    },
    "hidden": true
   },
   "outputs": [
    {
     "name": "stdout",
     "output_type": "stream",
     "text": [
      "Plotting data with + indicating (y = 1) examples and o indicating (y = 0) examples.\n"
     ]
    },
    {
     "data": {
      "image/svg+xml": [
       "<svg height=\"420px\" viewBox=\"0 0 560 420\" width=\"560px\" xmlns=\"http://www.w3.org/2000/svg\" xmlns:xlink=\"http://www.w3.org/1999/xlink\">\n",
       "\n",
       "<title>Gnuplot</title>\n",
       "<desc>Produced by GNUPLOT 4.6 patchlevel 4 </desc>\n",
       "\n",
       "<g id=\"gnuplot_canvas\">\n",
       "\n",
       "<rect fill=\"none\" height=\"420\" width=\"560\" x=\"0\" y=\"0\"/>\n",
       "<defs>\n",
       "\n",
       "\t<circle id=\"gpDot\" r=\"0.5\" stroke-width=\"0.5\"/>\n",
       "\t<path d=\"M-1,0 h2 M0,-1 v2\" id=\"gpPt0\" stroke=\"currentColor\" stroke-width=\"0.333\"/>\n",
       "\t<path d=\"M-1,-1 L1,1 M1,-1 L-1,1\" id=\"gpPt1\" stroke=\"currentColor\" stroke-width=\"0.333\"/>\n",
       "\t<path d=\"M-1,0 L1,0 M0,-1 L0,1 M-1,-1 L1,1 M-1,1 L1,-1\" id=\"gpPt2\" stroke=\"currentColor\" stroke-width=\"0.333\"/>\n",
       "\t<rect height=\"2\" id=\"gpPt3\" stroke=\"currentColor\" stroke-width=\"0.333\" width=\"2\" x=\"-1\" y=\"-1\"/>\n",
       "\t<rect fill=\"currentColor\" height=\"2\" id=\"gpPt4\" stroke=\"currentColor\" stroke-width=\"0.333\" width=\"2\" x=\"-1\" y=\"-1\"/>\n",
       "\t<circle cx=\"0\" cy=\"0\" id=\"gpPt5\" r=\"1\" stroke=\"currentColor\" stroke-width=\"0.333\"/>\n",
       "\t<use fill=\"currentColor\" id=\"gpPt6\" stroke=\"none\" xlink:href=\"#gpPt5\"/>\n",
       "\t<path d=\"M0,-1.33 L-1.33,0.67 L1.33,0.67 z\" id=\"gpPt7\" stroke=\"currentColor\" stroke-width=\"0.333\"/>\n",
       "\t<use fill=\"currentColor\" id=\"gpPt8\" stroke=\"none\" xlink:href=\"#gpPt7\"/>\n",
       "\t<use id=\"gpPt9\" stroke=\"currentColor\" transform=\"rotate(180)\" xlink:href=\"#gpPt7\"/>\n",
       "\t<use fill=\"currentColor\" id=\"gpPt10\" stroke=\"none\" xlink:href=\"#gpPt9\"/>\n",
       "\t<use id=\"gpPt11\" stroke=\"currentColor\" transform=\"rotate(45)\" xlink:href=\"#gpPt3\"/>\n",
       "\t<use fill=\"currentColor\" id=\"gpPt12\" stroke=\"none\" xlink:href=\"#gpPt11\"/>\n",
       "</defs>\n",
       "<g style=\"fill:none; color:white; stroke:currentColor; stroke-width:1.00; stroke-linecap:butt; stroke-linejoin:miter\">\n",
       "</g>\n",
       "<g style=\"fill:none; color:black; stroke:currentColor; stroke-width:1.00; stroke-linecap:butt; stroke-linejoin:miter\">\n",
       "\t<g style=\"stroke:none; shape-rendering:crispEdges\">\n",
       "\t\t<polygon fill=\"rgb(255, 255, 255)\" points=\"42.8,381.6 543.0,381.6 543.0,11.4 42.8,11.4 \"/>\n",
       "\t</g>\n",
       "\t<path d=\"M42.8,381.6 L42.8,11.4 L543.0,11.4 L543.0,381.6 L42.8,381.6  h0.01\" stroke=\"black\"/></g>\n",
       "<g style=\"fill:none; color:black; stroke:black; stroke-width:0.50; stroke-linecap:butt; stroke-linejoin:miter\">\n",
       "\t<path d=\"M42.8,381.6 L51.2,381.6 M543.1,381.6 L534.7,381.6  h0.01\" stroke=\"black\"/>\t<g style=\"stroke:none; fill:rgb(0,0,0); font-family:{}; font-size:10.00pt; text-anchor:end\" transform=\"translate(37.2,385.3)\">\n",
       "\t\t<text><tspan>30</tspan></text>\n",
       "\t</g>\n",
       "\t<path d=\"M42.8,328.7 L51.2,328.7 M543.1,328.7 L534.7,328.7  h0.01\" stroke=\"black\"/>\t<g style=\"stroke:none; fill:rgb(0,0,0); font-family:{}; font-size:10.00pt; text-anchor:end\" transform=\"translate(37.2,332.4)\">\n",
       "\t\t<text><tspan>40</tspan></text>\n",
       "\t</g>\n",
       "\t<path d=\"M42.8,275.8 L51.2,275.8 M543.1,275.8 L534.7,275.8  h0.01\" stroke=\"black\"/>\t<g style=\"stroke:none; fill:rgb(0,0,0); font-family:{}; font-size:10.00pt; text-anchor:end\" transform=\"translate(37.2,279.5)\">\n",
       "\t\t<text><tspan>50</tspan></text>\n",
       "\t</g>\n",
       "\t<path d=\"M42.8,222.9 L51.2,222.9 M543.1,222.9 L534.7,222.9  h0.01\" stroke=\"black\"/>\t<g style=\"stroke:none; fill:rgb(0,0,0); font-family:{}; font-size:10.00pt; text-anchor:end\" transform=\"translate(37.2,226.6)\">\n",
       "\t\t<text><tspan>60</tspan></text>\n",
       "\t</g>\n",
       "\t<path d=\"M42.8,170.0 L51.2,170.0 M543.1,170.0 L534.7,170.0  h0.01\" stroke=\"black\"/>\t<g style=\"stroke:none; fill:rgb(0,0,0); font-family:{}; font-size:10.00pt; text-anchor:end\" transform=\"translate(37.2,173.7)\">\n",
       "\t\t<text><tspan>70</tspan></text>\n",
       "\t</g>\n",
       "\t<path d=\"M42.8,117.1 L51.2,117.1 M543.1,117.1 L534.7,117.1  h0.01\" stroke=\"black\"/>\t<g style=\"stroke:none; fill:rgb(0,0,0); font-family:{}; font-size:10.00pt; text-anchor:end\" transform=\"translate(37.2,120.8)\">\n",
       "\t\t<text><tspan>80</tspan></text>\n",
       "\t</g>\n",
       "\t<path d=\"M42.8,64.2 L51.2,64.2 M543.1,64.2 L534.7,64.2  h0.01\" stroke=\"black\"/>\t<g style=\"stroke:none; fill:rgb(0,0,0); font-family:{}; font-size:10.00pt; text-anchor:end\" transform=\"translate(37.2,67.9)\">\n",
       "\t\t<text><tspan>90</tspan></text>\n",
       "\t</g>\n",
       "\t<path d=\"M42.8,11.3 L51.2,11.3 M543.1,11.3 L534.7,11.3  h0.01\" stroke=\"black\"/>\t<g style=\"stroke:none; fill:rgb(0,0,0); font-family:{}; font-size:10.00pt; text-anchor:end\" transform=\"translate(37.2,15.0)\">\n",
       "\t\t<text><tspan>100</tspan></text>\n",
       "\t</g>\n",
       "\t<path d=\"M42.8,381.6 L42.8,373.2 M42.8,11.3 L42.8,19.7  h0.01\" stroke=\"black\"/>\t<g style=\"stroke:none; fill:rgb(0,0,0); font-family:{}; font-size:10.00pt; text-anchor:middle\" transform=\"translate(42.8,397.3)\">\n",
       "\t\t<text><tspan>30</tspan></text>\n",
       "\t</g>\n",
       "\t<path d=\"M114.3,381.6 L114.3,373.2 M114.3,11.3 L114.3,19.7  h0.01\" stroke=\"black\"/>\t<g style=\"stroke:none; fill:rgb(0,0,0); font-family:{}; font-size:10.00pt; text-anchor:middle\" transform=\"translate(114.3,397.3)\">\n",
       "\t\t<text><tspan>40</tspan></text>\n",
       "\t</g>\n",
       "\t<path d=\"M185.7,381.6 L185.7,373.2 M185.7,11.3 L185.7,19.7  h0.01\" stroke=\"black\"/>\t<g style=\"stroke:none; fill:rgb(0,0,0); font-family:{}; font-size:10.00pt; text-anchor:middle\" transform=\"translate(185.7,397.3)\">\n",
       "\t\t<text><tspan>50</tspan></text>\n",
       "\t</g>\n",
       "\t<path d=\"M257.2,381.6 L257.2,373.2 M257.2,11.3 L257.2,19.7  h0.01\" stroke=\"black\"/>\t<g style=\"stroke:none; fill:rgb(0,0,0); font-family:{}; font-size:10.00pt; text-anchor:middle\" transform=\"translate(257.2,397.3)\">\n",
       "\t\t<text><tspan>60</tspan></text>\n",
       "\t</g>\n",
       "\t<path d=\"M328.7,381.6 L328.7,373.2 M328.7,11.3 L328.7,19.7  h0.01\" stroke=\"black\"/>\t<g style=\"stroke:none; fill:rgb(0,0,0); font-family:{}; font-size:10.00pt; text-anchor:middle\" transform=\"translate(328.7,397.3)\">\n",
       "\t\t<text><tspan>70</tspan></text>\n",
       "\t</g>\n",
       "\t<path d=\"M400.2,381.6 L400.2,373.2 M400.2,11.3 L400.2,19.7  h0.01\" stroke=\"black\"/>\t<g style=\"stroke:none; fill:rgb(0,0,0); font-family:{}; font-size:10.00pt; text-anchor:middle\" transform=\"translate(400.2,397.3)\">\n",
       "\t\t<text><tspan>80</tspan></text>\n",
       "\t</g>\n",
       "\t<path d=\"M471.6,381.6 L471.6,373.2 M471.6,11.3 L471.6,19.7  h0.01\" stroke=\"black\"/>\t<g style=\"stroke:none; fill:rgb(0,0,0); font-family:{}; font-size:10.00pt; text-anchor:middle\" transform=\"translate(471.6,397.3)\">\n",
       "\t\t<text><tspan>90</tspan></text>\n",
       "\t</g>\n",
       "\t<path d=\"M543.1,381.6 L543.1,373.2 M543.1,11.3 L543.1,19.7  h0.01\" stroke=\"black\"/>\t<g style=\"stroke:none; fill:rgb(0,0,0); font-family:{}; font-size:10.00pt; text-anchor:middle\" transform=\"translate(543.1,397.3)\">\n",
       "\t\t<text><tspan>100</tspan></text>\n",
       "\t</g>\n",
       "\t<path d=\"M42.8,11.3 L42.8,381.6 L543.1,381.6 L543.1,11.3 L42.8,11.3 Z  h0.01\" stroke=\"black\"/>\t<g style=\"stroke:none; fill:rgb(0,0,0); font-family:{}; font-size:10.00pt; text-anchor:middle\" transform=\"translate(12.5,196.5) rotate(-90)\">\n",
       "\t\t<text><tspan>Exam 2 score</tspan></text>\n",
       "\t</g>\n",
       "\t<g style=\"stroke:none; fill:rgb(0,0,0); font-family:{}; font-size:10.00pt; text-anchor:middle\" transform=\"translate(292.9,415.3)\">\n",
       "\t\t<text><tspan>Exam 1 score</tspan></text>\n",
       "\t</g>\n",
       "</g>\n",
       "<g style=\"fill:none; color:black; stroke:black; stroke-width:1.00; stroke-linecap:butt; stroke-linejoin:miter\">\n",
       "\t<path d=\"M430.7,41.3 L430.7,17.3 L537.5,17.3 L537.5,41.3 L430.7,41.3 Z  h0.01\" stroke=\"black\"/></g>\n",
       "\t<g id=\"gnuplot_plot_1a\"><title>gnuplot_plot_1a</title>\n",
       "<g style=\"fill:none; color:white; stroke:black; stroke-width:0.50; stroke-linecap:butt; stroke-linejoin:miter\">\n",
       "</g>\n",
       "<g style=\"fill:none; color:red; stroke:currentColor; stroke-width:0.50; stroke-linecap:butt; stroke-linejoin:miter\">\n",
       "\t<g style=\"stroke:none; fill:rgb(0,0,0); font-family:{}; font-size:10.00pt; text-anchor:end\" transform=\"translate(537.5,27.0)\">\n",
       "\t\t<text><tspan>Admitted</tspan></text>\n",
       "\t</g>\n",
       "\t<use color=\"rgb(  0,   0,   0)\" transform=\"translate(258.5,83.7) scale(6.00)\" xlink:href=\"#gpPt0\"/>\n",
       "\t<use color=\"rgb(  0,   0,   0)\" transform=\"translate(393.2,141.7) scale(6.00)\" xlink:href=\"#gpPt0\"/>\n",
       "\t<use color=\"rgb(  0,   0,   0)\" transform=\"translate(265.1,29.8) scale(6.00)\" xlink:href=\"#gpPt0\"/>\n",
       "\t<use color=\"rgb(  0,   0,   0)\" transform=\"translate(364.6,294.0) scale(6.00)\" xlink:href=\"#gpPt0\"/>\n",
       "\t<use color=\"rgb(  0,   0,   0)\" transform=\"translate(372.3,77.8) scale(6.00)\" xlink:href=\"#gpPt0\"/>\n",
       "\t<use color=\"rgb(  0,   0,   0)\" transform=\"translate(431.8,310.0) scale(6.00)\" xlink:href=\"#gpPt0\"/>\n",
       "\t<use color=\"rgb(  0,   0,   0)\" transform=\"translate(416.6,135.7) scale(6.00)\" xlink:href=\"#gpPt0\"/>\n",
       "\t<use color=\"rgb(  0,   0,   0)\" transform=\"translate(324.1,23.4) scale(6.00)\" xlink:href=\"#gpPt0\"/>\n",
       "\t<use color=\"rgb(  0,   0,   0)\" transform=\"translate(214.1,68.4) scale(6.00)\" xlink:href=\"#gpPt0\"/>\n",
       "\t<use color=\"rgb(  0,   0,   0)\" transform=\"translate(322.0,261.3) scale(6.00)\" xlink:href=\"#gpPt0\"/>\n",
       "\t<use color=\"rgb(  0,   0,   0)\" transform=\"translate(333.4,48.7) scale(6.00)\" xlink:href=\"#gpPt0\"/>\n",
       "\t<use color=\"rgb(  0,   0,   0)\" transform=\"translate(378.6,288.6) scale(6.00)\" xlink:href=\"#gpPt0\"/>\n",
       "\t<use color=\"rgb(  0,   0,   0)\" transform=\"translate(469.3,192.2) scale(6.00)\" xlink:href=\"#gpPt0\"/>\n",
       "\t<use color=\"rgb(  0,   0,   0)\" transform=\"translate(385.3,175.4) scale(6.00)\" xlink:href=\"#gpPt0\"/>\n",
       "\t<use color=\"rgb(  0,   0,   0)\" transform=\"translate(273.4,170.2) scale(6.00)\" xlink:href=\"#gpPt0\"/>\n",
       "\t<use color=\"rgb(  0,   0,   0)\" transform=\"translate(401.5,303.2) scale(6.00)\" xlink:href=\"#gpPt0\"/>\n",
       "\t<use color=\"rgb(  0,   0,   0)\" transform=\"translate(267.1,155.1) scale(6.00)\" xlink:href=\"#gpPt0\"/>\n",
       "\t<use color=\"rgb(  0,   0,   0)\" transform=\"translate(438.8,238.5) scale(6.00)\" xlink:href=\"#gpPt0\"/>\n",
       "\t<use color=\"rgb(  0,   0,   0)\" transform=\"translate(200.4,173.0) scale(6.00)\" xlink:href=\"#gpPt0\"/>\n",
       "\t<use color=\"rgb(  0,   0,   0)\" transform=\"translate(287.1,112.3) scale(6.00)\" xlink:href=\"#gpPt0\"/>\n",
       "\t<use color=\"rgb(  0,   0,   0)\" transform=\"translate(428.0,242.4) scale(6.00)\" xlink:href=\"#gpPt0\"/>\n",
       "\t<use color=\"rgb(  0,   0,   0)\" transform=\"translate(503.4,193.4) scale(6.00)\" xlink:href=\"#gpPt0\"/>\n",
       "\t<use color=\"rgb(  0,   0,   0)\" transform=\"translate(380.1,167.6) scale(6.00)\" xlink:href=\"#gpPt0\"/>\n",
       "\t<use color=\"rgb(  0,   0,   0)\" transform=\"translate(527.2,81.5) scale(6.00)\" xlink:href=\"#gpPt0\"/>\n",
       "\t<use color=\"rgb(  0,   0,   0)\" transform=\"translate(272.0,28.4) scale(6.00)\" xlink:href=\"#gpPt0\"/>\n",
       "\t<use color=\"rgb(  0,   0,   0)\" transform=\"translate(482.8,71.1) scale(6.00)\" xlink:href=\"#gpPt0\"/>\n",
       "\t<use color=\"rgb(  0,   0,   0)\" transform=\"translate(399.8,148.0) scale(6.00)\" xlink:href=\"#gpPt0\"/>\n",
       "\t<use color=\"rgb(  0,   0,   0)\" transform=\"translate(537.9,217.6) scale(6.00)\" xlink:href=\"#gpPt0\"/>\n",
       "\t<use color=\"rgb(  0,   0,   0)\" transform=\"translate(475.5,310.8) scale(6.00)\" xlink:href=\"#gpPt0\"/>\n",
       "\t<use color=\"rgb(  0,   0,   0)\" transform=\"translate(526.3,176.0) scale(6.00)\" xlink:href=\"#gpPt0\"/>\n",
       "\t<use color=\"rgb(  0,   0,   0)\" transform=\"translate(359.1,170.9) scale(6.00)\" xlink:href=\"#gpPt0\"/>\n",
       "\t<use color=\"rgb(  0,   0,   0)\" transform=\"translate(341.5,125.3) scale(6.00)\" xlink:href=\"#gpPt0\"/>\n",
       "\t<use color=\"rgb(  0,   0,   0)\" transform=\"translate(367.2,86.6) scale(6.00)\" xlink:href=\"#gpPt0\"/>\n",
       "\t<use color=\"rgb(  0,   0,   0)\" transform=\"translate(117.5,24.3) scale(6.00)\" xlink:href=\"#gpPt0\"/>\n",
       "\t<use color=\"rgb(  0,   0,   0)\" transform=\"translate(402.2,53.0) scale(6.00)\" xlink:href=\"#gpPt0\"/>\n",
       "\t<use color=\"rgb(  0,   0,   0)\" transform=\"translate(305.4,217.7) scale(6.00)\" xlink:href=\"#gpPt0\"/>\n",
       "\t<use color=\"rgb(  0,   0,   0)\" transform=\"translate(286.1,127.5) scale(6.00)\" xlink:href=\"#gpPt0\"/>\n",
       "\t<use color=\"rgb(  0,   0,   0)\" transform=\"translate(345.5,31.3) scale(6.00)\" xlink:href=\"#gpPt0\"/>\n",
       "\t<use color=\"rgb(  0,   0,   0)\" transform=\"translate(260.5,153.6) scale(6.00)\" xlink:href=\"#gpPt0\"/>\n",
       "\t<use color=\"rgb(  0,   0,   0)\" transform=\"translate(248.9,139.0) scale(6.00)\" xlink:href=\"#gpPt0\"/>\n",
       "\t<use color=\"rgb(  0,   0,   0)\" transform=\"translate(541.9,157.5) scale(6.00)\" xlink:href=\"#gpPt0\"/>\n",
       "\t<use color=\"rgb(  0,   0,   0)\" transform=\"translate(166.2,72.3) scale(6.00)\" xlink:href=\"#gpPt0\"/>\n",
       "\t<use color=\"rgb(  0,   0,   0)\" transform=\"translate(189.0,139.3) scale(6.00)\" xlink:href=\"#gpPt0\"/>\n",
       "\t<use color=\"rgb(  0,   0,   0)\" transform=\"translate(463.9,171.0) scale(6.00)\" xlink:href=\"#gpPt0\"/>\n",
       "\t<use color=\"rgb(  0,   0,   0)\" transform=\"translate(506.2,298.6) scale(6.00)\" xlink:href=\"#gpPt0\"/>\n",
       "\t<use color=\"rgb(  0,   0,   0)\" transform=\"translate(309.5,188.0) scale(6.00)\" xlink:href=\"#gpPt0\"/>\n",
       "\t<use color=\"rgb(  0,   0,   0)\" transform=\"translate(237.5,225.5) scale(6.00)\" xlink:href=\"#gpPt0\"/>\n",
       "\t<use color=\"rgb(  0,   0,   0)\" transform=\"translate(402.8,59.1) scale(6.00)\" xlink:href=\"#gpPt0\"/>\n",
       "\t<use color=\"rgb(  0,   0,   0)\" transform=\"translate(317.7,87.5) scale(6.00)\" xlink:href=\"#gpPt0\"/>\n",
       "\t<use color=\"rgb(  0,   0,   0)\" transform=\"translate(367.8,62.0) scale(6.00)\" xlink:href=\"#gpPt0\"/>\n",
       "\t<use color=\"rgb(  0,   0,   0)\" transform=\"translate(390.4,29.0) scale(6.00)\" xlink:href=\"#gpPt0\"/>\n",
       "\t<use color=\"rgb(  0,   0,   0)\" transform=\"translate(500.9,132.1) scale(6.00)\" xlink:href=\"#gpPt0\"/>\n",
       "\t<use color=\"rgb(  0,   0,   0)\" transform=\"translate(474.8,77.4) scale(6.00)\" xlink:href=\"#gpPt0\"/>\n",
       "\t<use color=\"rgb(  0,   0,   0)\" transform=\"translate(360.8,91.5) scale(6.00)\" xlink:href=\"#gpPt0\"/>\n",
       "\t<use color=\"rgb(  0,   0,   0)\" transform=\"translate(470.5,300.4) scale(6.00)\" xlink:href=\"#gpPt0\"/>\n",
       "\t<use color=\"rgb(  0,   0,   0)\" transform=\"translate(425.1,284.4) scale(6.00)\" xlink:href=\"#gpPt0\"/>\n",
       "\t<use color=\"rgb(  0,   0,   0)\" transform=\"translate(130.4,79.5) scale(6.00)\" xlink:href=\"#gpPt0\"/>\n",
       "\t<use color=\"rgb(  0,   0,   0)\" transform=\"translate(538.2,176.5) scale(6.00)\" xlink:href=\"#gpPt0\"/>\n",
       "\t<use color=\"rgb(  0,   0,   0)\" transform=\"translate(223.9,196.8) scale(6.00)\" xlink:href=\"#gpPt0\"/>\n",
       "\t<use color=\"rgb(  0,   0,   0)\" transform=\"translate(362.8,66.7) scale(6.00)\" xlink:href=\"#gpPt0\"/>\n",
       "\t<use color=\"rgb(  0,   0,   0)\" transform=\"translate(450.5,23.3) scale(6.00)\" xlink:href=\"#gpPt0\"/>\n",
       "</g>\n",
       "\t</g>\n",
       "\t<g id=\"gnuplot_plot_2a\"><title>gnuplot_plot_2a</title>\n",
       "<g style=\"fill:none; color:green; stroke:currentColor; stroke-width:0.50; stroke-linecap:butt; stroke-linejoin:miter\">\n",
       "\t<g style=\"stroke:none; fill:rgb(0,0,0); font-family:{}; font-size:10.00pt; text-anchor:end\" transform=\"translate(537.5,39.0)\">\n",
       "\t\t<text><tspan>Not admitted</tspan></text>\n",
       "\t</g>\n",
       "\t<use color=\"rgb(  0,   0,   0)\" transform=\"translate(75.8,127.5) scale(6.00)\" xlink:href=\"#gpPt5\"/>\n",
       "\t<use color=\"rgb(  0,   0,   0)\" transform=\"translate(44.8,308.1) scale(6.00)\" xlink:href=\"#gpPt5\"/>\n",
       "\t<use color=\"rgb(  0,   0,   0)\" transform=\"translate(84.6,154.6) scale(6.00)\" xlink:href=\"#gpPt5\"/>\n",
       "\t<use color=\"rgb(  0,   0,   0)\" transform=\"translate(150.6,242.4) scale(6.00)\" xlink:href=\"#gpPt5\"/>\n",
       "\t<use color=\"rgb(  0,   0,   0)\" transform=\"translate(513.5,338.1) scale(6.00)\" xlink:href=\"#gpPt5\"/>\n",
       "\t<use color=\"rgb(  0,   0,   0)\" transform=\"translate(364.5,378.4) scale(6.00)\" xlink:href=\"#gpPt5\"/>\n",
       "\t<use color=\"rgb(  0,   0,   0)\" transform=\"translate(111.0,138.1) scale(6.00)\" xlink:href=\"#gpPt5\"/>\n",
       "\t<use color=\"rgb(  0,   0,   0)\" transform=\"translate(314.0,293.4) scale(6.00)\" xlink:href=\"#gpPt5\"/>\n",
       "\t<use color=\"rgb(  0,   0,   0)\" transform=\"translate(309.9,313.7) scale(6.00)\" xlink:href=\"#gpPt5\"/>\n",
       "\t<use color=\"rgb(  0,   0,   0)\" transform=\"translate(189.6,281.9) scale(6.00)\" xlink:href=\"#gpPt5\"/>\n",
       "\t<use color=\"rgb(  0,   0,   0)\" transform=\"translate(72.9,306.4) scale(6.00)\" xlink:href=\"#gpPt5\"/>\n",
       "\t<use color=\"rgb(  0,   0,   0)\" transform=\"translate(493.9,335.0) scale(6.00)\" xlink:href=\"#gpPt5\"/>\n",
       "\t<use color=\"rgb(  0,   0,   0)\" transform=\"translate(270.3,274.4) scale(6.00)\" xlink:href=\"#gpPt5\"/>\n",
       "\t<use color=\"rgb(  0,   0,   0)\" transform=\"translate(105.6,196.5) scale(6.00)\" xlink:href=\"#gpPt5\"/>\n",
       "\t<use color=\"rgb(  0,   0,   0)\" transform=\"translate(200.8,206.4) scale(6.00)\" xlink:href=\"#gpPt5\"/>\n",
       "\t<use color=\"rgb(  0,   0,   0)\" transform=\"translate(116.0,163.8) scale(6.00)\" xlink:href=\"#gpPt5\"/>\n",
       "\t<use color=\"rgb(  0,   0,   0)\" transform=\"translate(218.9,264.1) scale(6.00)\" xlink:href=\"#gpPt5\"/>\n",
       "\t<use color=\"rgb(  0,   0,   0)\" transform=\"translate(70.8,17.3) scale(6.00)\" xlink:href=\"#gpPt5\"/>\n",
       "\t<use color=\"rgb(  0,   0,   0)\" transform=\"translate(362.9,320.4) scale(6.00)\" xlink:href=\"#gpPt5\"/>\n",
       "\t<use color=\"rgb(  0,   0,   0)\" transform=\"translate(72.7,142.3) scale(6.00)\" xlink:href=\"#gpPt5\"/>\n",
       "\t<use color=\"rgb(  0,   0,   0)\" transform=\"translate(196.8,292.4) scale(6.00)\" xlink:href=\"#gpPt5\"/>\n",
       "\t<use color=\"rgb(  0,   0,   0)\" transform=\"translate(417.1,325.4) scale(6.00)\" xlink:href=\"#gpPt5\"/>\n",
       "\t<use color=\"rgb(  0,   0,   0)\" transform=\"translate(193.2,297.9) scale(6.00)\" xlink:href=\"#gpPt5\"/>\n",
       "\t<use color=\"rgb(  0,   0,   0)\" transform=\"translate(273.1,264.9) scale(6.00)\" xlink:href=\"#gpPt5\"/>\n",
       "\t<use color=\"rgb(  0,   0,   0)\" transform=\"translate(75.1,220.8) scale(6.00)\" xlink:href=\"#gpPt5\"/>\n",
       "\t<use color=\"rgb(  0,   0,   0)\" transform=\"translate(187.8,276.8) scale(6.00)\" xlink:href=\"#gpPt5\"/>\n",
       "\t<use color=\"rgb(  0,   0,   0)\" transform=\"translate(182.8,223.9) scale(6.00)\" xlink:href=\"#gpPt5\"/>\n",
       "\t<use color=\"rgb(  0,   0,   0)\" transform=\"translate(61.2,34.6) scale(6.00)\" xlink:href=\"#gpPt5\"/>\n",
       "\t<use color=\"rgb(  0,   0,   0)\" transform=\"translate(80.6,291.6) scale(6.00)\" xlink:href=\"#gpPt5\"/>\n",
       "\t<use color=\"rgb(  0,   0,   0)\" transform=\"translate(230.4,332.6) scale(6.00)\" xlink:href=\"#gpPt5\"/>\n",
       "\t<use color=\"rgb(  0,   0,   0)\" transform=\"translate(43.2,278.0) scale(6.00)\" xlink:href=\"#gpPt5\"/>\n",
       "\t<use color=\"rgb(  0,   0,   0)\" transform=\"translate(147.6,188.8) scale(6.00)\" xlink:href=\"#gpPt5\"/>\n",
       "\t<use color=\"rgb(  0,   0,   0)\" transform=\"translate(304.1,322.9) scale(6.00)\" xlink:href=\"#gpPt5\"/>\n",
       "\t<use color=\"rgb(  0,   0,   0)\" transform=\"translate(179.1,265.8) scale(6.00)\" xlink:href=\"#gpPt5\"/>\n",
       "\t<use color=\"rgb(  0,   0,   0)\" transform=\"translate(62.3,311.2) scale(6.00)\" xlink:href=\"#gpPt5\"/>\n",
       "\t<use color=\"rgb(  0,   0,   0)\" transform=\"translate(260.5,315.4) scale(6.00)\" xlink:href=\"#gpPt5\"/>\n",
       "\t<use color=\"rgb(  0,   0,   0)\" transform=\"translate(416.1,314.3) scale(6.00)\" xlink:href=\"#gpPt5\"/>\n",
       "\t<use color=\"rgb(  0,   0,   0)\" transform=\"translate(129.1,123.2) scale(6.00)\" xlink:href=\"#gpPt5\"/>\n",
       "\t<use color=\"rgb(  0,   0,   0)\" transform=\"translate(202.5,218.8) scale(6.00)\" xlink:href=\"#gpPt5\"/>\n",
       "\t<use color=\"rgb(  0,   0,   0)\" transform=\"translate(224.9,352.1) scale(6.00)\" xlink:href=\"#gpPt5\"/>\n",
       "\t<use color=\"rgb(  0,   0,   0)\" transform=\"translate(450.5,35.3) scale(6.00)\" xlink:href=\"#gpPt5\"/>\n",
       "</g>\n",
       "\t</g>\n",
       "<g style=\"fill:none; color:black; stroke:currentColor; stroke-width:0.50; stroke-linecap:butt; stroke-linejoin:miter\">\n",
       "</g>\n",
       "</g>\n",
       "</svg>"
      ],
      "text/plain": [
       "<IPython.core.display.SVG object>"
      ]
     },
     "metadata": {},
     "output_type": "display_data"
    }
   ],
   "source": [
    "fprintf(['Plotting data with + indicating (y = 1) examples and o ' ...\n",
    "         'indicating (y = 0) examples.\\n']);\n",
    "\n",
    "plotData(X, y);\n",
    "% Put some labels \n",
    "hold on;\n",
    "% Labels and Legend\n",
    "xlabel('Exam 1 score')\n",
    "ylabel('Exam 2 score')\n",
    "\n",
    "% Specified in plot order\n",
    "legend('Admitted', 'Not admitted')\n",
    "hold off;"
   ]
  },
  {
   "cell_type": "markdown",
   "metadata": {
    "heading_collapsed": true
   },
   "source": [
    "## Compute Cost and Gradient\n",
    "### Setup the data matrix appropriately, and add ones for the intercept term"
   ]
  },
  {
   "cell_type": "code",
   "execution_count": 12,
   "metadata": {
    "ExecuteTime": {
     "end_time": "2018-08-08T05:24:49.688840Z",
     "start_time": "2018-08-08T05:24:49.628832Z"
    },
    "hidden": true
   },
   "outputs": [
    {
     "name": "stdout",
     "output_type": "stream",
     "text": [
      "Cost at initial theta (zeros): 0.693147\n",
      "Expected cost (approx): 0.693\n",
      "Gradient at initial theta (zeros): \n",
      " -0.100000 \n",
      " -12.009217 \n",
      " -11.262842 \n",
      "Expected gradients (approx):\n",
      " -0.1000\n",
      " -12.0092\n",
      " -11.2628\n",
      "\n",
      "Cost at test theta: 0.218330\n",
      "Expected cost (approx): 0.218\n",
      "Gradient at test theta: \n",
      " 0.042903 \n",
      " 2.566234 \n",
      " 2.646797 \n",
      "Expected gradients (approx):\n",
      " 0.043\n",
      " 2.566\n",
      " 2.647\n"
     ]
    }
   ],
   "source": [
    "[m, n] = size(X);\n",
    "\n",
    "% Add intercept term to x and X_test\n",
    "X = [ones(m, 1) X];\n",
    "\n",
    "% Initialize fitting parameters\n",
    "initial_theta = zeros(n + 1, 1);\n",
    "\n",
    "% Compute and display initial cost and gradient\n",
    "[cost, grad] = costFunction(initial_theta, X, y);\n",
    "\n",
    "fprintf('Cost at initial theta (zeros): %f\\n', cost);\n",
    "fprintf('Expected cost (approx): 0.693\\n');\n",
    "fprintf('Gradient at initial theta (zeros): \\n');\n",
    "fprintf(' %f \\n', grad);\n",
    "fprintf('Expected gradients (approx):\\n -0.1000\\n -12.0092\\n -11.2628\\n');\n",
    "\n",
    "% Compute and display cost and gradient with non-zero theta\n",
    "test_theta = [-24; 0.2; 0.2];\n",
    "[cost, grad] = costFunction(test_theta, X, y);\n",
    "\n",
    "fprintf('\\nCost at test theta: %f\\n', cost);\n",
    "fprintf('Expected cost (approx): 0.218\\n');\n",
    "fprintf('Gradient at test theta: \\n');\n",
    "fprintf(' %f \\n', grad);\n",
    "fprintf('Expected gradients (approx):\\n 0.043\\n 2.566\\n 2.647\\n');"
   ]
  },
  {
   "cell_type": "markdown",
   "metadata": {
    "hidden": true
   },
   "source": [
    "### Use a built-in function (fminunc) to find the optimal parameters theta."
   ]
  },
  {
   "cell_type": "code",
   "execution_count": 13,
   "metadata": {
    "ExecuteTime": {
     "end_time": "2018-08-08T05:25:51.467861Z",
     "start_time": "2018-08-08T05:25:51.042410Z"
    },
    "hidden": true
   },
   "outputs": [
    {
     "name": "stdout",
     "output_type": "stream",
     "text": [
      "Cost at theta found by fminunc: 0.203498\n",
      "Expected cost (approx): 0.203\n",
      "theta: \n",
      " -25.161272 \n",
      " 0.206233 \n",
      " 0.201470 \n",
      "Expected theta (approx):\n",
      " -25.161\n",
      " 0.206\n",
      " 0.201\n"
     ]
    },
    {
     "data": {
      "image/svg+xml": [
       "<svg height=\"420px\" viewBox=\"0 0 560 420\" width=\"560px\" xmlns=\"http://www.w3.org/2000/svg\" xmlns:xlink=\"http://www.w3.org/1999/xlink\">\n",
       "\n",
       "<title>Gnuplot</title>\n",
       "<desc>Produced by GNUPLOT 4.6 patchlevel 4 </desc>\n",
       "\n",
       "<g id=\"gnuplot_canvas\">\n",
       "\n",
       "<rect fill=\"none\" height=\"420\" width=\"560\" x=\"0\" y=\"0\"/>\n",
       "<defs>\n",
       "\n",
       "\t<circle id=\"gpDot\" r=\"0.5\" stroke-width=\"0.5\"/>\n",
       "\t<path d=\"M-1,0 h2 M0,-1 v2\" id=\"gpPt0\" stroke=\"currentColor\" stroke-width=\"0.333\"/>\n",
       "\t<path d=\"M-1,-1 L1,1 M1,-1 L-1,1\" id=\"gpPt1\" stroke=\"currentColor\" stroke-width=\"0.333\"/>\n",
       "\t<path d=\"M-1,0 L1,0 M0,-1 L0,1 M-1,-1 L1,1 M-1,1 L1,-1\" id=\"gpPt2\" stroke=\"currentColor\" stroke-width=\"0.333\"/>\n",
       "\t<rect height=\"2\" id=\"gpPt3\" stroke=\"currentColor\" stroke-width=\"0.333\" width=\"2\" x=\"-1\" y=\"-1\"/>\n",
       "\t<rect fill=\"currentColor\" height=\"2\" id=\"gpPt4\" stroke=\"currentColor\" stroke-width=\"0.333\" width=\"2\" x=\"-1\" y=\"-1\"/>\n",
       "\t<circle cx=\"0\" cy=\"0\" id=\"gpPt5\" r=\"1\" stroke=\"currentColor\" stroke-width=\"0.333\"/>\n",
       "\t<use fill=\"currentColor\" id=\"gpPt6\" stroke=\"none\" xlink:href=\"#gpPt5\"/>\n",
       "\t<path d=\"M0,-1.33 L-1.33,0.67 L1.33,0.67 z\" id=\"gpPt7\" stroke=\"currentColor\" stroke-width=\"0.333\"/>\n",
       "\t<use fill=\"currentColor\" id=\"gpPt8\" stroke=\"none\" xlink:href=\"#gpPt7\"/>\n",
       "\t<use id=\"gpPt9\" stroke=\"currentColor\" transform=\"rotate(180)\" xlink:href=\"#gpPt7\"/>\n",
       "\t<use fill=\"currentColor\" id=\"gpPt10\" stroke=\"none\" xlink:href=\"#gpPt9\"/>\n",
       "\t<use id=\"gpPt11\" stroke=\"currentColor\" transform=\"rotate(45)\" xlink:href=\"#gpPt3\"/>\n",
       "\t<use fill=\"currentColor\" id=\"gpPt12\" stroke=\"none\" xlink:href=\"#gpPt11\"/>\n",
       "</defs>\n",
       "<g style=\"fill:none; color:white; stroke:currentColor; stroke-width:1.00; stroke-linecap:butt; stroke-linejoin:miter\">\n",
       "</g>\n",
       "<g style=\"fill:none; color:black; stroke:currentColor; stroke-width:1.00; stroke-linecap:butt; stroke-linejoin:miter\">\n",
       "\t<g style=\"stroke:none; shape-rendering:crispEdges\">\n",
       "\t\t<polygon fill=\"rgb(255, 255, 255)\" points=\"42.8,381.6 543.0,381.6 543.0,11.4 42.8,11.4 \"/>\n",
       "\t</g>\n",
       "\t<path d=\"M42.8,381.6 L42.8,11.4 L543.0,11.4 L543.0,381.6 L42.8,381.6  h0.01\" stroke=\"black\"/></g>\n",
       "<g style=\"fill:none; color:black; stroke:black; stroke-width:0.50; stroke-linecap:butt; stroke-linejoin:miter\">\n",
       "\t<path d=\"M42.8,381.6 L51.2,381.6 M543.1,381.6 L534.7,381.6  h0.01\" stroke=\"black\"/>\t<g style=\"stroke:none; fill:rgb(0,0,0); font-family:{}; font-size:10.00pt; text-anchor:end\" transform=\"translate(37.2,385.3)\">\n",
       "\t\t<text><tspan>30</tspan></text>\n",
       "\t</g>\n",
       "\t<path d=\"M42.8,328.7 L51.2,328.7 M543.1,328.7 L534.7,328.7  h0.01\" stroke=\"black\"/>\t<g style=\"stroke:none; fill:rgb(0,0,0); font-family:{}; font-size:10.00pt; text-anchor:end\" transform=\"translate(37.2,332.4)\">\n",
       "\t\t<text><tspan>40</tspan></text>\n",
       "\t</g>\n",
       "\t<path d=\"M42.8,275.8 L51.2,275.8 M543.1,275.8 L534.7,275.8  h0.01\" stroke=\"black\"/>\t<g style=\"stroke:none; fill:rgb(0,0,0); font-family:{}; font-size:10.00pt; text-anchor:end\" transform=\"translate(37.2,279.5)\">\n",
       "\t\t<text><tspan>50</tspan></text>\n",
       "\t</g>\n",
       "\t<path d=\"M42.8,222.9 L51.2,222.9 M543.1,222.9 L534.7,222.9  h0.01\" stroke=\"black\"/>\t<g style=\"stroke:none; fill:rgb(0,0,0); font-family:{}; font-size:10.00pt; text-anchor:end\" transform=\"translate(37.2,226.6)\">\n",
       "\t\t<text><tspan>60</tspan></text>\n",
       "\t</g>\n",
       "\t<path d=\"M42.8,170.0 L51.2,170.0 M543.1,170.0 L534.7,170.0  h0.01\" stroke=\"black\"/>\t<g style=\"stroke:none; fill:rgb(0,0,0); font-family:{}; font-size:10.00pt; text-anchor:end\" transform=\"translate(37.2,173.7)\">\n",
       "\t\t<text><tspan>70</tspan></text>\n",
       "\t</g>\n",
       "\t<path d=\"M42.8,117.1 L51.2,117.1 M543.1,117.1 L534.7,117.1  h0.01\" stroke=\"black\"/>\t<g style=\"stroke:none; fill:rgb(0,0,0); font-family:{}; font-size:10.00pt; text-anchor:end\" transform=\"translate(37.2,120.8)\">\n",
       "\t\t<text><tspan>80</tspan></text>\n",
       "\t</g>\n",
       "\t<path d=\"M42.8,64.2 L51.2,64.2 M543.1,64.2 L534.7,64.2  h0.01\" stroke=\"black\"/>\t<g style=\"stroke:none; fill:rgb(0,0,0); font-family:{}; font-size:10.00pt; text-anchor:end\" transform=\"translate(37.2,67.9)\">\n",
       "\t\t<text><tspan>90</tspan></text>\n",
       "\t</g>\n",
       "\t<path d=\"M42.8,11.3 L51.2,11.3 M543.1,11.3 L534.7,11.3  h0.01\" stroke=\"black\"/>\t<g style=\"stroke:none; fill:rgb(0,0,0); font-family:{}; font-size:10.00pt; text-anchor:end\" transform=\"translate(37.2,15.0)\">\n",
       "\t\t<text><tspan>100</tspan></text>\n",
       "\t</g>\n",
       "\t<path d=\"M42.8,381.6 L42.8,373.2 M42.8,11.3 L42.8,19.7  h0.01\" stroke=\"black\"/>\t<g style=\"stroke:none; fill:rgb(0,0,0); font-family:{}; font-size:10.00pt; text-anchor:middle\" transform=\"translate(42.8,397.3)\">\n",
       "\t\t<text><tspan>30</tspan></text>\n",
       "\t</g>\n",
       "\t<path d=\"M114.3,381.6 L114.3,373.2 M114.3,11.3 L114.3,19.7  h0.01\" stroke=\"black\"/>\t<g style=\"stroke:none; fill:rgb(0,0,0); font-family:{}; font-size:10.00pt; text-anchor:middle\" transform=\"translate(114.3,397.3)\">\n",
       "\t\t<text><tspan>40</tspan></text>\n",
       "\t</g>\n",
       "\t<path d=\"M185.7,381.6 L185.7,373.2 M185.7,11.3 L185.7,19.7  h0.01\" stroke=\"black\"/>\t<g style=\"stroke:none; fill:rgb(0,0,0); font-family:{}; font-size:10.00pt; text-anchor:middle\" transform=\"translate(185.7,397.3)\">\n",
       "\t\t<text><tspan>50</tspan></text>\n",
       "\t</g>\n",
       "\t<path d=\"M257.2,381.6 L257.2,373.2 M257.2,11.3 L257.2,19.7  h0.01\" stroke=\"black\"/>\t<g style=\"stroke:none; fill:rgb(0,0,0); font-family:{}; font-size:10.00pt; text-anchor:middle\" transform=\"translate(257.2,397.3)\">\n",
       "\t\t<text><tspan>60</tspan></text>\n",
       "\t</g>\n",
       "\t<path d=\"M328.7,381.6 L328.7,373.2 M328.7,11.3 L328.7,19.7  h0.01\" stroke=\"black\"/>\t<g style=\"stroke:none; fill:rgb(0,0,0); font-family:{}; font-size:10.00pt; text-anchor:middle\" transform=\"translate(328.7,397.3)\">\n",
       "\t\t<text><tspan>70</tspan></text>\n",
       "\t</g>\n",
       "\t<path d=\"M400.2,381.6 L400.2,373.2 M400.2,11.3 L400.2,19.7  h0.01\" stroke=\"black\"/>\t<g style=\"stroke:none; fill:rgb(0,0,0); font-family:{}; font-size:10.00pt; text-anchor:middle\" transform=\"translate(400.2,397.3)\">\n",
       "\t\t<text><tspan>80</tspan></text>\n",
       "\t</g>\n",
       "\t<path d=\"M471.6,381.6 L471.6,373.2 M471.6,11.3 L471.6,19.7  h0.01\" stroke=\"black\"/>\t<g style=\"stroke:none; fill:rgb(0,0,0); font-family:{}; font-size:10.00pt; text-anchor:middle\" transform=\"translate(471.6,397.3)\">\n",
       "\t\t<text><tspan>90</tspan></text>\n",
       "\t</g>\n",
       "\t<path d=\"M543.1,381.6 L543.1,373.2 M543.1,11.3 L543.1,19.7  h0.01\" stroke=\"black\"/>\t<g style=\"stroke:none; fill:rgb(0,0,0); font-family:{}; font-size:10.00pt; text-anchor:middle\" transform=\"translate(543.1,397.3)\">\n",
       "\t\t<text><tspan>100</tspan></text>\n",
       "\t</g>\n",
       "\t<path d=\"M42.8,11.3 L42.8,381.6 L543.1,381.6 L543.1,11.3 L42.8,11.3 Z  h0.01\" stroke=\"black\"/>\t<g style=\"stroke:none; fill:rgb(0,0,0); font-family:{}; font-size:10.00pt; text-anchor:middle\" transform=\"translate(12.5,196.5) rotate(-90)\">\n",
       "\t\t<text><tspan>Exam 2 score</tspan></text>\n",
       "\t</g>\n",
       "\t<g style=\"stroke:none; fill:rgb(0,0,0); font-family:{}; font-size:10.00pt; text-anchor:middle\" transform=\"translate(292.9,415.3)\">\n",
       "\t\t<text><tspan>Exam 1 score</tspan></text>\n",
       "\t</g>\n",
       "</g>\n",
       "<g style=\"fill:none; color:black; stroke:black; stroke-width:1.00; stroke-linecap:butt; stroke-linejoin:miter\">\n",
       "\t<path d=\"M402.7,53.3 L402.7,17.3 L537.5,17.3 L537.5,53.3 L402.7,53.3 Z  h0.01\" stroke=\"black\"/></g>\n",
       "\t<g id=\"gnuplot_plot_1a\"><title>gnuplot_plot_1a</title>\n",
       "<g style=\"fill:none; color:white; stroke:black; stroke-width:0.50; stroke-linecap:butt; stroke-linejoin:miter\">\n",
       "</g>\n",
       "<g style=\"fill:none; color:red; stroke:currentColor; stroke-width:0.50; stroke-linecap:butt; stroke-linejoin:miter\">\n",
       "\t<g style=\"stroke:none; fill:rgb(0,0,0); font-family:{}; font-size:10.00pt; text-anchor:end\" transform=\"translate(537.5,27.0)\">\n",
       "\t\t<text><tspan>Admitted</tspan></text>\n",
       "\t</g>\n",
       "\t<use color=\"rgb(  0,   0,   0)\" transform=\"translate(258.5,83.7) scale(6.00)\" xlink:href=\"#gpPt0\"/>\n",
       "\t<use color=\"rgb(  0,   0,   0)\" transform=\"translate(393.2,141.7) scale(6.00)\" xlink:href=\"#gpPt0\"/>\n",
       "\t<use color=\"rgb(  0,   0,   0)\" transform=\"translate(265.1,29.8) scale(6.00)\" xlink:href=\"#gpPt0\"/>\n",
       "\t<use color=\"rgb(  0,   0,   0)\" transform=\"translate(364.6,294.0) scale(6.00)\" xlink:href=\"#gpPt0\"/>\n",
       "\t<use color=\"rgb(  0,   0,   0)\" transform=\"translate(372.3,77.8) scale(6.00)\" xlink:href=\"#gpPt0\"/>\n",
       "\t<use color=\"rgb(  0,   0,   0)\" transform=\"translate(431.8,310.0) scale(6.00)\" xlink:href=\"#gpPt0\"/>\n",
       "\t<use color=\"rgb(  0,   0,   0)\" transform=\"translate(416.6,135.7) scale(6.00)\" xlink:href=\"#gpPt0\"/>\n",
       "\t<use color=\"rgb(  0,   0,   0)\" transform=\"translate(324.1,23.4) scale(6.00)\" xlink:href=\"#gpPt0\"/>\n",
       "\t<use color=\"rgb(  0,   0,   0)\" transform=\"translate(214.1,68.4) scale(6.00)\" xlink:href=\"#gpPt0\"/>\n",
       "\t<use color=\"rgb(  0,   0,   0)\" transform=\"translate(322.0,261.3) scale(6.00)\" xlink:href=\"#gpPt0\"/>\n",
       "\t<use color=\"rgb(  0,   0,   0)\" transform=\"translate(333.4,48.7) scale(6.00)\" xlink:href=\"#gpPt0\"/>\n",
       "\t<use color=\"rgb(  0,   0,   0)\" transform=\"translate(378.6,288.6) scale(6.00)\" xlink:href=\"#gpPt0\"/>\n",
       "\t<use color=\"rgb(  0,   0,   0)\" transform=\"translate(469.3,192.2) scale(6.00)\" xlink:href=\"#gpPt0\"/>\n",
       "\t<use color=\"rgb(  0,   0,   0)\" transform=\"translate(385.3,175.4) scale(6.00)\" xlink:href=\"#gpPt0\"/>\n",
       "\t<use color=\"rgb(  0,   0,   0)\" transform=\"translate(273.4,170.2) scale(6.00)\" xlink:href=\"#gpPt0\"/>\n",
       "\t<use color=\"rgb(  0,   0,   0)\" transform=\"translate(401.5,303.2) scale(6.00)\" xlink:href=\"#gpPt0\"/>\n",
       "\t<use color=\"rgb(  0,   0,   0)\" transform=\"translate(267.1,155.1) scale(6.00)\" xlink:href=\"#gpPt0\"/>\n",
       "\t<use color=\"rgb(  0,   0,   0)\" transform=\"translate(438.8,238.5) scale(6.00)\" xlink:href=\"#gpPt0\"/>\n",
       "\t<use color=\"rgb(  0,   0,   0)\" transform=\"translate(200.4,173.0) scale(6.00)\" xlink:href=\"#gpPt0\"/>\n",
       "\t<use color=\"rgb(  0,   0,   0)\" transform=\"translate(287.1,112.3) scale(6.00)\" xlink:href=\"#gpPt0\"/>\n",
       "\t<use color=\"rgb(  0,   0,   0)\" transform=\"translate(428.0,242.4) scale(6.00)\" xlink:href=\"#gpPt0\"/>\n",
       "\t<use color=\"rgb(  0,   0,   0)\" transform=\"translate(503.4,193.4) scale(6.00)\" xlink:href=\"#gpPt0\"/>\n",
       "\t<use color=\"rgb(  0,   0,   0)\" transform=\"translate(380.1,167.6) scale(6.00)\" xlink:href=\"#gpPt0\"/>\n",
       "\t<use color=\"rgb(  0,   0,   0)\" transform=\"translate(527.2,81.5) scale(6.00)\" xlink:href=\"#gpPt0\"/>\n",
       "\t<use color=\"rgb(  0,   0,   0)\" transform=\"translate(272.0,28.4) scale(6.00)\" xlink:href=\"#gpPt0\"/>\n",
       "\t<use color=\"rgb(  0,   0,   0)\" transform=\"translate(482.8,71.1) scale(6.00)\" xlink:href=\"#gpPt0\"/>\n",
       "\t<use color=\"rgb(  0,   0,   0)\" transform=\"translate(399.8,148.0) scale(6.00)\" xlink:href=\"#gpPt0\"/>\n",
       "\t<use color=\"rgb(  0,   0,   0)\" transform=\"translate(537.9,217.6) scale(6.00)\" xlink:href=\"#gpPt0\"/>\n",
       "\t<use color=\"rgb(  0,   0,   0)\" transform=\"translate(475.5,310.8) scale(6.00)\" xlink:href=\"#gpPt0\"/>\n",
       "\t<use color=\"rgb(  0,   0,   0)\" transform=\"translate(526.3,176.0) scale(6.00)\" xlink:href=\"#gpPt0\"/>\n",
       "\t<use color=\"rgb(  0,   0,   0)\" transform=\"translate(359.1,170.9) scale(6.00)\" xlink:href=\"#gpPt0\"/>\n",
       "\t<use color=\"rgb(  0,   0,   0)\" transform=\"translate(341.5,125.3) scale(6.00)\" xlink:href=\"#gpPt0\"/>\n",
       "\t<use color=\"rgb(  0,   0,   0)\" transform=\"translate(367.2,86.6) scale(6.00)\" xlink:href=\"#gpPt0\"/>\n",
       "\t<use color=\"rgb(  0,   0,   0)\" transform=\"translate(117.5,24.3) scale(6.00)\" xlink:href=\"#gpPt0\"/>\n",
       "\t<use color=\"rgb(  0,   0,   0)\" transform=\"translate(402.2,53.0) scale(6.00)\" xlink:href=\"#gpPt0\"/>\n",
       "\t<use color=\"rgb(  0,   0,   0)\" transform=\"translate(305.4,217.7) scale(6.00)\" xlink:href=\"#gpPt0\"/>\n",
       "\t<use color=\"rgb(  0,   0,   0)\" transform=\"translate(286.1,127.5) scale(6.00)\" xlink:href=\"#gpPt0\"/>\n",
       "\t<use color=\"rgb(  0,   0,   0)\" transform=\"translate(345.5,31.3) scale(6.00)\" xlink:href=\"#gpPt0\"/>\n",
       "\t<use color=\"rgb(  0,   0,   0)\" transform=\"translate(260.5,153.6) scale(6.00)\" xlink:href=\"#gpPt0\"/>\n",
       "\t<use color=\"rgb(  0,   0,   0)\" transform=\"translate(248.9,139.0) scale(6.00)\" xlink:href=\"#gpPt0\"/>\n",
       "\t<use color=\"rgb(  0,   0,   0)\" transform=\"translate(541.9,157.5) scale(6.00)\" xlink:href=\"#gpPt0\"/>\n",
       "\t<use color=\"rgb(  0,   0,   0)\" transform=\"translate(166.2,72.3) scale(6.00)\" xlink:href=\"#gpPt0\"/>\n",
       "\t<use color=\"rgb(  0,   0,   0)\" transform=\"translate(189.0,139.3) scale(6.00)\" xlink:href=\"#gpPt0\"/>\n",
       "\t<use color=\"rgb(  0,   0,   0)\" transform=\"translate(463.9,171.0) scale(6.00)\" xlink:href=\"#gpPt0\"/>\n",
       "\t<use color=\"rgb(  0,   0,   0)\" transform=\"translate(506.2,298.6) scale(6.00)\" xlink:href=\"#gpPt0\"/>\n",
       "\t<use color=\"rgb(  0,   0,   0)\" transform=\"translate(309.5,188.0) scale(6.00)\" xlink:href=\"#gpPt0\"/>\n",
       "\t<use color=\"rgb(  0,   0,   0)\" transform=\"translate(237.5,225.5) scale(6.00)\" xlink:href=\"#gpPt0\"/>\n",
       "\t<use color=\"rgb(  0,   0,   0)\" transform=\"translate(402.8,59.1) scale(6.00)\" xlink:href=\"#gpPt0\"/>\n",
       "\t<use color=\"rgb(  0,   0,   0)\" transform=\"translate(317.7,87.5) scale(6.00)\" xlink:href=\"#gpPt0\"/>\n",
       "\t<use color=\"rgb(  0,   0,   0)\" transform=\"translate(367.8,62.0) scale(6.00)\" xlink:href=\"#gpPt0\"/>\n",
       "\t<use color=\"rgb(  0,   0,   0)\" transform=\"translate(390.4,29.0) scale(6.00)\" xlink:href=\"#gpPt0\"/>\n",
       "\t<use color=\"rgb(  0,   0,   0)\" transform=\"translate(500.9,132.1) scale(6.00)\" xlink:href=\"#gpPt0\"/>\n",
       "\t<use color=\"rgb(  0,   0,   0)\" transform=\"translate(474.8,77.4) scale(6.00)\" xlink:href=\"#gpPt0\"/>\n",
       "\t<use color=\"rgb(  0,   0,   0)\" transform=\"translate(360.8,91.5) scale(6.00)\" xlink:href=\"#gpPt0\"/>\n",
       "\t<use color=\"rgb(  0,   0,   0)\" transform=\"translate(470.5,300.4) scale(6.00)\" xlink:href=\"#gpPt0\"/>\n",
       "\t<use color=\"rgb(  0,   0,   0)\" transform=\"translate(425.1,284.4) scale(6.00)\" xlink:href=\"#gpPt0\"/>\n",
       "\t<use color=\"rgb(  0,   0,   0)\" transform=\"translate(130.4,79.5) scale(6.00)\" xlink:href=\"#gpPt0\"/>\n",
       "\t<use color=\"rgb(  0,   0,   0)\" transform=\"translate(538.2,176.5) scale(6.00)\" xlink:href=\"#gpPt0\"/>\n",
       "\t<use color=\"rgb(  0,   0,   0)\" transform=\"translate(223.9,196.8) scale(6.00)\" xlink:href=\"#gpPt0\"/>\n",
       "\t<use color=\"rgb(  0,   0,   0)\" transform=\"translate(362.8,66.7) scale(6.00)\" xlink:href=\"#gpPt0\"/>\n",
       "\t<use color=\"rgb(  0,   0,   0)\" transform=\"translate(422.5,23.3) scale(6.00)\" xlink:href=\"#gpPt0\"/>\n",
       "</g>\n",
       "\t</g>\n",
       "\t<g id=\"gnuplot_plot_2a\"><title>gnuplot_plot_2a</title>\n",
       "<g style=\"fill:none; color:green; stroke:currentColor; stroke-width:0.50; stroke-linecap:butt; stroke-linejoin:miter\">\n",
       "\t<g style=\"stroke:none; fill:rgb(0,0,0); font-family:{}; font-size:10.00pt; text-anchor:end\" transform=\"translate(537.5,39.0)\">\n",
       "\t\t<text><tspan>Not admitted</tspan></text>\n",
       "\t</g>\n",
       "\t<use color=\"rgb(  0,   0,   0)\" transform=\"translate(75.8,127.5) scale(6.00)\" xlink:href=\"#gpPt5\"/>\n",
       "\t<use color=\"rgb(  0,   0,   0)\" transform=\"translate(44.8,308.1) scale(6.00)\" xlink:href=\"#gpPt5\"/>\n",
       "\t<use color=\"rgb(  0,   0,   0)\" transform=\"translate(84.6,154.6) scale(6.00)\" xlink:href=\"#gpPt5\"/>\n",
       "\t<use color=\"rgb(  0,   0,   0)\" transform=\"translate(150.6,242.4) scale(6.00)\" xlink:href=\"#gpPt5\"/>\n",
       "\t<use color=\"rgb(  0,   0,   0)\" transform=\"translate(513.5,338.1) scale(6.00)\" xlink:href=\"#gpPt5\"/>\n",
       "\t<use color=\"rgb(  0,   0,   0)\" transform=\"translate(364.5,378.4) scale(6.00)\" xlink:href=\"#gpPt5\"/>\n",
       "\t<use color=\"rgb(  0,   0,   0)\" transform=\"translate(111.0,138.1) scale(6.00)\" xlink:href=\"#gpPt5\"/>\n",
       "\t<use color=\"rgb(  0,   0,   0)\" transform=\"translate(314.0,293.4) scale(6.00)\" xlink:href=\"#gpPt5\"/>\n",
       "\t<use color=\"rgb(  0,   0,   0)\" transform=\"translate(309.9,313.7) scale(6.00)\" xlink:href=\"#gpPt5\"/>\n",
       "\t<use color=\"rgb(  0,   0,   0)\" transform=\"translate(189.6,281.9) scale(6.00)\" xlink:href=\"#gpPt5\"/>\n",
       "\t<use color=\"rgb(  0,   0,   0)\" transform=\"translate(72.9,306.4) scale(6.00)\" xlink:href=\"#gpPt5\"/>\n",
       "\t<use color=\"rgb(  0,   0,   0)\" transform=\"translate(493.9,335.0) scale(6.00)\" xlink:href=\"#gpPt5\"/>\n",
       "\t<use color=\"rgb(  0,   0,   0)\" transform=\"translate(270.3,274.4) scale(6.00)\" xlink:href=\"#gpPt5\"/>\n",
       "\t<use color=\"rgb(  0,   0,   0)\" transform=\"translate(105.6,196.5) scale(6.00)\" xlink:href=\"#gpPt5\"/>\n",
       "\t<use color=\"rgb(  0,   0,   0)\" transform=\"translate(200.8,206.4) scale(6.00)\" xlink:href=\"#gpPt5\"/>\n",
       "\t<use color=\"rgb(  0,   0,   0)\" transform=\"translate(116.0,163.8) scale(6.00)\" xlink:href=\"#gpPt5\"/>\n",
       "\t<use color=\"rgb(  0,   0,   0)\" transform=\"translate(218.9,264.1) scale(6.00)\" xlink:href=\"#gpPt5\"/>\n",
       "\t<use color=\"rgb(  0,   0,   0)\" transform=\"translate(70.8,17.3) scale(6.00)\" xlink:href=\"#gpPt5\"/>\n",
       "\t<use color=\"rgb(  0,   0,   0)\" transform=\"translate(362.9,320.4) scale(6.00)\" xlink:href=\"#gpPt5\"/>\n",
       "\t<use color=\"rgb(  0,   0,   0)\" transform=\"translate(72.7,142.3) scale(6.00)\" xlink:href=\"#gpPt5\"/>\n",
       "\t<use color=\"rgb(  0,   0,   0)\" transform=\"translate(196.8,292.4) scale(6.00)\" xlink:href=\"#gpPt5\"/>\n",
       "\t<use color=\"rgb(  0,   0,   0)\" transform=\"translate(417.1,325.4) scale(6.00)\" xlink:href=\"#gpPt5\"/>\n",
       "\t<use color=\"rgb(  0,   0,   0)\" transform=\"translate(193.2,297.9) scale(6.00)\" xlink:href=\"#gpPt5\"/>\n",
       "\t<use color=\"rgb(  0,   0,   0)\" transform=\"translate(273.1,264.9) scale(6.00)\" xlink:href=\"#gpPt5\"/>\n",
       "\t<use color=\"rgb(  0,   0,   0)\" transform=\"translate(75.1,220.8) scale(6.00)\" xlink:href=\"#gpPt5\"/>\n",
       "\t<use color=\"rgb(  0,   0,   0)\" transform=\"translate(187.8,276.8) scale(6.00)\" xlink:href=\"#gpPt5\"/>\n",
       "\t<use color=\"rgb(  0,   0,   0)\" transform=\"translate(182.8,223.9) scale(6.00)\" xlink:href=\"#gpPt5\"/>\n",
       "\t<use color=\"rgb(  0,   0,   0)\" transform=\"translate(61.2,34.6) scale(6.00)\" xlink:href=\"#gpPt5\"/>\n",
       "\t<use color=\"rgb(  0,   0,   0)\" transform=\"translate(80.6,291.6) scale(6.00)\" xlink:href=\"#gpPt5\"/>\n",
       "\t<use color=\"rgb(  0,   0,   0)\" transform=\"translate(230.4,332.6) scale(6.00)\" xlink:href=\"#gpPt5\"/>\n",
       "\t<use color=\"rgb(  0,   0,   0)\" transform=\"translate(43.2,278.0) scale(6.00)\" xlink:href=\"#gpPt5\"/>\n",
       "\t<use color=\"rgb(  0,   0,   0)\" transform=\"translate(147.6,188.8) scale(6.00)\" xlink:href=\"#gpPt5\"/>\n",
       "\t<use color=\"rgb(  0,   0,   0)\" transform=\"translate(304.1,322.9) scale(6.00)\" xlink:href=\"#gpPt5\"/>\n",
       "\t<use color=\"rgb(  0,   0,   0)\" transform=\"translate(179.1,265.8) scale(6.00)\" xlink:href=\"#gpPt5\"/>\n",
       "\t<use color=\"rgb(  0,   0,   0)\" transform=\"translate(62.3,311.2) scale(6.00)\" xlink:href=\"#gpPt5\"/>\n",
       "\t<use color=\"rgb(  0,   0,   0)\" transform=\"translate(260.5,315.4) scale(6.00)\" xlink:href=\"#gpPt5\"/>\n",
       "\t<use color=\"rgb(  0,   0,   0)\" transform=\"translate(416.1,314.3) scale(6.00)\" xlink:href=\"#gpPt5\"/>\n",
       "\t<use color=\"rgb(  0,   0,   0)\" transform=\"translate(129.1,123.2) scale(6.00)\" xlink:href=\"#gpPt5\"/>\n",
       "\t<use color=\"rgb(  0,   0,   0)\" transform=\"translate(202.5,218.8) scale(6.00)\" xlink:href=\"#gpPt5\"/>\n",
       "\t<use color=\"rgb(  0,   0,   0)\" transform=\"translate(224.9,352.1) scale(6.00)\" xlink:href=\"#gpPt5\"/>\n",
       "\t<use color=\"rgb(  0,   0,   0)\" transform=\"translate(422.5,35.3) scale(6.00)\" xlink:href=\"#gpPt5\"/>\n",
       "</g>\n",
       "\t</g>\n",
       "\t<g id=\"gnuplot_plot_3a\"><title>gnuplot_plot_3a</title>\n",
       "<g style=\"fill:none; color:red; stroke:currentColor; stroke-width:0.50; stroke-linecap:butt; stroke-linejoin:miter\">\n",
       "\t<g style=\"stroke:none; fill:rgb(0,0,0); font-family:{}; font-size:10.00pt; text-anchor:end\" transform=\"translate(537.5,51.0)\">\n",
       "\t\t<text><tspan>Decision Boundary</tspan></text>\n",
       "\t</g>\n",
       "\t<path d=\"M408.3,47.3 L436.7,47.3 M42.8,42.1 L490.9,381.6  h0.01\" stroke=\"rgb(  0,   0, 255)\"/></g>\n",
       "\t</g>\n",
       "<g style=\"fill:none; color:black; stroke:currentColor; stroke-width:0.50; stroke-linecap:butt; stroke-linejoin:miter\">\n",
       "</g>\n",
       "</g>\n",
       "</svg>"
      ],
      "text/plain": [
       "<IPython.core.display.SVG object>"
      ]
     },
     "metadata": {},
     "output_type": "display_data"
    }
   ],
   "source": [
    "%  Set options for fminunc\n",
    "options = optimset('GradObj', 'on', 'MaxIter', 400);\n",
    "\n",
    "%  Run fminunc to obtain the optimal theta\n",
    "%  This function will return theta and the cost \n",
    "[theta, cost] = ...\n",
    "\tfminunc(@(t)(costFunction(t, X, y)), initial_theta, options);\n",
    "\n",
    "% Print theta to screen\n",
    "fprintf('Cost at theta found by fminunc: %f\\n', cost);\n",
    "fprintf('Expected cost (approx): 0.203\\n');\n",
    "fprintf('theta: \\n');\n",
    "fprintf(' %f \\n', theta);\n",
    "fprintf('Expected theta (approx):\\n');\n",
    "fprintf(' -25.161\\n 0.206\\n 0.201\\n');\n",
    "\n",
    "% Plot Boundary\n",
    "plotDecisionBoundary(theta, X, y);\n",
    "\n",
    "% Put some labels \n",
    "hold on;\n",
    "% Labels and Legend\n",
    "xlabel('Exam 1 score')\n",
    "ylabel('Exam 2 score')\n",
    "\n",
    "% Specified in plot order\n",
    "legend('Admitted', 'Not admitted')\n",
    "hold off;"
   ]
  },
  {
   "cell_type": "markdown",
   "metadata": {
    "heading_collapsed": true
   },
   "source": [
    "## Predict and Accuracies\n",
    "After learning the parameters, you'll like to use it to predict the outcomes on unseen data. \n",
    "In this part, we will use the logistic regression model to predict the probability that a student with score 45 on exam 1 and  score 85 on exam 2 will be admitted.\n",
    "Furthermore, we will compute the training and test set accuracies of our model."
   ]
  },
  {
   "cell_type": "code",
   "execution_count": 14,
   "metadata": {
    "ExecuteTime": {
     "end_time": "2018-08-08T05:29:09.693915Z",
     "start_time": "2018-08-08T05:29:09.667258Z"
    },
    "hidden": true
   },
   "outputs": [
    {
     "name": "stdout",
     "output_type": "stream",
     "text": [
      "For a student with scores 45 and 85, we predict an admission probability of 0.776289\n",
      "Expected value: 0.775 +/- 0.002\n",
      "\n",
      "Train Accuracy: 89.000000\n",
      "Expected accuracy (approx): 89.0\n"
     ]
    }
   ],
   "source": [
    "prob = sigmoid([1 45 85] * theta);\n",
    "fprintf(['For a student with scores 45 and 85, we predict an admission ' ...\n",
    "         'probability of %f\\n'], prob);\n",
    "fprintf('Expected value: 0.775 +/- 0.002\\n\\n');\n",
    "\n",
    "% Compute accuracy on our training set\n",
    "p = predict(theta, X);\n",
    "\n",
    "fprintf('Train Accuracy: %f\\n', mean(double(p == y)) * 100);\n",
    "fprintf('Expected accuracy (approx): 89.0\\n');"
   ]
  },
  {
   "cell_type": "code",
   "execution_count": null,
   "metadata": {
    "hidden": true
   },
   "outputs": [],
   "source": []
  }
 ],
 "metadata": {
  "kernelspec": {
   "display_name": "Octave",
   "language": "octave",
   "name": "octave"
  },
  "language_info": {
   "file_extension": ".m",
   "help_links": [
    {
     "text": "GNU Octave",
     "url": "https://www.gnu.org/software/octave/support.html"
    },
    {
     "text": "Octave Kernel",
     "url": "https://github.com/Calysto/octave_kernel"
    },
    {
     "text": "MetaKernel Magics",
     "url": "https://github.com/calysto/metakernel/blob/master/metakernel/magics/README.md"
    }
   ],
   "mimetype": "text/x-octave",
   "name": "octave",
   "version": "3.8.0"
  }
 },
 "nbformat": 4,
 "nbformat_minor": 2
}
